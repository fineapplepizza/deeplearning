{
 "cells": [
  {
   "cell_type": "code",
   "execution_count": 1,
   "id": "100ff930",
   "metadata": {},
   "outputs": [],
   "source": [
    "from tensorflow.keras.datasets import mnist"
   ]
  },
  {
   "cell_type": "markdown",
   "id": "6a33ff79",
   "metadata": {},
   "source": [
    "### 손글씨 데이터 로딩"
   ]
  },
  {
   "cell_type": "code",
   "execution_count": 2,
   "id": "48a61d09",
   "metadata": {},
   "outputs": [],
   "source": [
    "((X_train,y_train),(X_test,y_test)) = mnist.load_data()"
   ]
  },
  {
   "cell_type": "code",
   "execution_count": 3,
   "id": "2f77b8bf",
   "metadata": {},
   "outputs": [
    {
     "data": {
      "text/plain": [
       "((60000, 28, 28), (60000,))"
      ]
     },
     "execution_count": 3,
     "metadata": {},
     "output_type": "execute_result"
    }
   ],
   "source": [
    "# 손글씨 사진 데이터\n",
    "# 60000: 데이터의 수\n",
    "# 28 X 28 사진 데이터\n",
    "X_train.shape, y_train.shape"
   ]
  },
  {
   "cell_type": "code",
   "execution_count": 4,
   "id": "b3b390a5",
   "metadata": {},
   "outputs": [
    {
     "data": {
      "text/plain": [
       "((10000, 28, 28), (10000,))"
      ]
     },
     "execution_count": 4,
     "metadata": {},
     "output_type": "execute_result"
    }
   ],
   "source": [
    "X_test.shape, y_test.shape"
   ]
  },
  {
   "cell_type": "markdown",
   "id": "abc35eb4",
   "metadata": {},
   "source": [
    "#### 데이터 확인"
   ]
  },
  {
   "cell_type": "code",
   "execution_count": 5,
   "id": "05762c48",
   "metadata": {},
   "outputs": [],
   "source": [
    "import matplotlib.pyplot as plt"
   ]
  },
  {
   "cell_type": "code",
   "execution_count": 6,
   "id": "46a98328",
   "metadata": {},
   "outputs": [
    {
     "data": {
      "text/plain": [
       "<matplotlib.image.AxesImage at 0x25bb7907898>"
      ]
     },
     "execution_count": 6,
     "metadata": {},
     "output_type": "execute_result"
    },
    {
     "data": {
      "image/png": "[encoded data removed]",
      "text/plain": [
       "<Figure size 432x288 with 1 Axes>"
      ]
     },
     "metadata": {
      "needs_background": "light"
     },
     "output_type": "display_data"
    }
   ],
   "source": [
    "# cmap = plt.cm.binary : 색상 > 흑백\n",
    "plt.imshow(X_train[0], cmap = plt.cm.binary)"
   ]
  },
  {
   "cell_type": "code",
   "execution_count": 7,
   "id": "23f7f027",
   "metadata": {
    "scrolled": true
   },
   "outputs": [
    {
     "data": {
      "text/plain": [
       "array([[  0,   0,   0,   0,   0,   0,   0,   0,   0,   0,   0,   0,   0,\n",
       "          0,   0,   0,   0,   0,   0,   0,   0,   0,   0,   0,   0,   0,\n",
       "          0,   0],\n",
       "       [  0,   0,   0,   0,   0,   0,   0,   0,   0,   0,   0,   0,   0,\n",
       "          0,   0,   0,   0,   0,   0,   0,   0,   0,   0,   0,   0,   0,\n",
       "          0,   0],\n",
       "       [  0,   0,   0,   0,   0,   0,   0,   0,   0,   0,   0,   0,   0,\n",
       "          0,   0,   0,   0,   0,   0,   0,   0,   0,   0,   0,   0,   0,\n",
       "          0,   0],\n",
       "       [  0,   0,   0,   0,   0,   0,   0,   0,   0,   0,   0,   0,   0,\n",
       "          0,   0,   0,   0,   0,   0,   0,   0,   0,   0,   0,   0,   0,\n",
       "          0,   0],\n",
       "       [  0,   0,   0,   0,   0,   0,   0,   0,   0,   0,   0,   0,   0,\n",
       "          0,   0,   0,   0,   0,   0,   0,   0,   0,   0,   0,   0,   0,\n",
       "          0,   0],\n",
       "       [  0,   0,   0,   0,   0,   0,   0,   0,   0,   0,   0,   0,   3,\n",
       "         18,  18,  18, 126, 136, 175,  26, 166, 255, 247, 127,   0,   0,\n",
       "          0,   0],\n",
       "       [  0,   0,   0,   0,   0,   0,   0,   0,  30,  36,  94, 154, 170,\n",
       "        253, 253, 253, 253, 253, 225, 172, 253, 242, 195,  64,   0,   0,\n",
       "          0,   0],\n",
       "       [  0,   0,   0,   0,   0,   0,   0,  49, 238, 253, 253, 253, 253,\n",
       "        253, 253, 253, 253, 251,  93,  82,  82,  56,  39,   0,   0,   0,\n",
       "          0,   0],\n",
       "       [  0,   0,   0,   0,   0,   0,   0,  18, 219, 253, 253, 253, 253,\n",
       "        253, 198, 182, 247, 241,   0,   0,   0,   0,   0,   0,   0,   0,\n",
       "          0,   0],\n",
       "       [  0,   0,   0,   0,   0,   0,   0,   0,  80, 156, 107, 253, 253,\n",
       "        205,  11,   0,  43, 154,   0,   0,   0,   0,   0,   0,   0,   0,\n",
       "          0,   0],\n",
       "       [  0,   0,   0,   0,   0,   0,   0,   0,   0,  14,   1, 154, 253,\n",
       "         90,   0,   0,   0,   0,   0,   0,   0,   0,   0,   0,   0,   0,\n",
       "          0,   0],\n",
       "       [  0,   0,   0,   0,   0,   0,   0,   0,   0,   0,   0, 139, 253,\n",
       "        190,   2,   0,   0,   0,   0,   0,   0,   0,   0,   0,   0,   0,\n",
       "          0,   0],\n",
       "       [  0,   0,   0,   0,   0,   0,   0,   0,   0,   0,   0,  11, 190,\n",
       "        253,  70,   0,   0,   0,   0,   0,   0,   0,   0,   0,   0,   0,\n",
       "          0,   0],\n",
       "       [  0,   0,   0,   0,   0,   0,   0,   0,   0,   0,   0,   0,  35,\n",
       "        241, 225, 160, 108,   1,   0,   0,   0,   0,   0,   0,   0,   0,\n",
       "          0,   0],\n",
       "       [  0,   0,   0,   0,   0,   0,   0,   0,   0,   0,   0,   0,   0,\n",
       "         81, 240, 253, 253, 119,  25,   0,   0,   0,   0,   0,   0,   0,\n",
       "          0,   0],\n",
       "       [  0,   0,   0,   0,   0,   0,   0,   0,   0,   0,   0,   0,   0,\n",
       "          0,  45, 186, 253, 253, 150,  27,   0,   0,   0,   0,   0,   0,\n",
       "          0,   0],\n",
       "       [  0,   0,   0,   0,   0,   0,   0,   0,   0,   0,   0,   0,   0,\n",
       "          0,   0,  16,  93, 252, 253, 187,   0,   0,   0,   0,   0,   0,\n",
       "          0,   0],\n",
       "       [  0,   0,   0,   0,   0,   0,   0,   0,   0,   0,   0,   0,   0,\n",
       "          0,   0,   0,   0, 249, 253, 249,  64,   0,   0,   0,   0,   0,\n",
       "          0,   0],\n",
       "       [  0,   0,   0,   0,   0,   0,   0,   0,   0,   0,   0,   0,   0,\n",
       "          0,  46, 130, 183, 253, 253, 207,   2,   0,   0,   0,   0,   0,\n",
       "          0,   0],\n",
       "       [  0,   0,   0,   0,   0,   0,   0,   0,   0,   0,   0,   0,  39,\n",
       "        148, 229, 253, 253, 253, 250, 182,   0,   0,   0,   0,   0,   0,\n",
       "          0,   0],\n",
       "       [  0,   0,   0,   0,   0,   0,   0,   0,   0,   0,  24, 114, 221,\n",
       "        253, 253, 253, 253, 201,  78,   0,   0,   0,   0,   0,   0,   0,\n",
       "          0,   0],\n",
       "       [  0,   0,   0,   0,   0,   0,   0,   0,  23,  66, 213, 253, 253,\n",
       "        253, 253, 198,  81,   2,   0,   0,   0,   0,   0,   0,   0,   0,\n",
       "          0,   0],\n",
       "       [  0,   0,   0,   0,   0,   0,  18, 171, 219, 253, 253, 253, 253,\n",
       "        195,  80,   9,   0,   0,   0,   0,   0,   0,   0,   0,   0,   0,\n",
       "          0,   0],\n",
       "       [  0,   0,   0,   0,  55, 172, 226, 253, 253, 253, 253, 244, 133,\n",
       "         11,   0,   0,   0,   0,   0,   0,   0,   0,   0,   0,   0,   0,\n",
       "          0,   0],\n",
       "       [  0,   0,   0,   0, 136, 253, 253, 253, 212, 135, 132,  16,   0,\n",
       "          0,   0,   0,   0,   0,   0,   0,   0,   0,   0,   0,   0,   0,\n",
       "          0,   0],\n",
       "       [  0,   0,   0,   0,   0,   0,   0,   0,   0,   0,   0,   0,   0,\n",
       "          0,   0,   0,   0,   0,   0,   0,   0,   0,   0,   0,   0,   0,\n",
       "          0,   0],\n",
       "       [  0,   0,   0,   0,   0,   0,   0,   0,   0,   0,   0,   0,   0,\n",
       "          0,   0,   0,   0,   0,   0,   0,   0,   0,   0,   0,   0,   0,\n",
       "          0,   0],\n",
       "       [  0,   0,   0,   0,   0,   0,   0,   0,   0,   0,   0,   0,   0,\n",
       "          0,   0,   0,   0,   0,   0,   0,   0,   0,   0,   0,   0,   0,\n",
       "          0,   0]], dtype=uint8)"
      ]
     },
     "execution_count": 7,
     "metadata": {},
     "output_type": "execute_result"
    }
   ],
   "source": [
    "# 0 ~ 255까지의 숫자로 이루어져 있음\n",
    "# 0이 흰색\n",
    "# 255가 검은색\n",
    "X_train[0]"
   ]
  },
  {
   "cell_type": "code",
   "execution_count": 8,
   "id": "5b75fd19",
   "metadata": {},
   "outputs": [],
   "source": [
    "# 기계는 0과 1사이의 숫자를 좋아함\n",
    "# 0 ~ 255까지의 숫자를 0 ~ 1까지로 만들어줌 \n",
    "# 전체 데이터를 255로 나눠줌\n",
    "X_train = X_train.astype('float32')/255\n",
    "X_test = X_test.astype('float32')/255"
   ]
  },
  {
   "cell_type": "code",
   "execution_count": 9,
   "id": "61fa92f8",
   "metadata": {},
   "outputs": [],
   "source": [
    "# 28 X 28의 2차원 데이터를 784의 1차원 데이터로 만들어줄 필요가 있음\n",
    "# input_dim에 집어넣기 위해서 !\n",
    "X_train = X_train.reshape((60000,28*28))\n",
    "X_test = X_test.reshape((10000,784))"
   ]
  },
  {
   "cell_type": "code",
   "execution_count": 10,
   "id": "98803d3f",
   "metadata": {},
   "outputs": [
    {
     "data": {
      "text/plain": [
       "(784,)"
      ]
     },
     "execution_count": 10,
     "metadata": {},
     "output_type": "execute_result"
    }
   ],
   "source": [
    "X_train[0].shape"
   ]
  },
  {
   "cell_type": "code",
   "execution_count": 11,
   "id": "97f6277d",
   "metadata": {},
   "outputs": [
    {
     "data": {
      "text/plain": [
       "array([0, 1, 2, 3, 4, 5, 6, 7, 8, 9], dtype=uint8)"
      ]
     },
     "execution_count": 11,
     "metadata": {},
     "output_type": "execute_result"
    }
   ],
   "source": [
    "import numpy as np\n",
    "np.unique(y_train)"
   ]
  },
  {
   "cell_type": "code",
   "execution_count": 12,
   "id": "043aca38",
   "metadata": {},
   "outputs": [],
   "source": [
    "# 정답 데이터 원핫 인코딩\n",
    "import pandas as pd \n",
    "y_train = pd.get_dummies(y_train)\n",
    "y_test = pd.get_dummies(y_test)"
   ]
  },
  {
   "cell_type": "code",
   "execution_count": 13,
   "id": "1078c868",
   "metadata": {},
   "outputs": [],
   "source": [
    "# 입력층 개수: 784\n",
    "# 출력층 개수: 10"
   ]
  },
  {
   "cell_type": "code",
   "execution_count": 14,
   "id": "c28232f9",
   "metadata": {},
   "outputs": [],
   "source": [
    "import tensorflow as tf\n",
    "seed = 100\n",
    "np.random.seed(seed)\n",
    "tf.random.set_seed(seed)"
   ]
  },
  {
   "cell_type": "code",
   "execution_count": 15,
   "id": "7c6e47c3",
   "metadata": {},
   "outputs": [],
   "source": [
    "# 모델설계\n",
    "from tensorflow.keras import Sequential\n",
    "from tensorflow.keras.layers import Dense\n",
    "model = Sequential()\n",
    "# 입력층, 중간층의 활성화 함수: sigmoid\n",
    "#입력층\n",
    "model.add(Dense(units=1000, input_dim=784, activation='sigmoid' ))\n",
    "#중간층\n",
    "model.add(Dense(units= 500, activation='sigmoid'))\n",
    "model.add(Dense(units=250, activation = 'sigmoid'))\n",
    "model.add(Dense(units=125, activation = 'sigmoid'))\n",
    "model.add(Dense(units=60, activation = 'sigmoid'))\n",
    "model.add(Dense(units=30, activation = 'sigmoid'))\n",
    "model.add(Dense(units=15, activation ='sigmoid'))\n",
    "# 출력층의 활성화함수: softmax\n",
    "model.add(Dense(units=10,activation ='softmax'))"
   ]
  },
  {
   "cell_type": "code",
   "execution_count": 16,
   "id": "9fa88d65",
   "metadata": {},
   "outputs": [
    {
     "name": "stdout",
     "output_type": "stream",
     "text": [
      "Model: \"sequential\"\n",
      "_________________________________________________________________\n",
      "Layer (type)                 Output Shape              Param #   \n",
      "=================================================================\n",
      "dense (Dense)                (None, 1000)              785000    \n",
      "_________________________________________________________________\n",
      "dense_1 (Dense)              (None, 500)               500500    \n",
      "_________________________________________________________________\n",
      "dense_2 (Dense)              (None, 250)               125250    \n",
      "_________________________________________________________________\n",
      "dense_3 (Dense)              (None, 125)               31375     \n",
      "_________________________________________________________________\n",
      "dense_4 (Dense)              (None, 60)                7560      \n",
      "_________________________________________________________________\n",
      "dense_5 (Dense)              (None, 30)                1830      \n",
      "_________________________________________________________________\n",
      "dense_6 (Dense)              (None, 15)                465       \n",
      "_________________________________________________________________\n",
      "dense_7 (Dense)              (None, 10)                160       \n",
      "=================================================================\n",
      "Total params: 1,452,140\n",
      "Trainable params: 1,452,140\n",
      "Non-trainable params: 0\n",
      "_________________________________________________________________\n"
     ]
    }
   ],
   "source": [
    "model.summary()"
   ]
  },
  {
   "cell_type": "code",
   "execution_count": 17,
   "id": "0290e113",
   "metadata": {},
   "outputs": [],
   "source": [
    "# 모델 학습 방법 설정\n",
    "# loss = categorical_crossentropy\n",
    "# optimizer = 'adam'\n",
    "# metrics = accracy\n",
    "model.compile(loss='categorical_crossentropy',\n",
    "             optimizer='adam',\n",
    "             metrics = ['accuracy'])"
   ]
  },
  {
   "cell_type": "code",
   "execution_count": 18,
   "id": "46b37011",
   "metadata": {},
   "outputs": [
    {
     "data": {
      "text/plain": [
       "((60000, 784), (10000, 784), (60000, 10), (10000, 10))"
      ]
     },
     "execution_count": 18,
     "metadata": {},
     "output_type": "execute_result"
    }
   ],
   "source": [
    "X_train.shape, X_test.shape, y_train.shape, y_test.shape"
   ]
  },
  {
   "cell_type": "code",
   "execution_count": 19,
   "id": "98e4ebce",
   "metadata": {},
   "outputs": [
    {
     "name": "stdout",
     "output_type": "stream",
     "text": [
      "Train on 60000 samples, validate on 10000 samples\n",
      "Epoch 1/20\n",
      "60000/60000 [==============================] - 4s 70us/sample - loss: 1.7512 - accuracy: 0.3083 - val_loss: 1.2732 - val_accuracy: 0.4655\n",
      "Epoch 2/20\n",
      "60000/60000 [==============================] - 3s 53us/sample - loss: 1.0889 - accuracy: 0.5533 - val_loss: 0.8565 - val_accuracy: 0.8017\n",
      "Epoch 3/20\n",
      "60000/60000 [==============================] - 3s 53us/sample - loss: 0.5088 - accuracy: 0.8564 - val_loss: 0.3563 - val_accuracy: 0.9430\n",
      "Epoch 4/20\n",
      "60000/60000 [==============================] - 3s 52us/sample - loss: 0.2513 - accuracy: 0.9547 - val_loss: 0.1890 - val_accuracy: 0.9630\n",
      "Epoch 5/20\n",
      "60000/60000 [==============================] - 3s 53us/sample - loss: 0.1539 - accuracy: 0.9683 - val_loss: 0.1962 - val_accuracy: 0.9565\n",
      "Epoch 6/20\n",
      "60000/60000 [==============================] - 3s 53us/sample - loss: 0.1107 - accuracy: 0.9753 - val_loss: 0.1360 - val_accuracy: 0.9685\n",
      "Epoch 7/20\n",
      "60000/60000 [==============================] - 3s 53us/sample - loss: 0.0857 - accuracy: 0.9808 - val_loss: 0.1315 - val_accuracy: 0.9715\n",
      "Epoch 8/20\n",
      "60000/60000 [==============================] - 3s 54us/sample - loss: 0.0693 - accuracy: 0.9840 - val_loss: 0.1138 - val_accuracy: 0.9745\n",
      "Epoch 9/20\n",
      "60000/60000 [==============================] - 3s 53us/sample - loss: 0.0575 - accuracy: 0.9868 - val_loss: 0.1134 - val_accuracy: 0.9757\n",
      "Epoch 10/20\n",
      "60000/60000 [==============================] - 3s 54us/sample - loss: 0.0462 - accuracy: 0.9889 - val_loss: 0.1042 - val_accuracy: 0.9776\n",
      "Epoch 11/20\n",
      "60000/60000 [==============================] - 3s 53us/sample - loss: 0.0406 - accuracy: 0.9909 - val_loss: 0.1001 - val_accuracy: 0.9780\n",
      "Epoch 12/20\n",
      "60000/60000 [==============================] - 3s 53us/sample - loss: 0.0342 - accuracy: 0.9924 - val_loss: 0.1123 - val_accuracy: 0.9751\n",
      "Epoch 13/20\n",
      "60000/60000 [==============================] - 3s 53us/sample - loss: 0.0302 - accuracy: 0.9931 - val_loss: 0.0978 - val_accuracy: 0.9792\n",
      "Epoch 14/20\n",
      "60000/60000 [==============================] - 3s 53us/sample - loss: 0.0269 - accuracy: 0.9937 - val_loss: 0.1080 - val_accuracy: 0.9772\n",
      "Epoch 15/20\n",
      "60000/60000 [==============================] - 3s 53us/sample - loss: 0.0231 - accuracy: 0.9950 - val_loss: 0.1044 - val_accuracy: 0.9793\n",
      "Epoch 16/20\n",
      "60000/60000 [==============================] - 3s 54us/sample - loss: 0.0195 - accuracy: 0.9955 - val_loss: 0.1074 - val_accuracy: 0.9797\n",
      "Epoch 17/20\n",
      "60000/60000 [==============================] - 3s 53us/sample - loss: 0.0206 - accuracy: 0.9954 - val_loss: 0.1124 - val_accuracy: 0.9801\n",
      "Epoch 18/20\n",
      "60000/60000 [==============================] - 3s 53us/sample - loss: 0.0174 - accuracy: 0.9962 - val_loss: 0.1133 - val_accuracy: 0.9797\n",
      "Epoch 19/20\n",
      "60000/60000 [==============================] - 3s 52us/sample - loss: 0.0160 - accuracy: 0.9962 - val_loss: 0.1157 - val_accuracy: 0.9804\n",
      "Epoch 20/20\n",
      "60000/60000 [==============================] - 3s 53us/sample - loss: 0.0151 - accuracy: 0.9966 - val_loss: 0.1186 - val_accuracy: 0.9784\n"
     ]
    }
   ],
   "source": [
    "# 모델 학습\n",
    "# epochs = 20 \n",
    "history1 = model.fit(X_train,y_train,epochs=20, validation_data=[X_test,y_test])"
   ]
  },
  {
   "cell_type": "code",
   "execution_count": 20,
   "id": "281235c5",
   "metadata": {},
   "outputs": [
    {
     "name": "stdout",
     "output_type": "stream",
     "text": [
      "10000/10000 [==============================] - 0s 37us/sample - loss: 0.1186 - accuracy: 0.9784\n"
     ]
    },
    {
     "data": {
      "text/plain": [
       "[0.11864594642966986, 0.9784]"
      ]
     },
     "execution_count": 20,
     "metadata": {},
     "output_type": "execute_result"
    }
   ],
   "source": [
    "# 모델 평가\n",
    "model.evaluate(X_test,y_test)"
   ]
  },
  {
   "cell_type": "code",
   "execution_count": 21,
   "id": "2a931390",
   "metadata": {},
   "outputs": [
    {
     "name": "stdout",
     "output_type": "stream",
     "text": [
      "Train on 60000 samples, validate on 10000 samples\n",
      "Epoch 1/20\n",
      "60000/60000 [==============================] - 4s 60us/sample - loss: 0.2756 - accuracy: 0.9202 - val_loss: 0.1430 - val_accuracy: 0.9613\n",
      "Epoch 2/20\n",
      "60000/60000 [==============================] - 3s 53us/sample - loss: 0.1164 - accuracy: 0.9690 - val_loss: 0.1325 - val_accuracy: 0.9662\n",
      "Epoch 3/20\n",
      "60000/60000 [==============================] - 3s 53us/sample - loss: 0.0825 - accuracy: 0.9773 - val_loss: 0.1032 - val_accuracy: 0.9728\n",
      "Epoch 4/20\n",
      "60000/60000 [==============================] - 3s 52us/sample - loss: 0.0678 - accuracy: 0.9822 - val_loss: 0.1061 - val_accuracy: 0.9752\n",
      "Epoch 5/20\n",
      "60000/60000 [==============================] - 3s 52us/sample - loss: 0.0570 - accuracy: 0.9847 - val_loss: 0.0832 - val_accuracy: 0.9794\n",
      "Epoch 6/20\n",
      "60000/60000 [==============================] - 3s 53us/sample - loss: 0.0471 - accuracy: 0.9879 - val_loss: 0.0894 - val_accuracy: 0.9787\n",
      "Epoch 7/20\n",
      "60000/60000 [==============================] - 3s 53us/sample - loss: 0.0423 - accuracy: 0.9888 - val_loss: 0.0951 - val_accuracy: 0.9763\n",
      "Epoch 8/20\n",
      "60000/60000 [==============================] - 3s 52us/sample - loss: 0.0364 - accuracy: 0.9907 - val_loss: 0.1034 - val_accuracy: 0.9778\n",
      "Epoch 9/20\n",
      "60000/60000 [==============================] - 3s 53us/sample - loss: 0.0324 - accuracy: 0.9920 - val_loss: 0.0883 - val_accuracy: 0.9819\n",
      "Epoch 10/20\n",
      "60000/60000 [==============================] - 3s 52us/sample - loss: 0.0309 - accuracy: 0.9924 - val_loss: 0.0909 - val_accuracy: 0.9804\n",
      "Epoch 11/20\n",
      "60000/60000 [==============================] - 3s 52us/sample - loss: 0.0287 - accuracy: 0.9923 - val_loss: 0.0949 - val_accuracy: 0.9789\n",
      "Epoch 12/20\n",
      "60000/60000 [==============================] - 3s 52us/sample - loss: 0.0293 - accuracy: 0.9932 - val_loss: 0.0962 - val_accuracy: 0.9787\n",
      "Epoch 13/20\n",
      "60000/60000 [==============================] - 3s 53us/sample - loss: 0.0237 - accuracy: 0.9942 - val_loss: 0.1089 - val_accuracy: 0.9800\n",
      "Epoch 14/20\n",
      "60000/60000 [==============================] - 3s 53us/sample - loss: 0.0232 - accuracy: 0.9950 - val_loss: 0.0994 - val_accuracy: 0.9810\n",
      "Epoch 15/20\n",
      "60000/60000 [==============================] - 3s 53us/sample - loss: 0.0222 - accuracy: 0.9949 - val_loss: 0.1309 - val_accuracy: 0.9826\n",
      "Epoch 16/20\n",
      "60000/60000 [==============================] - 3s 53us/sample - loss: 0.0212 - accuracy: 0.9948 - val_loss: 0.0947 - val_accuracy: 0.9833\n",
      "Epoch 17/20\n",
      "60000/60000 [==============================] - 3s 54us/sample - loss: 0.0162 - accuracy: 0.9963 - val_loss: 0.1063 - val_accuracy: 0.9822\n",
      "Epoch 18/20\n",
      "60000/60000 [==============================] - 3s 53us/sample - loss: 0.0164 - accuracy: 0.9961 - val_loss: 0.0964 - val_accuracy: 0.9812\n",
      "Epoch 19/20\n",
      "60000/60000 [==============================] - 3s 53us/sample - loss: 0.0187 - accuracy: 0.9953 - val_loss: 0.1320 - val_accuracy: 0.9827\n",
      "Epoch 20/20\n",
      "60000/60000 [==============================] - 3s 54us/sample - loss: 0.0186 - accuracy: 0.9958 - val_loss: 0.0983 - val_accuracy: 0.9812\n"
     ]
    }
   ],
   "source": [
    "# 모든 조건은 동일 \n",
    "# model2라는 딥러닝 모델 설계\n",
    "# 입력층과 중간층의 활성화함수 sigmoid > relu\n",
    "# history2 = model2.fit()\n",
    "model2 = Sequential()\n",
    "# 입력층, 중간층의 활성화 함수: relu\n",
    "#입력층\n",
    "model2.add(Dense(units=1000, input_dim=784, activation='relu' ))\n",
    "#중간층\n",
    "model2.add(Dense(units= 500, activation='relu'))\n",
    "model2.add(Dense(units=250, activation = 'relu'))\n",
    "model2.add(Dense(units=125, activation = 'relu'))\n",
    "model2.add(Dense(units=60, activation = 'relu'))\n",
    "model2.add(Dense(units=30, activation = 'relu'))\n",
    "model2.add(Dense(units=15, activation ='relu'))\n",
    "# 출력층의 활성화함수: softmax\n",
    "model2.add(Dense(units=10,activation ='softmax'))\n",
    "\n",
    "model2.compile(loss='categorical_crossentropy',\n",
    "             optimizer='adam',\n",
    "             metrics = ['accuracy'])\n",
    "\n",
    "history2 = model2.fit(X_train,y_train,epochs=20, validation_data=[X_test,y_test])"
   ]
  },
  {
   "cell_type": "code",
   "execution_count": 22,
   "id": "d806f606",
   "metadata": {},
   "outputs": [],
   "source": [
    "#model1 > 입력층, 중간층 활성화함수: sigmoid >history1\n",
    "#model2 > 입력층, 중간층 활성화함수: relu>history2"
   ]
  },
  {
   "cell_type": "code",
   "execution_count": 23,
   "id": "1b8de841",
   "metadata": {},
   "outputs": [
    {
     "data": {
      "image/png": "[encoded data removed]",
      "text/plain": [
       "<Figure size 720x360 with 1 Axes>"
      ]
     },
     "metadata": {
      "needs_background": "light"
     },
     "output_type": "display_data"
    }
   ],
   "source": [
    "plt.figure(figsize=(10,5))\n",
    "\n",
    "plt.plot(range(20),history1.history['accuracy'],label='model1')\n",
    "plt.plot(range(20),history2.history['accuracy'],label='model2')\n",
    "\n",
    "plt.legend()\n",
    "plt.show()"
   ]
  },
  {
   "cell_type": "code",
   "execution_count": 24,
   "id": "9fa22540",
   "metadata": {},
   "outputs": [
    {
     "data": {
      "text/plain": [
       "[1.751210428237915,\n",
       " 1.0889288537661235,\n",
       " 0.5087685074051221,\n",
       " 0.2512601806998253,\n",
       " 0.1539233210494121,\n",
       " 0.11074703276554744,\n",
       " 0.08568106169700622,\n",
       " 0.06928911971524358,\n",
       " 0.05746918261696895,\n",
       " 0.046185391195863484,\n",
       " 0.040626416210457685,\n",
       " 0.034157935567076005,\n",
       " 0.03021530294070641,\n",
       " 0.02691468236471216,\n",
       " 0.023126897630654276,\n",
       " 0.01946408672997107,\n",
       " 0.020649619556342563,\n",
       " 0.017397870438235503,\n",
       " 0.015980162306626636,\n",
       " 0.015081549642731746]"
      ]
     },
     "execution_count": 24,
     "metadata": {},
     "output_type": "execute_result"
    }
   ],
   "source": [
    "# model1에서 epochs를 돌린 결과가 들어있음\n",
    "# history라는 함수를 통해서 accuracy\n",
    "history1.history['loss']"
   ]
  },
  {
   "cell_type": "code",
   "execution_count": 25,
   "id": "d07f4b90",
   "metadata": {},
   "outputs": [],
   "source": [
    "# jpg > 컬러사진\n",
    "# gif > 흑백사진"
   ]
  },
  {
   "cell_type": "markdown",
   "id": "780a43d4",
   "metadata": {},
   "source": [
    "직접 그린 그림 불러오기"
   ]
  },
  {
   "cell_type": "code",
   "execution_count": 26,
   "id": "0218c535",
   "metadata": {},
   "outputs": [],
   "source": [
    "import PIL.Image as pimg"
   ]
  },
  {
   "cell_type": "code",
   "execution_count": 27,
   "id": "9259b80d",
   "metadata": {},
   "outputs": [
    {
     "data": {
      "text/plain": [
       "<matplotlib.image.AxesImage at 0x25daa0c2da0>"
      ]
     },
     "execution_count": 27,
     "metadata": {},
     "output_type": "execute_result"
    },
    {
     "data": {
      "image/png": "[encoded data removed]",
      "text/plain": [
       "<Figure size 432x288 with 1 Axes>"
      ]
     },
     "metadata": {
      "needs_background": "light"
     },
     "output_type": "display_data"
    }
   ],
   "source": [
    "img_num = pimg.open('num3.gif')\n",
    "plt.imshow(img_num)"
   ]
  },
  {
   "cell_type": "code",
   "execution_count": 28,
   "id": "c2da584c",
   "metadata": {
    "scrolled": true
   },
   "outputs": [
    {
     "data": {
      "image/png": "[encoded data removed]",
      "text/plain": [
       "<PIL.GifImagePlugin.GifImageFile image mode=P size=28x28 at 0x25B93903A58>"
      ]
     },
     "execution_count": 28,
     "metadata": {},
     "output_type": "execute_result"
    }
   ],
   "source": [
    "# 28*28 2차원 데이터 > 784의 1차원 데이터로 변환\n",
    "# 0 ~ 255사이의 픽셀값 > 0 ~1사이의 픽셀값-\n",
    "img_num"
   ]
  },
  {
   "cell_type": "code",
   "execution_count": 29,
   "id": "bf5a3018",
   "metadata": {
    "scrolled": true
   },
   "outputs": [
    {
     "data": {
      "text/plain": [
       "array([[251, 251, 251, 251, 251, 251, 251, 251, 251, 251, 251, 251, 251,\n",
       "        251, 251, 251, 251, 251, 251, 251, 251, 251, 251, 251, 251, 251,\n",
       "        251, 251],\n",
       "       [251, 251, 251, 251, 251, 251, 251, 251, 251, 251, 251, 251, 251,\n",
       "        251, 251, 251, 251, 251, 251, 251, 251, 251, 251, 251, 251, 251,\n",
       "        251, 251],\n",
       "       [251, 251, 251, 251, 251, 251, 251, 251, 251, 251, 251, 251, 251,\n",
       "        251, 251, 251, 251, 251, 251, 251, 251, 251, 251, 251, 251, 251,\n",
       "        251, 251],\n",
       "       [251, 251, 251, 251, 251, 251, 251, 251, 251, 251, 251, 251, 251,\n",
       "        251, 251, 251, 251, 251, 251, 251, 251, 251, 251, 251, 251, 251,\n",
       "        251, 251],\n",
       "       [251, 251, 251, 251, 251, 153,  49,   0,   0,   0,   0,   0,   0,\n",
       "          0,   0,  43, 153, 251, 251, 251, 251, 251, 251, 251, 251, 251,\n",
       "        251, 251],\n",
       "       [251, 251, 251, 251, 196,   0,   0,   0,   0,   0,   0,   0,   0,\n",
       "          0,   0,   0,   0, 251, 251, 251, 251, 251, 251, 251, 251, 251,\n",
       "        251, 251],\n",
       "       [251, 251, 251, 251,   6,   0,   0,   0,   0,   0,   0,   0,   0,\n",
       "          0,   0,   0,   0, 251, 251, 251, 251, 251, 251, 251, 251, 251,\n",
       "        251, 251],\n",
       "       [251, 251, 251, 251, 147,   0,   0,  98, 251, 251, 251, 251, 251,\n",
       "        196,   0,   0,   0, 251, 251, 251, 251, 251, 251, 251, 251, 251,\n",
       "        251, 251],\n",
       "       [251, 251, 251, 251, 251, 251, 251, 251, 251, 251, 251, 251, 251,\n",
       "          6,   0,   0,   0, 251, 251, 251, 251, 251, 251, 251, 251, 251,\n",
       "        251, 251],\n",
       "       [251, 251, 251, 251, 251, 251, 251, 251, 251, 196,   6,   0,   0,\n",
       "          0,   0,   0,  98, 251, 251, 251, 251, 251, 251, 251, 251, 251,\n",
       "        251, 251],\n",
       "       [251, 251, 251, 251, 251, 251, 196,   6,   0,   0,   0,   0,   0,\n",
       "          0,   0,  98, 251, 251, 251, 251, 251, 251, 251, 251, 251, 251,\n",
       "        251, 251],\n",
       "       [251, 251, 251, 251, 251, 251,   6,   0,   0,   0,   0,   0,   0,\n",
       "          0,  49, 251, 251, 251, 251, 251, 251, 251, 251, 251, 251, 251,\n",
       "        251, 251],\n",
       "       [251, 251, 251, 251, 251, 251, 147,   0,   0,   0,   0,   0,   0,\n",
       "          0,   0, 153, 251, 251, 251, 251, 251, 251, 251, 251, 251, 251,\n",
       "        251, 251],\n",
       "       [251, 251, 251, 251, 251, 251, 251, 251, 251, 251, 147,   0,   0,\n",
       "          0,   0,   0, 251, 251, 251, 251, 251, 251, 251, 251, 251, 251,\n",
       "        251, 251],\n",
       "       [251, 251, 251, 251, 251, 251, 251, 251, 251, 251, 251, 251, 147,\n",
       "          0,   0,   0, 251, 251, 251, 251, 251, 251, 251, 251, 251, 251,\n",
       "        251, 251],\n",
       "       [251, 251, 251, 251, 251, 251, 251, 251, 251, 251, 251, 251, 251,\n",
       "          0,   0,   0, 251, 251, 251, 251, 251, 251, 251, 251, 251, 251,\n",
       "        251, 251],\n",
       "       [251, 251, 251, 251, 251, 251, 251, 251, 251, 251, 251, 251, 251,\n",
       "          0,   0,   0, 251, 251, 251, 251, 251, 251, 251, 251, 251, 251,\n",
       "        251, 251],\n",
       "       [251, 251, 251, 251, 251, 251, 251, 251, 251, 251, 251, 251, 251,\n",
       "          0,   0,   0, 251, 251, 251, 251, 251, 251, 251, 251, 251, 251,\n",
       "        251, 251],\n",
       "       [251, 251, 251, 251, 251, 196,  49, 153, 251, 251, 251, 202,   0,\n",
       "          0,   0,   0, 251, 251, 251, 251, 251, 251, 251, 251, 251, 251,\n",
       "        251, 251],\n",
       "       [251, 251, 251, 251, 251,   6,   0,   0,   0,   0,   0,   0,   0,\n",
       "          0,   0,   0, 251, 251, 251, 251, 251, 251, 251, 251, 251, 251,\n",
       "        251, 251],\n",
       "       [251, 251, 251, 251, 251,  98,   0,   0,   0,   0,   0,   0,   0,\n",
       "          0,   0,  98, 251, 251, 251, 251, 251, 251, 251, 251, 251, 251,\n",
       "        251, 251],\n",
       "       [251, 251, 251, 251, 251, 251,  98,   0,   0,   0,   0,   0,   0,\n",
       "         98, 251, 251, 251, 251, 251, 251, 251, 251, 251, 251, 251, 251,\n",
       "        251, 251],\n",
       "       [251, 251, 251, 251, 251, 251, 251, 251, 251, 251, 251, 251, 251,\n",
       "        251, 251, 251, 251, 251, 251, 251, 251, 251, 251, 251, 251, 251,\n",
       "        251, 251],\n",
       "       [251, 251, 251, 251, 251, 251, 251, 251, 251, 251, 251, 251, 251,\n",
       "        251, 251, 251, 251, 251, 251, 251, 251, 251, 251, 251, 251, 251,\n",
       "        251, 251],\n",
       "       [251, 251, 251, 251, 251, 251, 251, 251, 251, 251, 251, 251, 251,\n",
       "        251, 251, 251, 251, 251, 251, 251, 251, 251, 251, 251, 251, 251,\n",
       "        251, 251],\n",
       "       [251, 251, 251, 251, 251, 251, 251, 251, 251, 251, 251, 251, 251,\n",
       "        251, 251, 251, 251, 251, 251, 251, 251, 251, 251, 251, 251, 251,\n",
       "        251, 251],\n",
       "       [251, 251, 251, 251, 251, 251, 251, 251, 251, 251, 251, 251, 251,\n",
       "        251, 251, 251, 251, 251, 251, 251, 251, 251, 251, 251, 251, 251,\n",
       "        251, 251],\n",
       "       [251, 251, 251, 251, 251, 251, 251, 251, 251, 251, 251, 251, 251,\n",
       "        251, 251, 251, 251, 251, 251, 251, 251, 251, 251, 251, 251, 251,\n",
       "        251, 251]], dtype=uint8)"
      ]
     },
     "execution_count": 29,
     "metadata": {},
     "output_type": "execute_result"
    }
   ],
   "source": [
    "num=np.array(img_num)\n",
    "num"
   ]
  },
  {
   "cell_type": "code",
   "execution_count": 30,
   "id": "674ea43b",
   "metadata": {},
   "outputs": [],
   "source": [
    "# 기존에는 흰색 > 0 검은색>255\n",
    "# 지금은 흰색이 > 255 검은색 >0 \n",
    "num = 255 - num"
   ]
  },
  {
   "cell_type": "code",
   "execution_count": 31,
   "id": "db09deb9",
   "metadata": {},
   "outputs": [],
   "source": [
    "# 1차원 데이터로 변환\n",
    "num = num.reshape(1,784)\n",
    "num = num.astype('float32')/255"
   ]
  },
  {
   "cell_type": "code",
   "execution_count": 32,
   "id": "bccc44b9",
   "metadata": {},
   "outputs": [
    {
     "data": {
      "text/plain": [
       "array([[ 0,  0,  0, 99,  0,  0,  0,  0,  0,  0]])"
      ]
     },
     "execution_count": 32,
     "metadata": {},
     "output_type": "execute_result"
    }
   ],
   "source": [
    "(model2.predict(num)*100).astype('int')"
   ]
  },
  {
   "cell_type": "code",
   "execution_count": 33,
   "id": "444723ee",
   "metadata": {},
   "outputs": [
    {
     "data": {
      "text/plain": [
       "array([3], dtype=int64)"
      ]
     },
     "execution_count": 33,
     "metadata": {},
     "output_type": "execute_result"
    }
   ],
   "source": [
    "model2.predict_classes(num)"
   ]
  },
  {
   "cell_type": "markdown",
   "id": "ca963104",
   "metadata": {},
   "source": [
    "#### 모델 저장"
   ]
  },
  {
   "cell_type": "code",
   "execution_count": 34,
   "id": "e71d8c3a",
   "metadata": {},
   "outputs": [],
   "source": [
    "model2.save('./model/model_handnum1.h5') #model폴더/파일이름.파일형식"
   ]
  },
  {
   "cell_type": "code",
   "execution_count": 35,
   "id": "f1e21f3c",
   "metadata": {},
   "outputs": [],
   "source": [
    "#모델 불러오기\n",
    "from tensorflow.keras.models import load_model\n",
    "\n",
    "model3 = load_model('./model/model_handnum1.h5')"
   ]
  },
  {
   "cell_type": "code",
   "execution_count": 36,
   "id": "f8b52f59",
   "metadata": {},
   "outputs": [
    {
     "name": "stdout",
     "output_type": "stream",
     "text": [
      "60000/60000 [==============================] - 2s 32us/sample - loss: 0.0201 - accuracy: 0.9947\n"
     ]
    },
    {
     "data": {
      "text/plain": [
       "[0.020145516184974257, 0.99473333]"
      ]
     },
     "execution_count": 36,
     "metadata": {},
     "output_type": "execute_result"
    }
   ],
   "source": [
    "model3.evaluate(X_train,y_train)"
   ]
  },
  {
   "cell_type": "code",
   "execution_count": 37,
   "id": "2c75a26a",
   "metadata": {},
   "outputs": [
    {
     "name": "stdout",
     "output_type": "stream",
     "text": [
      "60000/60000 [==============================] - 2s 33us/sample - loss: 0.0010 - accuracy: 0.9997\n"
     ]
    },
    {
     "data": {
      "text/plain": [
       "[0.001041066051255196, 0.99965]"
      ]
     },
     "execution_count": 37,
     "metadata": {},
     "output_type": "execute_result"
    }
   ],
   "source": [
    "model_youngsun=load_model('./model/youngsun.h5')\n",
    "model_youngsun.evaluate(X_train,y_train)"
   ]
  },
  {
   "cell_type": "code",
   "execution_count": 38,
   "id": "050b8711",
   "metadata": {},
   "outputs": [],
   "source": [
    "#딥러닝에서 교차검증\n",
    "from sklearn.model_selection import KFold, cross_val_score"
   ]
  },
  {
   "cell_type": "code",
   "execution_count": 39,
   "id": "ec2987f0",
   "metadata": {},
   "outputs": [],
   "source": [
    "def deep_model():\n",
    "    model2 = Sequential()\n",
    "# 입력층, 중간층의 활성화 함수: relu\n",
    "#입력층\n",
    "    model2.add(Dense(units=1000, input_dim=784, activation='relu' ))\n",
    "#중간층\n",
    "    model2.add(Dense(units= 500, activation='relu'))\n",
    "    model2.add(Dense(units=250, activation = 'relu'))\n",
    "    model2.add(Dense(units=125, activation = 'relu'))\n",
    "    model2.add(Dense(units=60, activation = 'relu'))\n",
    "    model2.add(Dense(units=30, activation = 'relu'))\n",
    "    model2.add(Dense(units=15, activation ='relu'))\n",
    "# 출력층의 활성화함수: softmax\n",
    "    model2.add(Dense(units=10,activation ='softmax'))\n",
    "\n",
    "    model2.compile(loss='categorical_crossentropy',\n",
    "                 optimizer='adam',\n",
    "                 metrics = ['accuracy'])\n",
    "    return model2 #생성한 모델과 같은 모델을 적어줘야함"
   ]
  },
  {
   "cell_type": "code",
   "execution_count": 40,
   "id": "ebe9a2cc",
   "metadata": {},
   "outputs": [
    {
     "name": "stdout",
     "output_type": "stream",
     "text": [
      "Train on 48000 samples\n",
      "Epoch 1/20\n",
      "48000/48000 [==============================] - 8s 157us/sample - loss: 0.3124 - accuracy: 0.9129\n",
      "Epoch 2/20\n",
      "48000/48000 [==============================] - 7s 148us/sample - loss: 0.1490 - accuracy: 0.9613\n",
      "Epoch 3/20\n",
      "48000/48000 [==============================] - 7s 149us/sample - loss: 0.1117 - accuracy: 0.9721\n",
      "Epoch 4/20\n",
      "48000/48000 [==============================] - 7s 150us/sample - loss: 0.0912 - accuracy: 0.9780\n",
      "Epoch 5/20\n",
      "48000/48000 [==============================] - 7s 150us/sample - loss: 0.0820 - accuracy: 0.9804\n",
      "Epoch 6/20\n",
      "48000/48000 [==============================] - 7s 150us/sample - loss: 0.0672 - accuracy: 0.9836\n",
      "Epoch 7/20\n",
      "48000/48000 [==============================] - 7s 149us/sample - loss: 0.0566 - accuracy: 0.9868\n",
      "Epoch 8/20\n",
      "48000/48000 [==============================] - 7s 149us/sample - loss: 0.0545 - accuracy: 0.9871\n",
      "Epoch 9/20\n",
      "48000/48000 [==============================] - 7s 150us/sample - loss: 0.0498 - accuracy: 0.9883\n",
      "Epoch 10/20\n",
      "48000/48000 [==============================] - 7s 151us/sample - loss: 0.0486 - accuracy: 0.9889\n",
      "Epoch 11/20\n",
      "48000/48000 [==============================] - 7s 149us/sample - loss: 0.0468 - accuracy: 0.9901\n",
      "Epoch 12/20\n",
      "48000/48000 [==============================] - 7s 146us/sample - loss: 0.0443 - accuracy: 0.9912\n",
      "Epoch 13/20\n",
      "48000/48000 [==============================] - 7s 146us/sample - loss: 0.0400 - accuracy: 0.9911\n",
      "Epoch 14/20\n",
      "48000/48000 [==============================] - 7s 147us/sample - loss: 0.0410 - accuracy: 0.9917\n",
      "Epoch 15/20\n",
      "48000/48000 [==============================] - 7s 147us/sample - loss: 0.0342 - accuracy: 0.9927\n",
      "Epoch 16/20\n",
      "48000/48000 [==============================] - 7s 148us/sample - loss: 0.0333 - accuracy: 0.9929\n",
      "Epoch 17/20\n",
      "48000/48000 [==============================] - 7s 148us/sample - loss: 0.0336 - accuracy: 0.9929\n",
      "Epoch 18/20\n",
      "48000/48000 [==============================] - 7s 150us/sample - loss: 0.0364 - accuracy: 0.9932\n",
      "Epoch 19/20\n",
      "48000/48000 [==============================] - 7s 151us/sample - loss: 0.0318 - accuracy: 0.9924\n",
      "Epoch 20/20\n",
      "48000/48000 [==============================] - 7s 152us/sample - loss: 0.0352 - accuracy: 0.9933\n",
      "12000/12000 [==============================] - 1s 105us/sample - loss: 0.1650 - accuracy: 0.9782\n",
      "Train on 48000 samples\n",
      "Epoch 1/20\n",
      "48000/48000 [==============================] - 8s 159us/sample - loss: 0.3252 - accuracy: 0.9113\n",
      "Epoch 2/20\n",
      "48000/48000 [==============================] - 7s 146us/sample - loss: 0.1492 - accuracy: 0.9628\n",
      "Epoch 3/20\n",
      "48000/48000 [==============================] - 7s 146us/sample - loss: 0.1124 - accuracy: 0.9722\n",
      "Epoch 4/20\n",
      "48000/48000 [==============================] - 7s 147us/sample - loss: 0.0941 - accuracy: 0.9777\n",
      "Epoch 5/20\n",
      "48000/48000 [==============================] - 7s 147us/sample - loss: 0.0798 - accuracy: 0.9808\n",
      "Epoch 6/20\n",
      "48000/48000 [==============================] - 7s 147us/sample - loss: 0.0690 - accuracy: 0.9831\n",
      "Epoch 7/20\n",
      "48000/48000 [==============================] - 7s 147us/sample - loss: 0.0602 - accuracy: 0.9860\n",
      "Epoch 8/20\n",
      "48000/48000 [==============================] - 7s 146us/sample - loss: 0.0554 - accuracy: 0.9872\n",
      "Epoch 9/20\n",
      "48000/48000 [==============================] - 7s 145us/sample - loss: 0.0541 - accuracy: 0.9877\n",
      "Epoch 10/20\n",
      "48000/48000 [==============================] - 7s 147us/sample - loss: 0.0508 - accuracy: 0.9890\n",
      "Epoch 11/20\n",
      "48000/48000 [==============================] - 7s 150us/sample - loss: 0.0469 - accuracy: 0.9901\n",
      "Epoch 12/20\n",
      "48000/48000 [==============================] - 7s 153us/sample - loss: 0.0425 - accuracy: 0.9907\n",
      "Epoch 13/20\n",
      "48000/48000 [==============================] - 7s 146us/sample - loss: 0.0390 - accuracy: 0.9911\n",
      "Epoch 14/20\n",
      "48000/48000 [==============================] - 7s 145us/sample - loss: 0.0340 - accuracy: 0.9925\n",
      "Epoch 15/20\n",
      "48000/48000 [==============================] - 7s 147us/sample - loss: 0.0395 - accuracy: 0.9921\n",
      "Epoch 16/20\n",
      "48000/48000 [==============================] - 7s 145us/sample - loss: 0.0440 - accuracy: 0.9918\n",
      "Epoch 17/20\n",
      "48000/48000 [==============================] - 7s 145us/sample - loss: 0.0512 - accuracy: 0.9859\n",
      "Epoch 18/20\n",
      "48000/48000 [==============================] - 7s 146us/sample - loss: 0.0389 - accuracy: 0.9920\n",
      "Epoch 19/20\n",
      "48000/48000 [==============================] - 7s 147us/sample - loss: 0.0412 - accuracy: 0.9917\n",
      "Epoch 20/20\n",
      "48000/48000 [==============================] - 7s 148us/sample - loss: 0.0673 - accuracy: 0.9857\n",
      "12000/12000 [==============================] - 1s 102us/sample - loss: 0.2270 - accuracy: 0.9734\n",
      "Train on 48000 samples\n",
      "Epoch 1/20\n",
      "48000/48000 [==============================] - 8s 162us/sample - loss: 0.3043 - accuracy: 0.9177\n",
      "Epoch 2/20\n",
      "48000/48000 [==============================] - 7s 151us/sample - loss: 0.1507 - accuracy: 0.9622\n",
      "Epoch 3/20\n",
      "48000/48000 [==============================] - 7s 150us/sample - loss: 0.1173 - accuracy: 0.9712\n",
      "Epoch 4/20\n",
      "48000/48000 [==============================] - 7s 149us/sample - loss: 0.0917 - accuracy: 0.9779\n",
      "Epoch 5/20\n",
      "48000/48000 [==============================] - 7s 148us/sample - loss: 0.0769 - accuracy: 0.9806\n",
      "Epoch 6/20\n",
      "48000/48000 [==============================] - 7s 149us/sample - loss: 0.0709 - accuracy: 0.9827\n",
      "Epoch 7/20\n",
      "48000/48000 [==============================] - 7s 150us/sample - loss: 0.0598 - accuracy: 0.9858\n",
      "Epoch 8/20\n",
      "48000/48000 [==============================] - 7s 148us/sample - loss: 0.0584 - accuracy: 0.9866\n",
      "Epoch 9/20\n",
      "48000/48000 [==============================] - 7s 149us/sample - loss: 0.0528 - accuracy: 0.9883\n",
      "Epoch 10/20\n",
      "48000/48000 [==============================] - 7s 149us/sample - loss: 0.0462 - accuracy: 0.9889\n",
      "Epoch 11/20\n",
      "48000/48000 [==============================] - 7s 149us/sample - loss: 0.0455 - accuracy: 0.9903\n",
      "Epoch 12/20\n",
      "48000/48000 [==============================] - 7s 151us/sample - loss: 0.0439 - accuracy: 0.9902\n",
      "Epoch 13/20\n",
      "48000/48000 [==============================] - 7s 151us/sample - loss: 0.0401 - accuracy: 0.9918\n",
      "Epoch 14/20\n",
      "48000/48000 [==============================] - 7s 151us/sample - loss: 0.0359 - accuracy: 0.9928\n",
      "Epoch 15/20\n",
      "48000/48000 [==============================] - 7s 149us/sample - loss: 0.0395 - accuracy: 0.9920\n",
      "Epoch 16/20\n",
      "48000/48000 [==============================] - 7s 149us/sample - loss: 0.0384 - accuracy: 0.9921\n",
      "Epoch 17/20\n",
      "48000/48000 [==============================] - 7s 150us/sample - loss: 0.0366 - accuracy: 0.9930\n",
      "Epoch 18/20\n",
      "48000/48000 [==============================] - 7s 153us/sample - loss: 0.0348 - accuracy: 0.9933\n",
      "Epoch 19/20\n",
      "48000/48000 [==============================] - 7s 151us/sample - loss: 0.0377 - accuracy: 0.9924\n",
      "Epoch 20/20\n",
      "48000/48000 [==============================] - 7s 154us/sample - loss: 0.0313 - accuracy: 0.9935\n",
      "12000/12000 [==============================] - 1s 101us/sample - loss: 0.2117 - accuracy: 0.9751\n",
      "Train on 48000 samples\n",
      "Epoch 1/20\n",
      "48000/48000 [==============================] - 8s 158us/sample - loss: 0.3243 - accuracy: 0.9110\n",
      "Epoch 2/20\n",
      "48000/48000 [==============================] - 7s 155us/sample - loss: 0.1523 - accuracy: 0.9618\n",
      "Epoch 3/20\n",
      "48000/48000 [==============================] - 7s 152us/sample - loss: 0.1175 - accuracy: 0.9706\n",
      "Epoch 4/20\n",
      "48000/48000 [==============================] - 7s 155us/sample - loss: 0.0938 - accuracy: 0.9769\n",
      "Epoch 5/20\n",
      "48000/48000 [==============================] - 7s 153us/sample - loss: 0.0791 - accuracy: 0.9813\n",
      "Epoch 6/20\n",
      "48000/48000 [==============================] - 7s 151us/sample - loss: 0.0664 - accuracy: 0.9838\n",
      "Epoch 7/20\n",
      "48000/48000 [==============================] - 7s 151us/sample - loss: 0.0644 - accuracy: 0.9857\n",
      "Epoch 8/20\n",
      "48000/48000 [==============================] - 7s 149us/sample - loss: 0.0542 - accuracy: 0.9870\n",
      "Epoch 9/20\n",
      "48000/48000 [==============================] - 7s 149us/sample - loss: 0.0542 - accuracy: 0.9880\n",
      "Epoch 10/20\n",
      "48000/48000 [==============================] - 7s 148us/sample - loss: 0.0543 - accuracy: 0.9884\n",
      "Epoch 11/20\n",
      "48000/48000 [==============================] - 7s 149us/sample - loss: 0.0419 - accuracy: 0.9905\n",
      "Epoch 12/20\n",
      "48000/48000 [==============================] - 7s 149us/sample - loss: 0.0467 - accuracy: 0.9901\n"
     ]
    },
    {
     "name": "stdout",
     "output_type": "stream",
     "text": [
      "Epoch 13/20\n",
      "48000/48000 [==============================] - 7s 151us/sample - loss: 0.0418 - accuracy: 0.9912\n",
      "Epoch 14/20\n",
      "48000/48000 [==============================] - 7s 151us/sample - loss: 0.0389 - accuracy: 0.9917\n",
      "Epoch 15/20\n",
      "48000/48000 [==============================] - 7s 150us/sample - loss: 0.0397 - accuracy: 0.9920\n",
      "Epoch 16/20\n",
      "48000/48000 [==============================] - 7s 148us/sample - loss: 0.0360 - accuracy: 0.9928\n",
      "Epoch 17/20\n",
      "48000/48000 [==============================] - 7s 148us/sample - loss: 0.0429 - accuracy: 0.9914\n",
      "Epoch 18/20\n",
      "48000/48000 [==============================] - 7s 149us/sample - loss: 0.0409 - accuracy: 0.9916\n",
      "Epoch 19/20\n",
      "48000/48000 [==============================] - 7s 150us/sample - loss: 0.0355 - accuracy: 0.9934\n",
      "Epoch 20/20\n",
      "48000/48000 [==============================] - 7s 149us/sample - loss: 0.0450 - accuracy: 0.9919\n",
      "12000/12000 [==============================] - 1s 102us/sample - loss: 0.1799 - accuracy: 0.9787\n",
      "Train on 48000 samples\n",
      "Epoch 1/20\n",
      "48000/48000 [==============================] - 8s 156us/sample - loss: 0.3316 - accuracy: 0.9095\n",
      "Epoch 2/20\n",
      "48000/48000 [==============================] - 7s 148us/sample - loss: 0.1535 - accuracy: 0.9624\n",
      "Epoch 3/20\n",
      "48000/48000 [==============================] - 7s 150us/sample - loss: 0.1178 - accuracy: 0.9705\n",
      "Epoch 4/20\n",
      "48000/48000 [==============================] - 7s 148us/sample - loss: 0.0943 - accuracy: 0.9757\n",
      "Epoch 5/20\n",
      "48000/48000 [==============================] - 7s 150us/sample - loss: 0.0807 - accuracy: 0.9803\n",
      "Epoch 6/20\n",
      "48000/48000 [==============================] - 7s 150us/sample - loss: 0.0772 - accuracy: 0.9824\n",
      "Epoch 7/20\n",
      "48000/48000 [==============================] - 7s 149us/sample - loss: 0.0650 - accuracy: 0.9844\n",
      "Epoch 8/20\n",
      "48000/48000 [==============================] - 7s 149us/sample - loss: 0.0576 - accuracy: 0.9863\n",
      "Epoch 9/20\n",
      "48000/48000 [==============================] - 7s 150us/sample - loss: 0.0520 - accuracy: 0.9883\n",
      "Epoch 10/20\n",
      "48000/48000 [==============================] - 7s 149us/sample - loss: 0.0510 - accuracy: 0.9886\n",
      "Epoch 11/20\n",
      "48000/48000 [==============================] - 7s 148us/sample - loss: 0.0465 - accuracy: 0.9903\n",
      "Epoch 12/20\n",
      "48000/48000 [==============================] - 7s 147us/sample - loss: 0.0401 - accuracy: 0.9913\n",
      "Epoch 13/20\n",
      "48000/48000 [==============================] - 7s 149us/sample - loss: 0.0442 - accuracy: 0.9914\n",
      "Epoch 14/20\n",
      "48000/48000 [==============================] - 7s 151us/sample - loss: 0.0354 - accuracy: 0.9926\n",
      "Epoch 15/20\n",
      "48000/48000 [==============================] - 7s 150us/sample - loss: 0.0375 - accuracy: 0.9920\n",
      "Epoch 16/20\n",
      "48000/48000 [==============================] - 7s 151us/sample - loss: 0.0361 - accuracy: 0.9925\n",
      "Epoch 17/20\n",
      "48000/48000 [==============================] - 7s 148us/sample - loss: 0.0343 - accuracy: 0.9932\n",
      "Epoch 18/20\n",
      "48000/48000 [==============================] - 7s 150us/sample - loss: 0.0515 - accuracy: 0.9912\n",
      "Epoch 19/20\n",
      "48000/48000 [==============================] - 7s 150us/sample - loss: 0.0358 - accuracy: 0.9930\n",
      "Epoch 20/20\n",
      "48000/48000 [==============================] - 7s 151us/sample - loss: 0.0391 - accuracy: 0.9921\n",
      "12000/12000 [==============================] - 1s 101us/sample - loss: 0.2480 - accuracy: 0.9703\n"
     ]
    }
   ],
   "source": [
    "from tensorflow.keras.wrappers.scikit_learn import KerasClassifier\n",
    "\n",
    "# KerasClassifier(딥러닝 모델 함수, epochs, batch_size)\n",
    "#딥러닝은 모델을 직접 설계한 것을 집어넣어야하기 때문에 함수를 만듬\n",
    "model3=KerasClassifier(build_fn = deep_model, epochs = 20, batch_size = 10)\n",
    "\n",
    "# cross_val_score(모델, 학습데이터, 정답데이터, cv = Kfold를 사용한 변수)\n",
    "#\n",
    "# 몇개로 어떻게 구분할건인지\n",
    "#KForld(n_split = 몇개로 나눌것인지, shuffle = 데이터를 섞을건지 rnadomstate)\n",
    "fold = KFold(n_splits = 5,shuffle= True,random_state=0)\n",
    "\n",
    "score =cross_val_score(model3,X_train,y_train,cv=fold)"
   ]
  },
  {
   "cell_type": "code",
   "execution_count": 41,
   "id": "4bf2fa53",
   "metadata": {},
   "outputs": [
    {
     "data": {
      "text/plain": [
       "array([0.97816664, 0.97341669, 0.97508335, 0.97866666, 0.97025001])"
      ]
     },
     "execution_count": 41,
     "metadata": {},
     "output_type": "execute_result"
    }
   ],
   "source": [
    "score"
   ]
  },
  {
   "cell_type": "markdown",
   "id": "a34f2bc0",
   "metadata": {},
   "source": [
    "### 베스트 모델 찾아서 저장하기"
   ]
  },
  {
   "cell_type": "code",
   "execution_count": 42,
   "id": "0f4b57ab",
   "metadata": {},
   "outputs": [],
   "source": [
    "import os \n",
    "from tensorflow.keras.callbacks import ModelCheckpoint,EarlyStopping\n",
    "\n",
    "# 모델을 저장할 폴더명\n",
    "MODEL_FOLDER = './model'\n",
    "\n",
    "# 해당 폴더가 없다면 해당 폴더를 생성\n",
    "if not os.path.exists(MODEL_FOLDER) :\n",
    "    os.mkdir(MODEL_FOLDER)"
   ]
  },
  {
   "cell_type": "code",
   "execution_count": 43,
   "id": "f20ab567",
   "metadata": {},
   "outputs": [],
   "source": [
    "# 저장할 파일 명 설정\n",
    " #{epoch:04d} : 반복수를 4자리로 표시\n",
    "# {val_accuracy:.4f}:검증 정확도를 소수점 4째자리까지 표시\n",
    "#hdf5 파일형식\n",
    "modelpath = MODEL_FOLDER + './handnum-{epoch:04d}-{val_accuracy:4f}.hdf5'"
   ]
  },
  {
   "cell_type": "code",
   "execution_count": 44,
   "id": "5cffef40",
   "metadata": {},
   "outputs": [],
   "source": [
    "# 베스트 모델을 찾아서 만들어둔 파일 명으로 저장\n",
    "# ModelCheckpoint(filepath = 파일 경로, monitor = 기준값,save_bast_only=True)\n",
    "#save_bast_only=True : 더 나은 결과값만 저장\n",
    "mc = ModelCheckpoint(filepath = modelpath,\n",
    "                    monitor = 'val_accuracy',\n",
    "                    save_best_only = True,\n",
    "                    verbose = 1) #verbose=1 진행결과를 보지 않겠다"
   ]
  },
  {
   "cell_type": "code",
   "execution_count": 45,
   "id": "c3c92da8",
   "metadata": {},
   "outputs": [],
   "source": [
    "# EarlyStopping(monitor,patience = 기다리는 횟수)\n",
    "# patience = 20 : monitor 에 적은 기준에 따라 학습 결과가 더 나아지지 않더라도 \n",
    "#20번은 돌려보겠다.\n",
    "# patience가 있어야지만 조금씩 나아진 결과를 확인할 수 있다.\n",
    "#EarlyStopping 한 번 안좋아지면 멈춤\n",
    "es = EarlyStopping(monitor='val_accuracy',\n",
    "                  patience = 20)"
   ]
  },
  {
   "cell_type": "code",
   "execution_count": 46,
   "id": "067b24b8",
   "metadata": {},
   "outputs": [
    {
     "name": "stdout",
     "output_type": "stream",
     "text": [
      "Train on 40199 samples, validate on 19801 samples\n",
      "Epoch 1/1000\n",
      "40050/40199 [============================>.] - ETA: 0s - loss: 0.0128 - accuracy: 0.9971\n",
      "Epoch 00001: val_accuracy improved from -inf to 0.99747, saving model to ./model./handnum-0001-0.997475.hdf5\n",
      "40199/40199 [==============================] - 2s 55us/sample - loss: 0.0128 - accuracy: 0.9971 - val_loss: 0.0085 - val_accuracy: 0.9975\n",
      "Epoch 2/1000\n",
      "39400/40199 [============================>.] - ETA: 0s - loss: 0.0062 - accuracy: 0.9985\n",
      "Epoch 00002: val_accuracy improved from 0.99747 to 0.99803, saving model to ./model./handnum-0002-0.998030.hdf5\n",
      "40199/40199 [==============================] - 2s 50us/sample - loss: 0.0062 - accuracy: 0.9985 - val_loss: 0.0085 - val_accuracy: 0.9980\n",
      "Epoch 3/1000\n",
      "39950/40199 [============================>.] - ETA: 0s - loss: 0.0052 - accuracy: 0.9989\n",
      "Epoch 00003: val_accuracy did not improve from 0.99803\n",
      "40199/40199 [==============================] - 2s 49us/sample - loss: 0.0053 - accuracy: 0.9989 - val_loss: 0.0156 - val_accuracy: 0.9968\n",
      "Epoch 4/1000\n",
      "40050/40199 [============================>.] - ETA: 0s - loss: 0.0107 - accuracy: 0.9973\n",
      "Epoch 00004: val_accuracy improved from 0.99803 to 0.99828, saving model to ./model./handnum-0004-0.998283.hdf5\n",
      "40199/40199 [==============================] - 2s 49us/sample - loss: 0.0107 - accuracy: 0.9973 - val_loss: 0.0073 - val_accuracy: 0.9983\n",
      "Epoch 5/1000\n",
      "40100/40199 [============================>.] - ETA: 0s - loss: 0.0111 - accuracy: 0.9977\n",
      "Epoch 00005: val_accuracy did not improve from 0.99828\n",
      "40199/40199 [==============================] - 2s 48us/sample - loss: 0.0111 - accuracy: 0.9977 - val_loss: 0.0229 - val_accuracy: 0.9958\n",
      "Epoch 6/1000\n",
      "40000/40199 [============================>.] - ETA: 0s - loss: 0.0068 - accuracy: 0.9984\n",
      "Epoch 00006: val_accuracy did not improve from 0.99828\n",
      "40199/40199 [==============================] - 2s 49us/sample - loss: 0.0069 - accuracy: 0.9984 - val_loss: 0.0307 - val_accuracy: 0.9957\n",
      "Epoch 7/1000\n",
      "40150/40199 [============================>.] - ETA: 0s - loss: 0.0097 - accuracy: 0.9983\n",
      "Epoch 00007: val_accuracy did not improve from 0.99828\n",
      "40199/40199 [==============================] - 2s 48us/sample - loss: 0.0097 - accuracy: 0.9983 - val_loss: 0.0147 - val_accuracy: 0.9963\n",
      "Epoch 8/1000\n",
      "39750/40199 [============================>.] - ETA: 0s - loss: 0.0087 - accuracy: 0.9983\n",
      "Epoch 00008: val_accuracy did not improve from 0.99828\n",
      "40199/40199 [==============================] - 2s 49us/sample - loss: 0.0087 - accuracy: 0.9983 - val_loss: 0.0204 - val_accuracy: 0.9958\n",
      "Epoch 9/1000\n",
      "39350/40199 [============================>.] - ETA: 0s - loss: 0.0091 - accuracy: 0.9979\n",
      "Epoch 00009: val_accuracy did not improve from 0.99828\n",
      "40199/40199 [==============================] - 2s 49us/sample - loss: 0.0092 - accuracy: 0.9979 - val_loss: 0.0274 - val_accuracy: 0.9940\n",
      "Epoch 10/1000\n",
      "39150/40199 [============================>.] - ETA: 0s - loss: 0.0062 - accuracy: 0.9984\n",
      "Epoch 00010: val_accuracy did not improve from 0.99828\n",
      "40199/40199 [==============================] - 2s 50us/sample - loss: 0.0066 - accuracy: 0.9984 - val_loss: 0.0263 - val_accuracy: 0.9957\n",
      "Epoch 11/1000\n",
      "39850/40199 [============================>.] - ETA: 0s - loss: 0.0135 - accuracy: 0.9976\n",
      "Epoch 00011: val_accuracy did not improve from 0.99828\n",
      "40199/40199 [==============================] - 2s 48us/sample - loss: 0.0138 - accuracy: 0.9976 - val_loss: 0.0342 - val_accuracy: 0.9934\n",
      "Epoch 12/1000\n",
      "40000/40199 [============================>.] - ETA: 0s - loss: 0.0056 - accuracy: 0.9987\n",
      "Epoch 00012: val_accuracy did not improve from 0.99828\n",
      "40199/40199 [==============================] - 2s 50us/sample - loss: 0.0067 - accuracy: 0.9986 - val_loss: 0.0394 - val_accuracy: 0.9936\n",
      "Epoch 13/1000\n",
      "39400/40199 [============================>.] - ETA: 0s - loss: 0.0104 - accuracy: 0.9978\n",
      "Epoch 00013: val_accuracy did not improve from 0.99828\n",
      "40199/40199 [==============================] - 2s 50us/sample - loss: 0.0102 - accuracy: 0.9978 - val_loss: 0.0202 - val_accuracy: 0.9955\n",
      "Epoch 14/1000\n",
      "40050/40199 [============================>.] - ETA: 0s - loss: 0.0075 - accuracy: 0.9986\n",
      "Epoch 00014: val_accuracy did not improve from 0.99828\n",
      "40199/40199 [==============================] - 2s 48us/sample - loss: 0.0075 - accuracy: 0.9986 - val_loss: 0.0492 - val_accuracy: 0.9913\n",
      "Epoch 15/1000\n",
      "40100/40199 [============================>.] - ETA: 0s - loss: 0.0064 - accuracy: 0.9988\n",
      "Epoch 00015: val_accuracy did not improve from 0.99828\n",
      "40199/40199 [==============================] - 2s 48us/sample - loss: 0.0064 - accuracy: 0.9988 - val_loss: 0.0266 - val_accuracy: 0.9949\n",
      "Epoch 16/1000\n",
      "39750/40199 [============================>.] - ETA: 0s - loss: 0.0115 - accuracy: 0.9984\n",
      "Epoch 00016: val_accuracy did not improve from 0.99828\n",
      "40199/40199 [==============================] - 2s 49us/sample - loss: 0.0114 - accuracy: 0.9985 - val_loss: 0.0231 - val_accuracy: 0.9958\n",
      "Epoch 17/1000\n",
      "38850/40199 [===========================>..] - ETA: 0s - loss: 0.0043 - accuracy: 0.9992\n",
      "Epoch 00017: val_accuracy did not improve from 0.99828\n",
      "40199/40199 [==============================] - 2s 50us/sample - loss: 0.0047 - accuracy: 0.9991 - val_loss: 0.0429 - val_accuracy: 0.9924\n",
      "Epoch 18/1000\n",
      "40000/40199 [============================>.] - ETA: 0s - loss: 0.0108 - accuracy: 0.9978\n",
      "Epoch 00018: val_accuracy did not improve from 0.99828\n",
      "40199/40199 [==============================] - 2s 50us/sample - loss: 0.0108 - accuracy: 0.9978 - val_loss: 0.0453 - val_accuracy: 0.9927\n",
      "Epoch 19/1000\n",
      "39700/40199 [============================>.] - ETA: 0s - loss: 0.0072 - accuracy: 0.9989\n",
      "Epoch 00019: val_accuracy did not improve from 0.99828\n",
      "40199/40199 [==============================] - 2s 49us/sample - loss: 0.0072 - accuracy: 0.9989 - val_loss: 0.0329 - val_accuracy: 0.9940\n",
      "Epoch 20/1000\n",
      "39700/40199 [============================>.] - ETA: 0s - loss: 0.0041 - accuracy: 0.9993\n",
      "Epoch 00020: val_accuracy did not improve from 0.99828\n",
      "40199/40199 [==============================] - 2s 51us/sample - loss: 0.0040 - accuracy: 0.9993 - val_loss: 0.0275 - val_accuracy: 0.9951\n",
      "Epoch 21/1000\n",
      "39200/40199 [============================>.] - ETA: 0s - loss: 0.0114 - accuracy: 0.9982\n",
      "Epoch 00021: val_accuracy did not improve from 0.99828\n",
      "40199/40199 [==============================] - 2s 49us/sample - loss: 0.0113 - accuracy: 0.9982 - val_loss: 0.0502 - val_accuracy: 0.9919\n",
      "Epoch 22/1000\n",
      "39900/40199 [============================>.] - ETA: 0s - loss: 0.0101 - accuracy: 0.9982\n",
      "Epoch 00022: val_accuracy did not improve from 0.99828\n",
      "40199/40199 [==============================] - 2s 49us/sample - loss: 0.0101 - accuracy: 0.9982 - val_loss: 0.0404 - val_accuracy: 0.9928\n",
      "Epoch 23/1000\n",
      "39900/40199 [============================>.] - ETA: 0s - loss: 0.0087 - accuracy: 0.9990\n",
      "Epoch 00023: val_accuracy did not improve from 0.99828\n",
      "40199/40199 [==============================] - 2s 49us/sample - loss: 0.0086 - accuracy: 0.9990 - val_loss: 0.0825 - val_accuracy: 0.9903\n",
      "Epoch 24/1000\n",
      "39800/40199 [============================>.] - ETA: 0s - loss: 0.0091 - accuracy: 0.9986\n",
      "Epoch 00024: val_accuracy did not improve from 0.99828\n",
      "40199/40199 [==============================] - 2s 49us/sample - loss: 0.0090 - accuracy: 0.9986 - val_loss: 0.0335 - val_accuracy: 0.9949\n"
     ]
    }
   ],
   "source": [
    "#학습\n",
    "#validation_split=0.33: 전체 데이터중에서 33%를 검증데이터로 활용 평가\n",
    "history = model2.fit(X_train,y_train,epochs = 1000,batch_size = 50,\n",
    "                     validation_split=0.33,\n",
    "                    callbacks=[mc,es])"
   ]
  },
  {
   "cell_type": "code",
   "execution_count": 47,
   "id": "b8c48010",
   "metadata": {},
   "outputs": [],
   "source": [
    "#저장할려면 모델 생성부터 다시 돌려야함"
   ]
  },
  {
   "cell_type": "code",
   "execution_count": 48,
   "id": "e10654b4",
   "metadata": {},
   "outputs": [],
   "source": [
    "# VGG16 모델 전이학습\n",
    "from tensorflow.keras.applications import VGG16"
   ]
  },
  {
   "cell_type": "code",
   "execution_count": 49,
   "id": "2515e329",
   "metadata": {},
   "outputs": [],
   "source": [
    "conv_base = VGG16(weights = 'imagenet',\n",
    "                 include_top = False,\n",
    "                 input_shape=(35,35,3))"
   ]
  },
  {
   "cell_type": "code",
   "execution_count": 50,
   "id": "e2561759",
   "metadata": {},
   "outputs": [
    {
     "name": "stdout",
     "output_type": "stream",
     "text": [
      "Model: \"vgg16\"\n",
      "_________________________________________________________________\n",
      "Layer (type)                 Output Shape              Param #   \n",
      "=================================================================\n",
      "input_1 (InputLayer)         [(None, 35, 35, 3)]       0         \n",
      "_________________________________________________________________\n",
      "block1_conv1 (Conv2D)        (None, 35, 35, 64)        1792      \n",
      "_________________________________________________________________\n",
      "block1_conv2 (Conv2D)        (None, 35, 35, 64)        36928     \n",
      "_________________________________________________________________\n",
      "block1_pool (MaxPooling2D)   (None, 17, 17, 64)        0         \n",
      "_________________________________________________________________\n",
      "block2_conv1 (Conv2D)        (None, 17, 17, 128)       73856     \n",
      "_________________________________________________________________\n",
      "block2_conv2 (Conv2D)        (None, 17, 17, 128)       147584    \n",
      "_________________________________________________________________\n",
      "block2_pool (MaxPooling2D)   (None, 8, 8, 128)         0         \n",
      "_________________________________________________________________\n",
      "block3_conv1 (Conv2D)        (None, 8, 8, 256)         295168    \n",
      "_________________________________________________________________\n",
      "block3_conv2 (Conv2D)        (None, 8, 8, 256)         590080    \n",
      "_________________________________________________________________\n",
      "block3_conv3 (Conv2D)        (None, 8, 8, 256)         590080    \n",
      "_________________________________________________________________\n",
      "block3_pool (MaxPooling2D)   (None, 4, 4, 256)         0         \n",
      "_________________________________________________________________\n",
      "block4_conv1 (Conv2D)        (None, 4, 4, 512)         1180160   \n",
      "_________________________________________________________________\n",
      "block4_conv2 (Conv2D)        (None, 4, 4, 512)         2359808   \n",
      "_________________________________________________________________\n",
      "block4_conv3 (Conv2D)        (None, 4, 4, 512)         2359808   \n",
      "_________________________________________________________________\n",
      "block4_pool (MaxPooling2D)   (None, 2, 2, 512)         0         \n",
      "_________________________________________________________________\n",
      "block5_conv1 (Conv2D)        (None, 2, 2, 512)         2359808   \n",
      "_________________________________________________________________\n",
      "block5_conv2 (Conv2D)        (None, 2, 2, 512)         2359808   \n",
      "_________________________________________________________________\n",
      "block5_conv3 (Conv2D)        (None, 2, 2, 512)         2359808   \n",
      "_________________________________________________________________\n",
      "block5_pool (MaxPooling2D)   (None, 1, 1, 512)         0         \n",
      "=================================================================\n",
      "Total params: 14,714,688\n",
      "Trainable params: 14,714,688\n",
      "Non-trainable params: 0\n",
      "_________________________________________________________________\n"
     ]
    }
   ],
   "source": [
    "conv_base.summary()"
   ]
  },
  {
   "cell_type": "code",
   "execution_count": null,
   "id": "da1e28cc",
   "metadata": {},
   "outputs": [],
   "source": []
  }
 ],
 "metadata": {
  "kernelspec": {
   "display_name": "Python 3",
   "language": "python",
   "name": "python3"
  },
  "language_info": {
   "codemirror_mode": {
    "name": "ipython",
    "version": 3
   },
   "file_extension": ".py",
   "mimetype": "text/x-python",
   "name": "python",
   "nbconvert_exporter": "python",
   "pygments_lexer": "ipython3",
   "version": "3.6.13"
  }
 },
 "nbformat": 4,
 "nbformat_minor": 5
}
