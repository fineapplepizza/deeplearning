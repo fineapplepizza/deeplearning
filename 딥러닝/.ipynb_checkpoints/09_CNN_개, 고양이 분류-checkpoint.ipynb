{
 "cells": [
  {
   "cell_type": "markdown",
   "id": "52e76099",
   "metadata": {},
   "source": [
    "데이터 구성 \n",
    "- 총 3000개(train 2000장, validation 1000장)로 구성된 데이터셋\n",
    "- 각각의 데이터는 절반은 개의 사진 절반은 고양이 사진 "
   ]
  },
  {
   "cell_type": "code",
   "execution_count": 1,
   "id": "0a8f6076",
   "metadata": {},
   "outputs": [],
   "source": [
    "import os #폴더안에 어떤 파일이 있는지 확인하는 라이브러리"
   ]
  },
  {
   "cell_type": "code",
   "execution_count": 2,
   "id": "386c8eb0",
   "metadata": {},
   "outputs": [],
   "source": [
    "#폴더안에 파일을 다확인하기 위해서 폴더경로 설정\n",
    "train_dir = './dogs_vs_cats_small/train'\n",
    "test_dir = './dogs_vs_cats_small/test'\n",
    "\n",
    "train_dogs_dir =  './dogs_vs_cats_small/train/dogs'\n",
    "train_cats_dir = './dogs_vs_cats_small/train/cats'\n",
    "\n",
    "test_dogs_dir = './dogs_vs_cats_small/test/dogs'\n",
    "test_cats_dir = './dogs_vs_cats_small/test/cats'\n",
    "\n",
    "validation_dogs_dir =  './dogs_vs_cats_small/validation/dogs'\n",
    "validation_cats_dir =  './dogs_vs_cats_small/validation/cats'\n"
   ]
  },
  {
   "cell_type": "code",
   "execution_count": 3,
   "id": "58524a72",
   "metadata": {},
   "outputs": [
    {
     "name": "stdout",
     "output_type": "stream",
     "text": [
      "훈련 개 데이터 수 : 1000\n",
      "훈련 고양이 데이터 수 : 1000\n",
      "테스트 개 데이터 수 : 11\n",
      "테스트 고양이 데이터 수 : 11\n",
      "검증 개 데이터 수 : 500\n",
      "검증 고양이 데이터 수 : 500\n"
     ]
    }
   ],
   "source": [
    "# listdir() : 해당 폴더에 있는 파일을 가져온다\n",
    "print(\"훈련 개 데이터 수 : {}\".format(len(os.listdir(train_dogs_dir))))\n",
    "print(\"훈련 고양이 데이터 수 : {}\".format(len(os.listdir(train_cats_dir))))\n",
    "print(\"테스트 개 데이터 수 : {}\".format(len(os.listdir(test_dogs_dir))))\n",
    "print(\"테스트 고양이 데이터 수 : {}\".format(len(os.listdir(test_cats_dir))))\n",
    "print(\"검증 개 데이터 수 : {}\".format(len(os.listdir(validation_dogs_dir))))\n",
    "print(\"검증 고양이 데이터 수 : {}\".format(len(os.listdir(validation_cats_dir))))"
   ]
  },
  {
   "cell_type": "markdown",
   "id": "fe5ad0cf",
   "metadata": {},
   "source": [
    "이미지 전처리\n",
    "- 이미지를 같은 크기로 만들어주어야함\n",
    "- 0 ~ 255범위의 픽셀값을 0 ~ 1사이의 범위로 변환 > 분산 감소\n",
    "- 라벨링 (컴퓨터는 어떤데이터인지 알지 못하기 때문에)\n",
    "- ImageDataGenerator() 함수 사용해서 처리"
   ]
  },
  {
   "cell_type": "code",
   "execution_count": 4,
   "id": "9e413b13",
   "metadata": {},
   "outputs": [
    {
     "name": "stdout",
     "output_type": "stream",
     "text": [
      "Found 2000 images belonging to 2 classes.\n",
      "Found 22 images belonging to 2 classes.\n"
     ]
    }
   ],
   "source": [
    "from tensorflow.keras.preprocessing.image import ImageDataGenerator\n",
    "\n",
    "# 픽셀값을 0 ~ 1사이로 변환\n",
    "train_gen = ImageDataGenerator(rescale = 1./255)#1. 정수형을 실수형으로 취급 (0과1사이의 값을 반환하고 싶기때문에)\n",
    "# 데이터의 범위를 줄인이유 : 최대값과 최소값 사이가 크면 데이터가 발산할 수 있음\n",
    "test_gen = ImageDataGenerator(rescale = 1./255)\n",
    "\n",
    "# flow_from_directory() : 폴더에서 이미지 가져오기 \n",
    "# 폴더명, 이미지크기, 한번에 변환할 이미지수, 라벨링 모드\n",
    "train_generator = train_gen.flow_from_directory(train_dir,\n",
    "                                               target_size = (150,150),#모든이미지 크기고정\n",
    "                                               batch_size = 50,\n",
    "                                               class_mode = 'binary'\n",
    "                                               # 이진분류 : binary\n",
    "                                               # 다중분류 : categorical\n",
    "                                               # 라벨 번호는 0부터 시작\n",
    "                                               # 폴더는 알파벳 순으로 읽음(먼저읽힌건 0 나중에 읽힌건1?)\n",
    "                                            )\n",
    "test_generator = test_gen.flow_from_directory(test_dir,\n",
    "                                               target_size = (150,150),\n",
    "                                               batch_size = 50,\n",
    "                                               class_mode = 'binary'\n",
    "                                               # 이진분류 : binary\n",
    "                                               # 다중분류 : categorical\n",
    "                                               # 라벨 번호는 0부터 시작\n",
    "                                               # 폴더는 알파벳 순으로 읽음\n",
    "                                            )"
   ]
  },
  {
   "cell_type": "code",
   "execution_count": 5,
   "id": "d9274815",
   "metadata": {},
   "outputs": [
    {
     "name": "stdout",
     "output_type": "stream",
     "text": [
      "{'cats': 0, 'dogs': 1}\n",
      "{'cats': 0, 'dogs': 1}\n"
     ]
    }
   ],
   "source": [
    "# 라벨링 결과 확인\n",
    "print(train_generator.class_indices)\n",
    "print(test_generator.class_indices)"
   ]
  },
  {
   "cell_type": "markdown",
   "id": "913b5452",
   "metadata": {},
   "source": [
    "초기화를 위한 seed 설정"
   ]
  },
  {
   "cell_type": "code",
   "execution_count": 6,
   "id": "ae4b9399",
   "metadata": {},
   "outputs": [],
   "source": [
    "import numpy as np\n",
    "import tensorflow as tf\n",
    "\n",
    "seed = 0 \n",
    "np.random.seed(seed)\n",
    "tf.random.set_seed(seed)"
   ]
  },
  {
   "cell_type": "markdown",
   "id": "77436c42",
   "metadata": {},
   "source": [
    "CNN을 입력층으로 한 신경망 설계"
   ]
  },
  {
   "cell_type": "code",
   "execution_count": 7,
   "id": "6978a262",
   "metadata": {},
   "outputs": [
    {
     "name": "stdout",
     "output_type": "stream",
     "text": [
      "Model: \"sequential\"\n",
      "_________________________________________________________________\n",
      "Layer (type)                 Output Shape              Param #   \n",
      "=================================================================\n",
      "conv2d (Conv2D)              (None, 150, 150, 32)      896       \n",
      "_________________________________________________________________\n",
      "max_pooling2d (MaxPooling2D) (None, 75, 75, 32)        0         \n",
      "_________________________________________________________________\n",
      "flatten (Flatten)            (None, 180000)            0         \n",
      "_________________________________________________________________\n",
      "dense (Dense)                (None, 512)               92160512  \n",
      "_________________________________________________________________\n",
      "dense_1 (Dense)              (None, 1)                 513       \n",
      "=================================================================\n",
      "Total params: 92,161,921\n",
      "Trainable params: 92,161,921\n",
      "Non-trainable params: 0\n",
      "_________________________________________________________________\n"
     ]
    }
   ],
   "source": [
    "from tensorflow.keras.models import Sequential\n",
    "from tensorflow.keras.layers import Dense, Dropout\n",
    "\n",
    "from tensorflow.keras.layers import Conv2D,MaxPooling2D, Flatten\n",
    "# Conv2D : 특징 찾기 (특징은 학습을 위한 데이터는 아님)\n",
    "# MaxPooling2D : 불필요한 부분 삭제\n",
    "# Flatten: 데이터 펴줌(2차원 데이터 > 1차원 데이터)\n",
    "\n",
    "model1 = Sequential()\n",
    "\n",
    "# 입력층 (CNN)\n",
    "# 특징을 도드라지게 해준다. Conv2D층\n",
    "model1.add(Conv2D(filters= 32, # 사진에서 찾을 특성 개수,\n",
    "                                #내가 가진 사진에서 몇개의 특징을 축출\n",
    "                 kernel_size=(3,3), # 한번에 확인할 픽셀의 수, 32개의 특징을 판단 ->3,3으로 판단해줘\n",
    "                 input_shape = (150,150,3), #targetSize를 조정한만큼 넣어주면됨\n",
    "                 #학습시킬려는 데이터 크기 지정\n",
    "                  #입력 데이터의 크기 \n",
    "                 padding = 'same', \n",
    "                  # 가장자리의 데이터가 부족 이를 0 으로 채움\n",
    "                  #same = 입력데이터의 크기와 동일하게 ,출력과 입력이 같게\n",
    "                  #valid- 유효한 영역만 출력\n",
    "                 activation = 'relu'))\n",
    "#시간을 유용하게 사용할때 내가 가진 데이터를 얼마큼 띄엄띄엄 볼것인지stride\n",
    "# 불필요한 부분 삭제하는층 MaxPooling층 각각의 영역에서 가장 높은 값추출\n",
    "model1.add(MaxPooling2D(pool_size = (2,2)))\n",
    "# pool_size -데이터 축소 ex) 2,2 를 하나의 데이터로 생각하겠다.(제일 높은 값을 출력)\n",
    "#stride=(2,2)데이터를 확인할때 띄어서 가라\n",
    "model1.add(Flatten()) #max_pooling2d의 데이터를 1차원 데이터로 펴줌\n",
    "# 차원 축소 \n",
    "\n",
    "# 은닉층\n",
    "model1.add(Dense(units = 512,activation = 'relu'))\n",
    "\n",
    "# 출력층\n",
    "model1.add(Dense(units = 1, activation = 'sigmoid'))\n",
    "\n",
    "model1.summary()"
   ]
  },
  {
   "cell_type": "code",
   "execution_count": 8,
   "id": "c9fc57d1",
   "metadata": {},
   "outputs": [],
   "source": [
    "# ConvLayer -특징을 잡아주는 역할\n",
    "# pooiling Layer -불필요한 부분 삭제하고 판단하기 쉽게 잡아줌\n",
    "#이러한 과정을 거쳐서 사진을 판단하는데 중요한 특징만 남음"
   ]
  },
  {
   "cell_type": "code",
   "execution_count": 9,
   "id": "d1449bae",
   "metadata": {},
   "outputs": [],
   "source": [
    "model1.compile(loss = 'binary_crossentropy',\n",
    "              optimizer = 'adam',\n",
    "              metrics = ['accuracy'])"
   ]
  },
  {
   "cell_type": "code",
   "execution_count": 10,
   "id": "305b7d72",
   "metadata": {},
   "outputs": [],
   "source": [
    "# loss\n",
    "# 분류 \n",
    "# - 이진분류 : binary_crossentropy\n",
    "# - 다중분류 : categorical_crossentropy\n",
    "# 회귀\n",
    "# - linear\n",
    "\n",
    "# optimizer\n",
    "## adam : 잘모르겠다면 사용\n",
    "## RMSProp(adam이 잘안나올때 쓰면됨) : 방향의 문제가 없다면 사용\n",
    "\n",
    "# metrics\n",
    "# 분류 : accuracy\n",
    "# 회귀 : mean_squared_error"
   ]
  },
  {
   "cell_type": "code",
   "execution_count": 11,
   "id": "3436fcea",
   "metadata": {},
   "outputs": [],
   "source": [
    "# 활성화 함수 \n",
    "# relu, softmax, sigmoid (relu와 softmax만 사용해도 왠만한 건 다사용이 됨)\n",
    "\n",
    "# relu : 입력, 은닉층에서 사용\n",
    "# softmax : 출력층에서 다중분류일때 사용 \n",
    "# sigmoid :출력층에서 이진분류일때 사용"
   ]
  },
  {
   "cell_type": "code",
   "execution_count": 12,
   "id": "d2b32407",
   "metadata": {},
   "outputs": [
    {
     "name": "stdout",
     "output_type": "stream",
     "text": [
      "WARNING:tensorflow:From <ipython-input-12-15158f3e082b>:8: Model.fit_generator (from tensorflow.python.keras.engine.training) is deprecated and will be removed in a future version.\n",
      "Instructions for updating:\n",
      "Please use Model.fit, which supports generators.\n",
      "WARNING:tensorflow:sample_weight modes were coerced from\n",
      "  ...\n",
      "    to  \n",
      "  ['...']\n",
      "WARNING:tensorflow:sample_weight modes were coerced from\n",
      "  ...\n",
      "    to  \n",
      "  ['...']\n",
      "Train for 40 steps, validate for 1 steps\n",
      "Epoch 1/10\n",
      "40/40 [==============================] - 6s 138ms/step - loss: 6.7310 - accuracy: 0.4865 - val_loss: 0.7276 - val_accuracy: 0.5455\n",
      "Epoch 2/10\n",
      "40/40 [==============================] - 4s 95ms/step - loss: 0.6250 - accuracy: 0.6420 - val_loss: 0.6147 - val_accuracy: 0.7273\n",
      "Epoch 3/10\n",
      "40/40 [==============================] - 4s 98ms/step - loss: 0.4814 - accuracy: 0.7830 - val_loss: 0.7859 - val_accuracy: 0.5909\n",
      "Epoch 4/10\n",
      "40/40 [==============================] - 4s 97ms/step - loss: 0.3036 - accuracy: 0.8860 - val_loss: 0.7772 - val_accuracy: 0.6818\n",
      "Epoch 5/10\n",
      "40/40 [==============================] - 4s 94ms/step - loss: 0.1678 - accuracy: 0.9540 - val_loss: 0.8330 - val_accuracy: 0.6364\n",
      "Epoch 6/10\n",
      "40/40 [==============================] - 4s 94ms/step - loss: 0.0896 - accuracy: 0.9830 - val_loss: 0.8801 - val_accuracy: 0.5909\n",
      "Epoch 7/10\n",
      "40/40 [==============================] - 4s 92ms/step - loss: 0.0405 - accuracy: 0.9950 - val_loss: 0.8447 - val_accuracy: 0.6364\n",
      "Epoch 8/10\n",
      "40/40 [==============================] - 4s 95ms/step - loss: 0.0212 - accuracy: 0.9985 - val_loss: 0.7451 - val_accuracy: 0.5909\n",
      "Epoch 9/10\n",
      "40/40 [==============================] - 4s 96ms/step - loss: 0.0099 - accuracy: 0.9995 - val_loss: 0.8295 - val_accuracy: 0.7273\n",
      "Epoch 10/10\n",
      "40/40 [==============================] - 4s 95ms/step - loss: 0.0052 - accuracy: 1.0000 - val_loss: 0.7885 - val_accuracy: 0.7273\n"
     ]
    }
   ],
   "source": [
    "history1 = model1.fit_generator(generator = train_generator,\n",
    "                                # batch_size = 50으로 지정해뒀음\n",
    "                                # 전체 데이터(2000)개를 다 읽어오려면 몇번\n",
    "                                # 돌려야 하는지 입력\n",
    "                               steps_per_epoch = 40,\n",
    "                               epochs=10,\n",
    "                               validation_data = test_generator,\n",
    "                               validation_steps = 1)# 몇번 나눌것인지"
   ]
  },
  {
   "cell_type": "code",
   "execution_count": 13,
   "id": "be44c6e5",
   "metadata": {},
   "outputs": [
    {
     "data": {
      "text/plain": [
       "[0.4865, 0.642, 0.783, 0.886, 0.954, 0.983, 0.995, 0.9985, 0.9995, 1.0]"
      ]
     },
     "execution_count": 13,
     "metadata": {},
     "output_type": "execute_result"
    }
   ],
   "source": [
    "acc = history1.history['accuracy']\n",
    "acc"
   ]
  },
  {
   "cell_type": "code",
   "execution_count": 14,
   "id": "27acaa51",
   "metadata": {
    "scrolled": true
   },
   "outputs": [
    {
     "data": {
      "text/plain": [
       "[]"
      ]
     },
     "execution_count": 14,
     "metadata": {},
     "output_type": "execute_result"
    },
    {
     "data": {
      "image/png": "[encoded data removed]",
      "text/plain": [
       "<Figure size 432x288 with 1 Axes>"
      ]
     },
     "metadata": {
      "needs_background": "light"
     },
     "output_type": "display_data"
    }
   ],
   "source": [
    "import matplotlib.pyplot as plt\n",
    "acc = history1.history['accuracy']\n",
    "val_acc = history1.history['val_accuracy']\n",
    "\n",
    "epoch = range(1,len(acc)+1)\n",
    "\n",
    "plt.plot(epoch, acc, c = 'red',label = 'Train acc')\n",
    "plt.plot(epoch, val_acc, c ='blue', label = 'Test acc')\n",
    "plt.legend()\n",
    "plt.plot()"
   ]
  },
  {
   "cell_type": "markdown",
   "id": "be1623ce",
   "metadata": {},
   "source": [
    "증식을 이용해서 적은 데이터 개수를 늘려서 과대적합을 피해보자\n",
    "- imageDataGenerator()함수를 통해서 수행\n",
    "- 증식은 훈련데이터에서만 진행\n",
    "- data augmentation : 이미지를 회전, 이동, 확대, 축소, 뒤집기 등을 통해서 데이터를 늘리는 작업"
   ]
  },
  {
   "cell_type": "code",
   "execution_count": 15,
   "id": "cf22bc51",
   "metadata": {},
   "outputs": [],
   "source": [
    "# test데이터를 증식하면 어려운데이터가 늘어나서 학습데이터에 크게 영향이없음"
   ]
  },
  {
   "cell_type": "code",
   "execution_count": 16,
   "id": "f7648aed",
   "metadata": {},
   "outputs": [],
   "source": [
    "# 증식 설정\n",
    "train_dataGen = ImageDataGenerator(rescale = 1./255,\n",
    "                                  rotation_range=20,#회전을 할 범위\n",
    "                                  width_shift_range = 0.1, #이동\n",
    "                                  height_shift_range = 0.1,#이동\n",
    "                                  shear_range = 0.1,#축소\n",
    "                                  zoom_range = 0.1,#확대\n",
    "                                  horizontal_flip = True,\n",
    "                                  fill_mode='nearest'\n",
    "                                  )\n",
    "\n",
    "test_dataGen = ImageDataGenerator(rescale = 1./255)"
   ]
  },
  {
   "cell_type": "code",
   "execution_count": 17,
   "id": "7596912a",
   "metadata": {},
   "outputs": [
    {
     "name": "stdout",
     "output_type": "stream",
     "text": [
      "Found 2000 images belonging to 2 classes.\n",
      "Found 22 images belonging to 2 classes.\n"
     ]
    }
   ],
   "source": [
    "train_generator = train_dataGen.flow_from_directory(train_dir,\n",
    "                                               target_size = (150,150),\n",
    "                                               batch_size = 50,\n",
    "                                               class_mode = 'binary'\n",
    "                                               # 이진분류 : binary\n",
    "                                               # 다중분류 : categorical\n",
    "                                               # 라벨 번호는 0부터 시작\n",
    "                                               # 폴더는 알파벳 순으로 읽음\n",
    "                                            )\n",
    "test_generator = test_dataGen.flow_from_directory(test_dir,\n",
    "                                               target_size = (150,150),\n",
    "                                               batch_size = 50,\n",
    "                                               class_mode = 'binary'\n",
    "                                               # 이진분류 : binary\n",
    "                                               # 다중분류 : categorical\n",
    "                                               # 라벨 번호는 0부터 시작\n",
    "                                               # 폴더는 알파벳 순으로 읽음\n",
    "                                            )"
   ]
  },
  {
   "cell_type": "code",
   "execution_count": 18,
   "id": "3a2f9b6a",
   "metadata": {},
   "outputs": [
    {
     "name": "stdout",
     "output_type": "stream",
     "text": [
      "Model: \"sequential_1\"\n",
      "_________________________________________________________________\n",
      "Layer (type)                 Output Shape              Param #   \n",
      "=================================================================\n",
      "conv2d_1 (Conv2D)            (None, 150, 150, 32)      896       \n",
      "_________________________________________________________________\n",
      "max_pooling2d_1 (MaxPooling2 (None, 75, 75, 32)        0         \n",
      "_________________________________________________________________\n",
      "flatten_1 (Flatten)          (None, 180000)            0         \n",
      "_________________________________________________________________\n",
      "dense_2 (Dense)              (None, 512)               92160512  \n",
      "_________________________________________________________________\n",
      "dense_3 (Dense)              (None, 216)               110808    \n",
      "_________________________________________________________________\n",
      "dense_4 (Dense)              (None, 108)               23436     \n",
      "_________________________________________________________________\n",
      "dense_5 (Dense)              (None, 54)                5886      \n",
      "_________________________________________________________________\n",
      "dense_6 (Dense)              (None, 1)                 55        \n",
      "=================================================================\n",
      "Total params: 92,301,593\n",
      "Trainable params: 92,301,593\n",
      "Non-trainable params: 0\n",
      "_________________________________________________________________\n"
     ]
    }
   ],
   "source": [
    "from tensorflow.keras.models import Sequential\n",
    "from tensorflow.keras.layers import Dense, Dropout\n",
    "\n",
    "from tensorflow.keras.layers import Conv2D,MaxPooling2D, Flatten\n",
    "# Conv2D : 특징 찾기 (특징은 학습을 위한 데이터는 아님)\n",
    "# MaxPooling2D : 불필요한 부분 삭제\n",
    "# Flatten: 데이터 펴줌(2차원 데이터 > 1차원 데이터)\n",
    "\n",
    "model2 = Sequential()\n",
    "\n",
    "# 입력층 (CNN)\n",
    "model2.add(Conv2D(filters= 32, # 사진에서 찾을 특성 개수  (내가 찾을려는 특징의 수)\n",
    "                 kernel_size=(3,3), # 한번에 확인할 픽셀의 수 (특징의 크기)\n",
    "                 input_shape = (150,150,3), #targetSize를 조정한만큼 넣어주면됨\n",
    "                 #입력 데이터의 크기\n",
    "                  # 1 - GrayScale\n",
    "                  # 3 - 색상\n",
    "                 padding = 'same', \n",
    "                  # 가장자리의 데이터가 부족 이를 0 으로 채움(정보누실막기)\n",
    "                  #same = 입력데이터의 크기와 출력의 크기를 동일하게 \n",
    "                  #valid 패팅을 사용하지 않겠다(가장자리의 데이터 손실감안)\n",
    "                 activation = 'relu'))\n",
    "                 #stride 자료를 얼마나 건너띌지(중요한 것만 탐색)\n",
    "\n",
    "model2.add(MaxPooling2D(pool_size = (2,2)))\n",
    "# pool_size -데이터 축소 ex) 2,2 를 하나의 데이터로 생각하겠다.\n",
    "model2.add(Flatten()) #max_pooling2d의 데이터를 1차원 데이터로 펴줌\n",
    "# 차원 축소 \n",
    "\n",
    "# 은닉층\n",
    "model2.add(Dense(units = 512,activation = 'relu'))\n",
    "model2.add(Dense(units = 216,activation = 'relu'))\n",
    "model2.add(Dense(units = 108,activation = 'relu'))\n",
    "model2.add(Dense(units = 54,activation = 'relu'))\n",
    "\n",
    "# 출력층\n",
    "model2.add(Dense(units = 1, activation = 'sigmoid'))\n",
    "\n",
    "model2.summary()"
   ]
  },
  {
   "cell_type": "code",
   "execution_count": null,
   "id": "416987ed",
   "metadata": {},
   "outputs": [],
   "source": []
  },
  {
   "cell_type": "code",
   "execution_count": 19,
   "id": "a726fbd5",
   "metadata": {},
   "outputs": [],
   "source": [
    "model2.compile(loss = 'binary_crossentropy',\n",
    "              optimizer = 'adam',\n",
    "              metrics = ['accuracy'])"
   ]
  },
  {
   "cell_type": "code",
   "execution_count": 20,
   "id": "53d308fc",
   "metadata": {},
   "outputs": [
    {
     "name": "stdout",
     "output_type": "stream",
     "text": [
      "WARNING:tensorflow:sample_weight modes were coerced from\n",
      "  ...\n",
      "    to  \n",
      "  ['...']\n",
      "WARNING:tensorflow:sample_weight modes were coerced from\n",
      "  ...\n",
      "    to  \n",
      "  ['...']\n",
      "Train for 40 steps, validate for 1 steps\n",
      "Epoch 1/10\n",
      "40/40 [==============================] - 11s 268ms/step - loss: 1.3892 - accuracy: 0.5105 - val_loss: 0.6789 - val_accuracy: 0.5909\n",
      "Epoch 2/10\n",
      "40/40 [==============================] - 10s 255ms/step - loss: 0.6783 - accuracy: 0.5465 - val_loss: 0.6530 - val_accuracy: 0.6364\n",
      "Epoch 3/10\n",
      "40/40 [==============================] - 10s 256ms/step - loss: 0.6565 - accuracy: 0.6030 - val_loss: 0.6556 - val_accuracy: 0.6818\n",
      "Epoch 4/10\n",
      "40/40 [==============================] - 10s 255ms/step - loss: 0.6272 - accuracy: 0.6415 - val_loss: 0.6426 - val_accuracy: 0.6818\n",
      "Epoch 5/10\n",
      "40/40 [==============================] - 10s 256ms/step - loss: 0.6183 - accuracy: 0.6700 - val_loss: 0.6139 - val_accuracy: 0.5455\n",
      "Epoch 6/10\n",
      "40/40 [==============================] - 10s 257ms/step - loss: 0.6037 - accuracy: 0.6725 - val_loss: 0.5745 - val_accuracy: 0.7727\n",
      "Epoch 7/10\n",
      "40/40 [==============================] - 10s 254ms/step - loss: 0.5708 - accuracy: 0.6945 - val_loss: 0.5137 - val_accuracy: 0.7727\n",
      "Epoch 8/10\n",
      "40/40 [==============================] - 10s 252ms/step - loss: 0.5725 - accuracy: 0.7095 - val_loss: 0.5547 - val_accuracy: 0.7273\n",
      "Epoch 9/10\n",
      "40/40 [==============================] - 10s 250ms/step - loss: 0.5605 - accuracy: 0.7210 - val_loss: 0.6010 - val_accuracy: 0.5909\n",
      "Epoch 10/10\n",
      "40/40 [==============================] - 10s 249ms/step - loss: 0.5760 - accuracy: 0.7150 - val_loss: 0.5744 - val_accuracy: 0.7727\n"
     ]
    }
   ],
   "source": [
    "history2 = model2.fit_generator(generator = train_generator,\n",
    "                                # batch_size = 50으로 지정해뒀음\n",
    "                                # 전체 데이터(2000)개를 다 읽어오려면 몇번\n",
    "                                # 돌려야 하는지 입력\n",
    "                               steps_per_epoch = 40,\n",
    "                               epochs=10,\n",
    "                               validation_data = test_generator,\n",
    "                               validation_steps = 1)# 몇번 나눌것인지"
   ]
  },
  {
   "cell_type": "code",
   "execution_count": 21,
   "id": "52d17f94",
   "metadata": {},
   "outputs": [
    {
     "data": {
      "text/plain": [
       "[]"
      ]
     },
     "execution_count": 21,
     "metadata": {},
     "output_type": "execute_result"
    },
    {
     "data": {
      "image/png": "[encoded data removed]",
      "text/plain": [
       "<Figure size 432x288 with 1 Axes>"
      ]
     },
     "metadata": {
      "needs_background": "light"
     },
     "output_type": "display_data"
    }
   ],
   "source": [
    "import matplotlib.pyplot as plt\n",
    "acc = history2.history['accuracy']\n",
    "val_acc = history2.history['val_accuracy']\n",
    "\n",
    "epoch = range(1,len(acc)+1)\n",
    "\n",
    "plt.plot(epoch, acc, c = 'red',label = 'Train acc')\n",
    "plt.plot(epoch, val_acc, c ='blue', label = 'Test acc')\n",
    "plt.legend()\n",
    "plt.plot()"
   ]
  },
  {
   "cell_type": "markdown",
   "id": "4d9888a7",
   "metadata": {},
   "source": [
    "전이학습(transfer learning): 기존에 잘 만들어진 모델 가져다 쓰기\n",
    "- 특성추출 : 기존의 모델을 특성 추출기로만 사용\n",
    "- 미세조정 : 기존의 모델의 끝 층(dense층에 가까운 층) 까지 파라미터를 업데이트 하도록 하는것(기존에 우리가 만든 모델과 전이학습할 모델의 유사성을 높이는 것)\n"
   ]
  },
  {
   "cell_type": "code",
   "execution_count": 22,
   "id": "1b7d2e24",
   "metadata": {},
   "outputs": [],
   "source": [
    "# VGG16 모델 전이학습\n",
    "from tensorflow.keras.applications import VGG16\n",
    "\n",
    "conv_base = VGG16(weights = 'imagenet', # imagenet에 있는 가중치를 사용\n",
    "                 include_top = False,#분류기를 사용할 것인지>\n",
    "                  #False > 전이학습에서 특성추출 방식을 사용하겠다.\n",
    "                 input_shape = (150,150,3)) #모델에 입력한 데이터 크기"
   ]
  },
  {
   "cell_type": "code",
   "execution_count": 23,
   "id": "f83d6886",
   "metadata": {},
   "outputs": [
    {
     "name": "stdout",
     "output_type": "stream",
     "text": [
      "Model: \"vgg16\"\n",
      "_________________________________________________________________\n",
      "Layer (type)                 Output Shape              Param #   \n",
      "=================================================================\n",
      "input_1 (InputLayer)         [(None, 150, 150, 3)]     0         \n",
      "_________________________________________________________________\n",
      "block1_conv1 (Conv2D)        (None, 150, 150, 64)      1792      \n",
      "_________________________________________________________________\n",
      "block1_conv2 (Conv2D)        (None, 150, 150, 64)      36928     \n",
      "_________________________________________________________________\n",
      "block1_pool (MaxPooling2D)   (None, 75, 75, 64)        0         \n",
      "_________________________________________________________________\n",
      "block2_conv1 (Conv2D)        (None, 75, 75, 128)       73856     \n",
      "_________________________________________________________________\n",
      "block2_conv2 (Conv2D)        (None, 75, 75, 128)       147584    \n",
      "_________________________________________________________________\n",
      "block2_pool (MaxPooling2D)   (None, 37, 37, 128)       0         \n",
      "_________________________________________________________________\n",
      "block3_conv1 (Conv2D)        (None, 37, 37, 256)       295168    \n",
      "_________________________________________________________________\n",
      "block3_conv2 (Conv2D)        (None, 37, 37, 256)       590080    \n",
      "_________________________________________________________________\n",
      "block3_conv3 (Conv2D)        (None, 37, 37, 256)       590080    \n",
      "_________________________________________________________________\n",
      "block3_pool (MaxPooling2D)   (None, 18, 18, 256)       0         \n",
      "_________________________________________________________________\n",
      "block4_conv1 (Conv2D)        (None, 18, 18, 512)       1180160   \n",
      "_________________________________________________________________\n",
      "block4_conv2 (Conv2D)        (None, 18, 18, 512)       2359808   \n",
      "_________________________________________________________________\n",
      "block4_conv3 (Conv2D)        (None, 18, 18, 512)       2359808   \n",
      "_________________________________________________________________\n",
      "block4_pool (MaxPooling2D)   (None, 9, 9, 512)         0         \n",
      "_________________________________________________________________\n",
      "block5_conv1 (Conv2D)        (None, 9, 9, 512)         2359808   \n",
      "_________________________________________________________________\n",
      "block5_conv2 (Conv2D)        (None, 9, 9, 512)         2359808   \n",
      "_________________________________________________________________\n",
      "block5_conv3 (Conv2D)        (None, 9, 9, 512)         2359808   \n",
      "_________________________________________________________________\n",
      "block5_pool (MaxPooling2D)   (None, 4, 4, 512)         0         \n",
      "=================================================================\n",
      "Total params: 14,714,688\n",
      "Trainable params: 14,714,688\n",
      "Non-trainable params: 0\n",
      "_________________________________________________________________\n"
     ]
    }
   ],
   "source": [
    "conv_base.summary()"
   ]
  },
  {
   "cell_type": "code",
   "execution_count": 24,
   "id": "4963d3d2",
   "metadata": {},
   "outputs": [],
   "source": [
    "# 전이학습 - 데이터가 충분히 확보되지 못한 경우에 학습효율 높여줌\n",
    "#특성추출: 입력계층과 가까운 계층만 재사용 나머지는 신규학습\n",
    "#미세조정방식 : 전이학습한 모델을 사용하는 대신 조금조금씩 적용"
   ]
  },
  {
   "cell_type": "markdown",
   "id": "0a77fcb9",
   "metadata": {},
   "source": [
    "VGG16과 우리가 만든 분류기 결합하기"
   ]
  },
  {
   "cell_type": "code",
   "execution_count": 25,
   "id": "b4238f78",
   "metadata": {},
   "outputs": [],
   "source": [
    "import os \n",
    "import numpy as np\n",
    "from tensorflow.keras.preprocessing.image import ImageDataGenerator\n",
    "# 데이터 폴더명 지정\n",
    "train_dir = './dogs_vs_cats_small/train'\n",
    "test_dir = './dogs_vs_cats_small/test'\n",
    "validation_dir = './dogs_vs_cats_small/validation'\n",
    "\n",
    "dataGen = ImageDataGenerator(rescale = 1./255)\n",
    "\n",
    "batch_size = 20\n",
    "# VGG16 특성추출기로 데이터를 보내서 특성을 추출하는 함수\n",
    "# (데이터 폴더의 경로, 데이터의 개수)\n",
    "def extract_features(directory, sample_count) :\n",
    "    # VGG16에 데이터를 보내서 받은 특성과 라벨을 저장하기 위한 변수 설정\n",
    "    features = np.zeros(shape=(sample_count, 4, 4, 512))\n",
    "    # 제너레이터에서 생성된 라벨값을 저장\n",
    "    labels = np.zeros(shape=(sample_count))\n",
    "    \n",
    "    # VGG16으로 넘기기 위한 데이터를 제너레이터로 생성\n",
    "    generator = dataGen.flow_from_directory(directory,\n",
    "                                           target_size=(150, 150),\n",
    "                                           batch_size=20,\n",
    "                                           class_mode=\"binary\")\n",
    "    \n",
    "    i = 0   # VGG16를 호출한 횟수\n",
    "    # 제너레이터로부터 bath_size 개수만큼 데이터와 라벨을 가져온다\n",
    "    for inputs_bacth, labels_batch in generator :\n",
    "        # VGG16으로 데이터를 보내서 특성맵을 받아온다    \n",
    "        features_batch = conv_base.predict(inputs_bacth)\n",
    "        # features 리스트에 batch_size 개수만큼씩 VGG16에서 넘어온 특성을 추가\n",
    "        features[i * batch_size : (i + 1) * batch_size] = features_batch\n",
    "        # labels에 batch_size 개수만큼씩 제너레이터에서 넘어온 라벨을 추가\n",
    "        labels[i * batch_size : (i + 1) * batch_size] = labels_batch\n",
    "        \n",
    "        i = i + 1 # 한 번에 하나씩 계속 진행해줌\n",
    "        \n",
    "        # 처리한 데이터 갯수가 전체 데이터 갯수(sample_count)보다 크면\n",
    "        if i * batch_size >= sample_count :\n",
    "            break\n",
    "            \n",
    "    return features, labels     "
   ]
  },
  {
   "cell_type": "code",
   "execution_count": 26,
   "id": "49d5528a",
   "metadata": {},
   "outputs": [
    {
     "name": "stdout",
     "output_type": "stream",
     "text": [
      "Found 2000 images belonging to 2 classes.\n",
      "Found 22 images belonging to 2 classes.\n",
      "Found 1000 images belonging to 2 classes.\n"
     ]
    }
   ],
   "source": [
    "# 훈련, 테스트, 검증 데이터의 특성을 추출\n",
    "# 2000, 22, 1000\n",
    "train_feature, train_labels = extract_features(train_dir,2000) # 20000이라고 잘못입력되있었어요\n",
    "test_feature, test_labels = extract_features(test_dir,22)\n",
    "validation_feature, validation_labels = extract_features(validation_dir,1000)"
   ]
  },
  {
   "cell_type": "code",
   "execution_count": 27,
   "id": "b9cecf2c",
   "metadata": {},
   "outputs": [],
   "source": [
    "# 특성맵 데이터를 1차원으로 변환\n",
    "train_features = np.reshape(train_feature,(2000, 4 * 4 *512))\n",
    "test_features = np.reshape(test_feature,(22, 4 * 4 * 512))\n",
    "validation_features = np.reshape(validation_feature,(1000,4 * 4 *512))"
   ]
  },
  {
   "cell_type": "markdown",
   "id": "beb2d9d1",
   "metadata": {},
   "source": [
    "설계한 신경망층에 특성맵을 적용"
   ]
  },
  {
   "cell_type": "code",
   "execution_count": 28,
   "id": "69797e57",
   "metadata": {},
   "outputs": [
    {
     "name": "stdout",
     "output_type": "stream",
     "text": [
      "Model: \"sequential_2\"\n",
      "_________________________________________________________________\n",
      "Layer (type)                 Output Shape              Param #   \n",
      "=================================================================\n",
      "dense_7 (Dense)              (None, 256)               2097408   \n",
      "_________________________________________________________________\n",
      "dropout (Dropout)            (None, 256)               0         \n",
      "_________________________________________________________________\n",
      "dense_8 (Dense)              (None, 1)                 257       \n",
      "=================================================================\n",
      "Total params: 2,097,665\n",
      "Trainable params: 2,097,665\n",
      "Non-trainable params: 0\n",
      "_________________________________________________________________\n"
     ]
    }
   ],
   "source": [
    "# 이미 특성들을 추출되어 있기 때문에 MLP를 얇게 쌓아도 됨\n",
    "from tensorflow.keras.models import Sequential\n",
    "from tensorflow.keras.layers import Dense, Dropout\n",
    "\n",
    "model3 = Sequential()\n",
    "\n",
    "model3.add(Dense(units = 256,\n",
    "                input_dim = 4 * 4*512,\n",
    "                activation = 'relu'))\n",
    "model3.add(Dropout(0.5))\n",
    "\n",
    "model3.add(Dense(units = 1,\n",
    "                activation = 'sigmoid'))\n",
    "\n",
    "model3.summary()"
   ]
  },
  {
   "cell_type": "code",
   "execution_count": 29,
   "id": "3bb531f8",
   "metadata": {},
   "outputs": [],
   "source": [
    "from tensorflow.keras.optimizers import Adam\n",
    "# 학습률 기본값 0.001\n",
    "# 에러의 X 0.001 만큼 반영"
   ]
  },
  {
   "cell_type": "code",
   "execution_count": 30,
   "id": "484af849",
   "metadata": {},
   "outputs": [],
   "source": [
    "model3.compile(loss = 'binary_crossentropy',\n",
    "              optimizer = Adam(learning_rate = 0.01), # 러닝메이트를 적당하게 조정 너무 크면 발산\n",
    "              metrics = ['accuracy'])"
   ]
  },
  {
   "cell_type": "code",
   "execution_count": 31,
   "id": "b771d65d",
   "metadata": {},
   "outputs": [
    {
     "name": "stdout",
     "output_type": "stream",
     "text": [
      "Train on 2000 samples, validate on 1000 samples\n",
      "Epoch 1/30\n",
      "2000/2000 [==============================] - 1s 290us/sample - loss: 1.6085 - accuracy: 0.7720 - val_loss: 0.3056 - val_accuracy: 0.8660\n",
      "Epoch 2/30\n",
      "2000/2000 [==============================] - 0s 136us/sample - loss: 0.3025 - accuracy: 0.8680 - val_loss: 0.2757 - val_accuracy: 0.8920\n",
      "Epoch 3/30\n",
      "2000/2000 [==============================] - 0s 135us/sample - loss: 0.3068 - accuracy: 0.8645 - val_loss: 0.2681 - val_accuracy: 0.8920\n",
      "Epoch 4/30\n",
      "2000/2000 [==============================] - 0s 135us/sample - loss: 0.2855 - accuracy: 0.8870 - val_loss: 0.3401 - val_accuracy: 0.8660\n",
      "Epoch 5/30\n",
      "2000/2000 [==============================] - 0s 136us/sample - loss: 0.2648 - accuracy: 0.8875 - val_loss: 0.2657 - val_accuracy: 0.8980\n",
      "Epoch 6/30\n",
      "2000/2000 [==============================] - 0s 134us/sample - loss: 0.2980 - accuracy: 0.8670 - val_loss: 0.3676 - val_accuracy: 0.8610\n",
      "Epoch 7/30\n",
      "2000/2000 [==============================] - 0s 136us/sample - loss: 0.2634 - accuracy: 0.8805 - val_loss: 0.2610 - val_accuracy: 0.8910\n",
      "Epoch 8/30\n",
      "2000/2000 [==============================] - 0s 135us/sample - loss: 0.2170 - accuracy: 0.9030 - val_loss: 0.3006 - val_accuracy: 0.8780\n",
      "Epoch 9/30\n",
      "2000/2000 [==============================] - 0s 139us/sample - loss: 0.2592 - accuracy: 0.8900 - val_loss: 0.2939 - val_accuracy: 0.8890\n",
      "Epoch 10/30\n",
      "2000/2000 [==============================] - 0s 135us/sample - loss: 0.2525 - accuracy: 0.8935 - val_loss: 0.2707 - val_accuracy: 0.9080\n",
      "Epoch 11/30\n",
      "2000/2000 [==============================] - 0s 136us/sample - loss: 0.2255 - accuracy: 0.8955 - val_loss: 0.2753 - val_accuracy: 0.9010\n",
      "Epoch 12/30\n",
      "2000/2000 [==============================] - 0s 135us/sample - loss: 0.2928 - accuracy: 0.8880 - val_loss: 0.2684 - val_accuracy: 0.8880\n",
      "Epoch 13/30\n",
      "2000/2000 [==============================] - 0s 136us/sample - loss: 0.2116 - accuracy: 0.9100 - val_loss: 0.2733 - val_accuracy: 0.9010\n",
      "Epoch 14/30\n",
      "2000/2000 [==============================] - 0s 135us/sample - loss: 0.2203 - accuracy: 0.8930 - val_loss: 0.2998 - val_accuracy: 0.8630\n",
      "Epoch 15/30\n",
      "2000/2000 [==============================] - 0s 134us/sample - loss: 0.2334 - accuracy: 0.9025 - val_loss: 0.2908 - val_accuracy: 0.8950\n",
      "Epoch 16/30\n",
      "2000/2000 [==============================] - 0s 138us/sample - loss: 0.1930 - accuracy: 0.9040 - val_loss: 0.2850 - val_accuracy: 0.8970\n",
      "Epoch 17/30\n",
      "2000/2000 [==============================] - 0s 136us/sample - loss: 0.1574 - accuracy: 0.9205 - val_loss: 0.3132 - val_accuracy: 0.9000\n",
      "Epoch 18/30\n",
      "2000/2000 [==============================] - 0s 142us/sample - loss: 0.1696 - accuracy: 0.9180 - val_loss: 0.2925 - val_accuracy: 0.8970\n",
      "Epoch 19/30\n",
      "2000/2000 [==============================] - 0s 134us/sample - loss: 0.1629 - accuracy: 0.9285 - val_loss: 0.4183 - val_accuracy: 0.8840\n",
      "Epoch 20/30\n",
      "2000/2000 [==============================] - 0s 137us/sample - loss: 0.1404 - accuracy: 0.9265 - val_loss: 0.4086 - val_accuracy: 0.8990\n",
      "Epoch 21/30\n",
      "2000/2000 [==============================] - 0s 138us/sample - loss: 0.1470 - accuracy: 0.9285 - val_loss: 0.3199 - val_accuracy: 0.8980\n",
      "Epoch 22/30\n",
      "2000/2000 [==============================] - 0s 136us/sample - loss: 0.1622 - accuracy: 0.9115 - val_loss: 0.2822 - val_accuracy: 0.8980\n",
      "Epoch 23/30\n",
      "2000/2000 [==============================] - 0s 137us/sample - loss: 0.1577 - accuracy: 0.9345 - val_loss: 0.3722 - val_accuracy: 0.8950\n",
      "Epoch 24/30\n",
      "2000/2000 [==============================] - 0s 139us/sample - loss: 0.1117 - accuracy: 0.9455 - val_loss: 0.4846 - val_accuracy: 0.8960\n",
      "Epoch 25/30\n",
      "2000/2000 [==============================] - 0s 140us/sample - loss: 0.1791 - accuracy: 0.9120 - val_loss: 0.2803 - val_accuracy: 0.8900\n",
      "Epoch 26/30\n",
      "2000/2000 [==============================] - 0s 136us/sample - loss: 0.1717 - accuracy: 0.9155 - val_loss: 0.3437 - val_accuracy: 0.8960\n",
      "Epoch 27/30\n",
      "2000/2000 [==============================] - 0s 138us/sample - loss: 0.1476 - accuracy: 0.9220 - val_loss: 0.6066 - val_accuracy: 0.8950\n",
      "Epoch 28/30\n",
      "2000/2000 [==============================] - 0s 137us/sample - loss: 0.1092 - accuracy: 0.9385 - val_loss: 0.4858 - val_accuracy: 0.8990\n",
      "Epoch 29/30\n",
      "2000/2000 [==============================] - 0s 137us/sample - loss: 0.1132 - accuracy: 0.9390 - val_loss: 0.4149 - val_accuracy: 0.9040\n",
      "Epoch 30/30\n",
      "2000/2000 [==============================] - 0s 135us/sample - loss: 0.1004 - accuracy: 0.9465 - val_loss: 0.5771 - val_accuracy: 0.9020\n"
     ]
    }
   ],
   "source": [
    "h3 = model3.fit(train_features, train_labels,\n",
    "               batch_size = 20,\n",
    "               epochs = 30,\n",
    "               validation_data = (validation_features,validation_labels))"
   ]
  },
  {
   "cell_type": "code",
   "execution_count": 32,
   "id": "48e1cb10",
   "metadata": {},
   "outputs": [
    {
     "data": {
      "text/plain": [
       "[]"
      ]
     },
     "execution_count": 32,
     "metadata": {},
     "output_type": "execute_result"
    },
    {
     "data": {
      "image/png": "[encoded data removed]",
      "text/plain": [
       "<Figure size 432x288 with 1 Axes>"
      ]
     },
     "metadata": {
      "needs_background": "light"
     },
     "output_type": "display_data"
    }
   ],
   "source": [
    "import matplotlib.pyplot as plt\n",
    "acc = h3.history['accuracy']\n",
    "val_acc = h3.history['val_accuracy']\n",
    "\n",
    "epoch = range(1,len(acc)+1)\n",
    "\n",
    "plt.plot(epoch, acc, c = 'red',label = 'Train acc')\n",
    "plt.plot(epoch, val_acc, c ='blue', label = 'Test acc')\n",
    "plt.legend()\n",
    "plt.plot()"
   ]
  },
  {
   "cell_type": "markdown",
   "id": "4b48a295",
   "metadata": {},
   "source": [
    "VGG모델 바로 적용시키기"
   ]
  },
  {
   "cell_type": "code",
   "execution_count": 33,
   "id": "08d90778",
   "metadata": {},
   "outputs": [
    {
     "name": "stdout",
     "output_type": "stream",
     "text": [
      "Model: \"sequential_3\"\n",
      "_________________________________________________________________\n",
      "Layer (type)                 Output Shape              Param #   \n",
      "=================================================================\n",
      "vgg16 (Model)                (None, 4, 4, 512)         14714688  \n",
      "_________________________________________________________________\n",
      "flatten_2 (Flatten)          (None, 8192)              0         \n",
      "_________________________________________________________________\n",
      "dense_9 (Dense)              (None, 256)               2097408   \n",
      "_________________________________________________________________\n",
      "dense_10 (Dense)             (None, 1)                 257       \n",
      "=================================================================\n",
      "Total params: 16,812,353\n",
      "Trainable params: 16,812,353\n",
      "Non-trainable params: 0\n",
      "_________________________________________________________________\n"
     ]
    }
   ],
   "source": [
    "from tensorflow.keras.models import Sequential\n",
    "from tensorflow.keras.layers import Dense, Dropout, Flatten\n",
    "\n",
    "model4 = Sequential()\n",
    "\n",
    "# 우리가 설계할 모델에 VGG16끼워 넣기\n",
    "model4.add(conv_base)# 입력층 끝\n",
    "\n",
    "model4.add(Flatten())\n",
    "\n",
    "model4.add(Dense(units = 256, activation = 'relu')) #은닉층\n",
    "model4.add(Dense(units = 1, activation = 'sigmoid')) #출력층\n",
    "\n",
    "model4.summary()"
   ]
  },
  {
   "cell_type": "markdown",
   "id": "17115c92",
   "metadata": {},
   "source": [
    "동결 : 기존의 모델을 우리가 설계할 모델에 그대로 삽입하면 오차역전파시에 기존 모델의 파라미터값도 갱신되어 많은 데이터로 학습한 기존 모델의 장점이 사라짐\n",
    "- 기존 모델의 파라미터가 개신되지 않도록 해야함"
   ]
  },
  {
   "cell_type": "code",
   "execution_count": 34,
   "id": "eb60a521",
   "metadata": {},
   "outputs": [
    {
     "name": "stdout",
     "output_type": "stream",
     "text": [
      "30\n"
     ]
    }
   ],
   "source": [
    "# 동결되기 전의 훈련되는 VGG16의 가중치수 \n",
    "print(len(model4.trainable_weights))"
   ]
  },
  {
   "cell_type": "code",
   "execution_count": 50,
   "id": "d91b2d77",
   "metadata": {},
   "outputs": [],
   "source": [
    "# VGG16의 전체 층에 대해 동결\n",
    "#파라미터를 사용하지 않겠다.\n",
    "conv_base.trainable = False"
   ]
  },
  {
   "cell_type": "code",
   "execution_count": 51,
   "id": "dfa85ea2",
   "metadata": {},
   "outputs": [
    {
     "name": "stdout",
     "output_type": "stream",
     "text": [
      "4\n"
     ]
    }
   ],
   "source": [
    "# 동결 후의 훈련되는 VGG16의 가중치수\n",
    "print(len(model4.trainable_weights))"
   ]
  },
  {
   "cell_type": "code",
   "execution_count": 52,
   "id": "6fbae409",
   "metadata": {},
   "outputs": [
    {
     "name": "stdout",
     "output_type": "stream",
     "text": [
      "Found 2000 images belonging to 2 classes.\n",
      "Found 1000 images belonging to 2 classes.\n"
     ]
    }
   ],
   "source": [
    "# 이미지 증식\n",
    "from tensorflow.keras.preprocessing.image import ImageDataGenerator\n",
    "train_dataGen = ImageDataGenerator(rescale = 1./255,\n",
    "                                 rotation_range = 20,\n",
    "                                 width_shift_range = 0.1,\n",
    "                                 height_shift_range = 0.1,\n",
    "                                 shear_range = 0.1,\n",
    "                                 zoom_range = 0.1,\n",
    "                                 horizontal_flip = True,\n",
    "                                 fill_mode = 'nearest'\n",
    ")\n",
    "\n",
    "test_dataGen = ImageDataGenerator(rescale = 1./255)\n",
    "\n",
    "train_generator = train_dataGen.flow_from_directory(train_dir,\n",
    "                                                target_size = (150,150),\n",
    "                                                batch_size = 10,\n",
    "                                                class_mode = 'binary'\n",
    "                                                # 이진분류 : binary\n",
    "                                                # 다중분류 : categorical\n",
    "                                                # 라벨 번호는 0부터 시작\n",
    "                                                # 폴더는 알파벳 순으로 읽음\n",
    ")\n",
    "\n",
    "test_generator = test_dataGen.flow_from_directory(validation_dir,\n",
    "                                                target_size = (150,150),\n",
    "                                                batch_size = 10,\n",
    "                                                class_mode = 'binary'\n",
    "                                                # 이진분류 : binary\n",
    "                                                # 다중분류 : categorical\n",
    "                                                # 라벨 번호는 0부터 시작\n",
    "                                                # 폴더는 알파벳 순으로 읽음\n",
    ")\n"
   ]
  },
  {
   "cell_type": "code",
   "execution_count": 53,
   "id": "40f90bcd",
   "metadata": {},
   "outputs": [],
   "source": [
    "model4.compile(loss = 'binary_crossentropy',\n",
    "              optimizer = Adam(learning_rate = 0.01), # 러닝메이트를 적당하게 조정 너무 크면 발산\n",
    "               # 한번에 얼마만큼 많이 학습시킬 것인지 \n",
    "              metrics = ['Accuracy'])"
   ]
  },
  {
   "cell_type": "code",
   "execution_count": 54,
   "id": "3b896d4d",
   "metadata": {},
   "outputs": [],
   "source": [
    "# 이미지 증식 후\n",
    "# 증식한 이미지를 훈련\n",
    "# 코드가 약간 다름 "
   ]
  },
  {
   "cell_type": "code",
   "execution_count": 55,
   "id": "1c353c4a",
   "metadata": {
    "scrolled": true
   },
   "outputs": [
    {
     "name": "stdout",
     "output_type": "stream",
     "text": [
      "WARNING:tensorflow:sample_weight modes were coerced from\n",
      "  ...\n",
      "    to  \n",
      "  ['...']\n"
     ]
    },
    {
     "name": "stderr",
     "output_type": "stream",
     "text": [
      "WARNING:tensorflow:sample_weight modes were coerced from\n",
      "  ...\n",
      "    to  \n",
      "  ['...']\n"
     ]
    },
    {
     "name": "stdout",
     "output_type": "stream",
     "text": [
      "WARNING:tensorflow:sample_weight modes were coerced from\n",
      "  ...\n",
      "    to  \n",
      "  ['...']\n"
     ]
    },
    {
     "name": "stderr",
     "output_type": "stream",
     "text": [
      "WARNING:tensorflow:sample_weight modes were coerced from\n",
      "  ...\n",
      "    to  \n",
      "  ['...']\n"
     ]
    },
    {
     "name": "stdout",
     "output_type": "stream",
     "text": [
      "Train for 100 steps, validate for 50 steps\n",
      "Epoch 1/20\n",
      "100/100 [==============================] - 7s 69ms/step - loss: 0.6981 - Accuracy: 0.0000e+00 - val_loss: 0.6945 - val_Accuracy: 0.0000e+00\n",
      "Epoch 2/20\n",
      "100/100 [==============================] - 6s 62ms/step - loss: 0.6939 - Accuracy: 0.0000e+00 - val_loss: 0.6934 - val_Accuracy: 0.0000e+00\n",
      "Epoch 3/20\n",
      "100/100 [==============================] - 6s 63ms/step - loss: 0.6934 - Accuracy: 0.0000e+00 - val_loss: 0.6928 - val_Accuracy: 0.0000e+00\n",
      "Epoch 4/20\n",
      "100/100 [==============================] - 6s 62ms/step - loss: 0.6937 - Accuracy: 0.0000e+00 - val_loss: 0.6929 - val_Accuracy: 0.0000e+00\n",
      "Epoch 5/20\n",
      "100/100 [==============================] - 6s 62ms/step - loss: 0.6936 - Accuracy: 0.0000e+00 - val_loss: 0.6931 - val_Accuracy: 0.0000e+00\n",
      "Epoch 6/20\n",
      "100/100 [==============================] - 6s 62ms/step - loss: 0.6937 - Accuracy: 0.0000e+00 - val_loss: 0.6938 - val_Accuracy: 0.0000e+00\n",
      "Epoch 7/20\n",
      "100/100 [==============================] - 6s 62ms/step - loss: 0.6935 - Accuracy: 0.0000e+00 - val_loss: 0.6930 - val_Accuracy: 0.0000e+00\n",
      "Epoch 8/20\n",
      "100/100 [==============================] - 6s 62ms/step - loss: 0.6938 - Accuracy: 0.0000e+00 - val_loss: 0.6930 - val_Accuracy: 0.0000e+00\n",
      "Epoch 9/20\n",
      "100/100 [==============================] - 6s 62ms/step - loss: 0.6937 - Accuracy: 0.0000e+00 - val_loss: 0.6941 - val_Accuracy: 0.0000e+00\n",
      "Epoch 10/20\n",
      "100/100 [==============================] - 6s 62ms/step - loss: 0.6938 - Accuracy: 0.0000e+00 - val_loss: 0.6947 - val_Accuracy: 0.0000e+00\n",
      "Epoch 11/20\n",
      "100/100 [==============================] - 6s 63ms/step - loss: 0.6924 - Accuracy: 0.0000e+00 - val_loss: 0.6953 - val_Accuracy: 0.0000e+00\n",
      "Epoch 12/20\n",
      "100/100 [==============================] - 6s 62ms/step - loss: 0.6933 - Accuracy: 0.0000e+00 - val_loss: 0.6946 - val_Accuracy: 0.0000e+00\n",
      "Epoch 13/20\n",
      "100/100 [==============================] - 6s 61ms/step - loss: 0.6936 - Accuracy: 0.0000e+00 - val_loss: 0.6949 - val_Accuracy: 0.0000e+00\n",
      "Epoch 14/20\n",
      "100/100 [==============================] - 6s 61ms/step - loss: 0.6938 - Accuracy: 0.0000e+00 - val_loss: 0.6929 - val_Accuracy: 0.0000e+00\n",
      "Epoch 15/20\n",
      "100/100 [==============================] - 6s 63ms/step - loss: 0.6937 - Accuracy: 0.0000e+00 - val_loss: 0.6933 - val_Accuracy: 0.0000e+00\n",
      "Epoch 16/20\n",
      "100/100 [==============================] - 6s 64ms/step - loss: 0.6940 - Accuracy: 0.0000e+00 - val_loss: 0.6931 - val_Accuracy: 0.0000e+00\n",
      "Epoch 17/20\n",
      "100/100 [==============================] - 6s 64ms/step - loss: 0.6936 - Accuracy: 0.0000e+00 - val_loss: 0.6933 - val_Accuracy: 0.0000e+00\n",
      "Epoch 18/20\n",
      "100/100 [==============================] - 6s 62ms/step - loss: 0.6933 - Accuracy: 0.0000e+00 - val_loss: 0.6930 - val_Accuracy: 0.0000e+00\n",
      "Epoch 19/20\n",
      "100/100 [==============================] - 6s 62ms/step - loss: 0.6935 - Accuracy: 0.0000e+00 - val_loss: 0.6929 - val_Accuracy: 0.0000e+00\n",
      "Epoch 20/20\n",
      "100/100 [==============================] - 6s 64ms/step - loss: 0.6938 - Accuracy: 0.0000e+00 - val_loss: 0.6928 - val_Accuracy: 0.0000e+00\n"
     ]
    }
   ],
   "source": [
    "h4 = model4.fit_generator(generator = train_generator,\n",
    "               steps_per_epoch = 100,\n",
    "               epochs = 20,\n",
    "               validation_data = test_generator,\n",
    "                          validation_steps=50)"
   ]
  },
  {
   "cell_type": "code",
   "execution_count": 41,
   "id": "f6d34dd3",
   "metadata": {},
   "outputs": [
    {
     "data": {
      "text/plain": [
       "[]"
      ]
     },
     "execution_count": 41,
     "metadata": {},
     "output_type": "execute_result"
    },
    {
     "data": {
      "image/png": "[encoded data removed]",
      "text/plain": [
       "<Figure size 432x288 with 1 Axes>"
      ]
     },
     "metadata": {
      "needs_background": "light"
     },
     "output_type": "display_data"
    }
   ],
   "source": [
    "import matplotlib.pyplot as plt\n",
    "acc = h4.history['Accuracy']\n",
    "val_acc = h4.history['val_Accuracy']\n",
    "\n",
    "epoch = range(1,len(acc)+1)\n",
    "\n",
    "plt.plot(epoch, acc, c = 'red',label = 'Train acc')\n",
    "plt.plot(epoch, val_acc, c ='blue', label = 'Test acc')\n",
    "plt.legend()\n",
    "plt.plot()\n"
   ]
  },
  {
   "cell_type": "markdown",
   "id": "95528b01",
   "metadata": {},
   "source": [
    "미세조정\n",
    "- 기존의 모델과 우리 모델이 잘 연결되도록 기존 모델의 아랫층까지 학습이 가능하도록 만들어주는것"
   ]
  },
  {
   "cell_type": "code",
   "execution_count": 56,
   "id": "9670aa0b",
   "metadata": {},
   "outputs": [
    {
     "name": "stdout",
     "output_type": "stream",
     "text": [
      "Model: \"sequential_5\"\n",
      "_________________________________________________________________\n",
      "Layer (type)                 Output Shape              Param #   \n",
      "=================================================================\n",
      "vgg16 (Model)                (None, 4, 4, 512)         14714688  \n",
      "_________________________________________________________________\n",
      "flatten_4 (Flatten)          (None, 8192)              0         \n",
      "_________________________________________________________________\n",
      "dense_13 (Dense)             (None, 256)               2097408   \n",
      "_________________________________________________________________\n",
      "dense_14 (Dense)             (None, 1)                 257       \n",
      "=================================================================\n",
      "Total params: 16,812,353\n",
      "Trainable params: 2,097,665\n",
      "Non-trainable params: 14,714,688\n",
      "_________________________________________________________________\n"
     ]
    }
   ],
   "source": [
    "# Sequential \n",
    "# Dense, Dropout, Flatten \n",
    "from tensorflow.keras.models import Sequential\n",
    "from tensorflow.keras.layers import Dense, Dropout, Flatten\n",
    "\n",
    "model5 = Sequential()\n",
    "\n",
    "# VGG16 끼워넣기\n",
    "model5.add(conv_base)\n",
    "\n",
    "model5.add(Flatten())\n",
    "\n",
    "model5.add(Dense(256, activation = 'relu'))\n",
    "\n",
    "model5.add(Dense(1,activation = 'sigmoid'))\n",
    "\n",
    "model5.summary()\n",
    "\n"
   ]
  },
  {
   "cell_type": "code",
   "execution_count": 57,
   "id": "ba700939",
   "metadata": {},
   "outputs": [],
   "source": [
    "# block2_conv1 층 까지만 학습이 되도록 미세조정\n",
    "\n",
    "\n",
    "# VGG16 모델 전체가 학습이 되도록 설정\n",
    "conv_base.trainable = True\n",
    "\n",
    "set_trainable = False\n",
    "\n",
    "# VGG16의 신경망층 한 층을 가져온다\n",
    "for layer in conv_base.layers:\n",
    "    #가져온 층의 이름이 block5_conv1이라면\n",
    "    if layer.name == 'block5_conv1':\n",
    "        set_trainable = True #학습하도록하고\n",
    "    \n",
    "    if set_trainable == True:\n",
    "        layer.trainable = True\n",
    "    else: \n",
    "        layer.trainable = False#학습하지 않도록하고"
   ]
  },
  {
   "cell_type": "code",
   "execution_count": 58,
   "id": "c28fcb6b",
   "metadata": {},
   "outputs": [],
   "source": [
    "model5.compile(loss = 'binary_crossentropy',\n",
    "              optimizer = 'adam',\n",
    "              metrics = ['Accuracy'])"
   ]
  },
  {
   "cell_type": "code",
   "execution_count": 59,
   "id": "3a20b093",
   "metadata": {},
   "outputs": [
    {
     "name": "stdout",
     "output_type": "stream",
     "text": [
      "WARNING:tensorflow:sample_weight modes were coerced from\n",
      "  ...\n",
      "    to  \n",
      "  ['...']\n"
     ]
    },
    {
     "name": "stderr",
     "output_type": "stream",
     "text": [
      "WARNING:tensorflow:sample_weight modes were coerced from\n",
      "  ...\n",
      "    to  \n",
      "  ['...']\n"
     ]
    },
    {
     "name": "stdout",
     "output_type": "stream",
     "text": [
      "WARNING:tensorflow:sample_weight modes were coerced from\n",
      "  ...\n",
      "    to  \n",
      "  ['...']\n"
     ]
    },
    {
     "name": "stderr",
     "output_type": "stream",
     "text": [
      "WARNING:tensorflow:sample_weight modes were coerced from\n",
      "  ...\n",
      "    to  \n",
      "  ['...']\n"
     ]
    },
    {
     "name": "stdout",
     "output_type": "stream",
     "text": [
      "Train for 100 steps, validate for 50 steps\n",
      "Epoch 1/20\n",
      "100/100 [==============================] - 7s 68ms/step - loss: 0.6932 - Accuracy: 0.0000e+00 - val_loss: 0.6931 - val_Accuracy: 0.0000e+00\n",
      "Epoch 2/20\n",
      "100/100 [==============================] - 6s 62ms/step - loss: 0.6932 - Accuracy: 0.0000e+00 - val_loss: 0.6931 - val_Accuracy: 0.0000e+00\n",
      "Epoch 3/20\n",
      "100/100 [==============================] - 6s 62ms/step - loss: 0.6933 - Accuracy: 0.0000e+00 - val_loss: 0.6931 - val_Accuracy: 0.0000e+00\n",
      "Epoch 4/20\n",
      "100/100 [==============================] - 6s 62ms/step - loss: 0.6932 - Accuracy: 0.0000e+00 - val_loss: 0.6931 - val_Accuracy: 0.0000e+00\n",
      "Epoch 5/20\n",
      "100/100 [==============================] - 6s 63ms/step - loss: 0.6932 - Accuracy: 0.0000e+00 - val_loss: 0.6933 - val_Accuracy: 0.0000e+00\n",
      "Epoch 6/20\n",
      "100/100 [==============================] - 6s 62ms/step - loss: 0.6932 - Accuracy: 0.0000e+00 - val_loss: 0.6932 - val_Accuracy: 0.0000e+00\n",
      "Epoch 7/20\n",
      "100/100 [==============================] - 6s 62ms/step - loss: 0.6932 - Accuracy: 0.0000e+00 - val_loss: 0.6933 - val_Accuracy: 0.0000e+00\n",
      "Epoch 8/20\n",
      "100/100 [==============================] - 6s 63ms/step - loss: 0.6931 - Accuracy: 0.0000e+00 - val_loss: 0.6934 - val_Accuracy: 0.0000e+00\n",
      "Epoch 9/20\n",
      "100/100 [==============================] - 6s 62ms/step - loss: 0.6932 - Accuracy: 0.0000e+00 - val_loss: 0.6933 - val_Accuracy: 0.0000e+00\n",
      "Epoch 10/20\n",
      "100/100 [==============================] - 6s 62ms/step - loss: 0.6932 - Accuracy: 0.0000e+00 - val_loss: 0.6934 - val_Accuracy: 0.0000e+00\n",
      "Epoch 11/20\n",
      "100/100 [==============================] - 6s 63ms/step - loss: 0.6931 - Accuracy: 0.0000e+00 - val_loss: 0.6934 - val_Accuracy: 0.0000e+00\n",
      "Epoch 12/20\n",
      "100/100 [==============================] - 6s 63ms/step - loss: 0.6931 - Accuracy: 0.0000e+00 - val_loss: 0.6934 - val_Accuracy: 0.0000e+00\n",
      "Epoch 13/20\n",
      "100/100 [==============================] - 6s 63ms/step - loss: 0.6931 - Accuracy: 0.0000e+00 - val_loss: 0.6935 - val_Accuracy: 0.0000e+00\n",
      "Epoch 14/20\n",
      "100/100 [==============================] - 7s 69ms/step - loss: 0.6935 - Accuracy: 0.0000e+00 - val_loss: 0.6932 - val_Accuracy: 0.0000e+00\n",
      "Epoch 15/20\n",
      "100/100 [==============================] - 6s 61ms/step - loss: 0.6932 - Accuracy: 0.0000e+00 - val_loss: 0.6931 - val_Accuracy: 0.0000e+00\n",
      "Epoch 16/20\n",
      "100/100 [==============================] - 6s 63ms/step - loss: 0.6932 - Accuracy: 0.0000e+00 - val_loss: 0.6933 - val_Accuracy: 0.0000e+00\n",
      "Epoch 17/20\n",
      "100/100 [==============================] - 6s 62ms/step - loss: 0.6932 - Accuracy: 0.0000e+00 - val_loss: 0.6932 - val_Accuracy: 0.0000e+00\n",
      "Epoch 18/20\n",
      "100/100 [==============================] - 6s 62ms/step - loss: 0.6932 - Accuracy: 0.0000e+00 - val_loss: 0.6931 - val_Accuracy: 0.0000e+00\n",
      "Epoch 19/20\n",
      "100/100 [==============================] - 6s 62ms/step - loss: 0.6932 - Accuracy: 0.0000e+00 - val_loss: 0.6932 - val_Accuracy: 0.0000e+00\n",
      "Epoch 20/20\n",
      "100/100 [==============================] - 6s 62ms/step - loss: 0.6931 - Accuracy: 0.0000e+00 - val_loss: 0.6933 - val_Accuracy: 0.0000e+00\n"
     ]
    }
   ],
   "source": [
    "h5 = model5.fit_generator(generator = train_generator,\n",
    "               steps_per_epoch = 100,\n",
    "               epochs = 20,\n",
    "               validation_data = test_generator,\n",
    "                          validation_steps=50)"
   ]
  },
  {
   "cell_type": "code",
   "execution_count": 49,
   "id": "7094ceb4",
   "metadata": {},
   "outputs": [
    {
     "data": {
      "text/plain": [
       "[]"
      ]
     },
     "execution_count": 49,
     "metadata": {},
     "output_type": "execute_result"
    },
    {
     "data": {
      "image/png": "[encoded data removed]",
      "text/plain": [
       "<Figure size 432x288 with 1 Axes>"
      ]
     },
     "metadata": {
      "needs_background": "light"
     },
     "output_type": "display_data"
    }
   ],
   "source": [
    "import matplotlib.pyplot as plt\n",
    "acc = h5.history['Accuracy']\n",
    "val_acc = h5.history['val_Accuracy']\n",
    "\n",
    "epoch = range(1,len(acc)+1)\n",
    "\n",
    "plt.plot(epoch, acc, c = 'red',label = 'Train acc')\n",
    "plt.plot(epoch, val_acc, c ='blue', label = 'Test acc')\n",
    "plt.legend()\n",
    "plt.plot()\n"
   ]
  },
  {
   "cell_type": "code",
   "execution_count": null,
   "id": "6dcaaefc",
   "metadata": {},
   "outputs": [],
   "source": []
  }
 ],
 "metadata": {
  "kernelspec": {
   "display_name": "Python 3",
   "language": "python",
   "name": "python3"
  },
  "language_info": {
   "codemirror_mode": {
    "name": "ipython",
    "version": 3
   },
   "file_extension": ".py",
   "mimetype": "text/x-python",
   "name": "python",
   "nbconvert_exporter": "python",
   "pygments_lexer": "ipython3",
   "version": "3.6.13"
  }
 },
 "nbformat": 4,
 "nbformat_minor": 5
}
