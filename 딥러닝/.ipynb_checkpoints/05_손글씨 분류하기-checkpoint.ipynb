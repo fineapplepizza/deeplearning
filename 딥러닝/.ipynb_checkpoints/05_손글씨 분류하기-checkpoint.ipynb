{
 "cells": [
  {
   "cell_type": "code",
   "execution_count": 2,
   "id": "100ff930",
   "metadata": {},
   "outputs": [],
   "source": [
    "from tensorflow.keras.datasets import mnist"
   ]
  },
  {
   "cell_type": "markdown",
   "id": "6a33ff79",
   "metadata": {},
   "source": [
    "### 손글씨 데이터 로딩"
   ]
  },
  {
   "cell_type": "code",
   "execution_count": 3,
   "id": "48a61d09",
   "metadata": {},
   "outputs": [],
   "source": [
    "((X_train,y_train),(X_test,y_test)) = mnist.load_data()"
   ]
  },
  {
   "cell_type": "code",
   "execution_count": 4,
   "id": "2f77b8bf",
   "metadata": {},
   "outputs": [
    {
     "data": {
      "text/plain": [
       "((60000, 28, 28), (60000,))"
      ]
     },
     "execution_count": 4,
     "metadata": {},
     "output_type": "execute_result"
    }
   ],
   "source": [
    "# 손글씨 사진 데이터\n",
    "# 60000: 데이터의 수\n",
    "# 28 X 28 사진 데이터\n",
    "X_train.shape, y_train.shape"
   ]
  },
  {
   "cell_type": "code",
   "execution_count": 5,
   "id": "b3b390a5",
   "metadata": {},
   "outputs": [
    {
     "data": {
      "text/plain": [
       "((10000, 28, 28), (10000,))"
      ]
     },
     "execution_count": 5,
     "metadata": {},
     "output_type": "execute_result"
    }
   ],
   "source": [
    "X_test.shape, y_test.shape"
   ]
  },
  {
   "cell_type": "markdown",
   "id": "abc35eb4",
   "metadata": {},
   "source": [
    "#### 데이터 확인"
   ]
  },
  {
   "cell_type": "code",
   "execution_count": 6,
   "id": "05762c48",
   "metadata": {},
   "outputs": [],
   "source": [
    "import matplotlib.pyplot as plt"
   ]
  },
  {
   "cell_type": "code",
   "execution_count": 7,
   "id": "46a98328",
   "metadata": {},
   "outputs": [
    {
     "data": {
      "text/plain": [
       "<matplotlib.image.AxesImage at 0x2762b339748>"
      ]
     },
     "execution_count": 7,
     "metadata": {},
     "output_type": "execute_result"
    },
    {
     "data": {
      "image/png": "[encoded data removed]",
      "text/plain": [
       "<Figure size 432x288 with 1 Axes>"
      ]
     },
     "metadata": {
      "needs_background": "light"
     },
     "output_type": "display_data"
    }
   ],
   "source": [
    "# cmap = plt.cm.binary : 색상 > 흑백\n",
    "plt.imshow(X_train[0], cmap = plt.cm.binary)"
   ]
  },
  {
   "cell_type": "code",
   "execution_count": 8,
   "id": "23f7f027",
   "metadata": {
    "scrolled": true
   },
   "outputs": [
    {
     "data": {
      "text/plain": [
       "array([[  0,   0,   0,   0,   0,   0,   0,   0,   0,   0,   0,   0,   0,\n",
       "          0,   0,   0,   0,   0,   0,   0,   0,   0,   0,   0,   0,   0,\n",
       "          0,   0],\n",
       "       [  0,   0,   0,   0,   0,   0,   0,   0,   0,   0,   0,   0,   0,\n",
       "          0,   0,   0,   0,   0,   0,   0,   0,   0,   0,   0,   0,   0,\n",
       "          0,   0],\n",
       "       [  0,   0,   0,   0,   0,   0,   0,   0,   0,   0,   0,   0,   0,\n",
       "          0,   0,   0,   0,   0,   0,   0,   0,   0,   0,   0,   0,   0,\n",
       "          0,   0],\n",
       "       [  0,   0,   0,   0,   0,   0,   0,   0,   0,   0,   0,   0,   0,\n",
       "          0,   0,   0,   0,   0,   0,   0,   0,   0,   0,   0,   0,   0,\n",
       "          0,   0],\n",
       "       [  0,   0,   0,   0,   0,   0,   0,   0,   0,   0,   0,   0,   0,\n",
       "          0,   0,   0,   0,   0,   0,   0,   0,   0,   0,   0,   0,   0,\n",
       "          0,   0],\n",
       "       [  0,   0,   0,   0,   0,   0,   0,   0,   0,   0,   0,   0,   3,\n",
       "         18,  18,  18, 126, 136, 175,  26, 166, 255, 247, 127,   0,   0,\n",
       "          0,   0],\n",
       "       [  0,   0,   0,   0,   0,   0,   0,   0,  30,  36,  94, 154, 170,\n",
       "        253, 253, 253, 253, 253, 225, 172, 253, 242, 195,  64,   0,   0,\n",
       "          0,   0],\n",
       "       [  0,   0,   0,   0,   0,   0,   0,  49, 238, 253, 253, 253, 253,\n",
       "        253, 253, 253, 253, 251,  93,  82,  82,  56,  39,   0,   0,   0,\n",
       "          0,   0],\n",
       "       [  0,   0,   0,   0,   0,   0,   0,  18, 219, 253, 253, 253, 253,\n",
       "        253, 198, 182, 247, 241,   0,   0,   0,   0,   0,   0,   0,   0,\n",
       "          0,   0],\n",
       "       [  0,   0,   0,   0,   0,   0,   0,   0,  80, 156, 107, 253, 253,\n",
       "        205,  11,   0,  43, 154,   0,   0,   0,   0,   0,   0,   0,   0,\n",
       "          0,   0],\n",
       "       [  0,   0,   0,   0,   0,   0,   0,   0,   0,  14,   1, 154, 253,\n",
       "         90,   0,   0,   0,   0,   0,   0,   0,   0,   0,   0,   0,   0,\n",
       "          0,   0],\n",
       "       [  0,   0,   0,   0,   0,   0,   0,   0,   0,   0,   0, 139, 253,\n",
       "        190,   2,   0,   0,   0,   0,   0,   0,   0,   0,   0,   0,   0,\n",
       "          0,   0],\n",
       "       [  0,   0,   0,   0,   0,   0,   0,   0,   0,   0,   0,  11, 190,\n",
       "        253,  70,   0,   0,   0,   0,   0,   0,   0,   0,   0,   0,   0,\n",
       "          0,   0],\n",
       "       [  0,   0,   0,   0,   0,   0,   0,   0,   0,   0,   0,   0,  35,\n",
       "        241, 225, 160, 108,   1,   0,   0,   0,   0,   0,   0,   0,   0,\n",
       "          0,   0],\n",
       "       [  0,   0,   0,   0,   0,   0,   0,   0,   0,   0,   0,   0,   0,\n",
       "         81, 240, 253, 253, 119,  25,   0,   0,   0,   0,   0,   0,   0,\n",
       "          0,   0],\n",
       "       [  0,   0,   0,   0,   0,   0,   0,   0,   0,   0,   0,   0,   0,\n",
       "          0,  45, 186, 253, 253, 150,  27,   0,   0,   0,   0,   0,   0,\n",
       "          0,   0],\n",
       "       [  0,   0,   0,   0,   0,   0,   0,   0,   0,   0,   0,   0,   0,\n",
       "          0,   0,  16,  93, 252, 253, 187,   0,   0,   0,   0,   0,   0,\n",
       "          0,   0],\n",
       "       [  0,   0,   0,   0,   0,   0,   0,   0,   0,   0,   0,   0,   0,\n",
       "          0,   0,   0,   0, 249, 253, 249,  64,   0,   0,   0,   0,   0,\n",
       "          0,   0],\n",
       "       [  0,   0,   0,   0,   0,   0,   0,   0,   0,   0,   0,   0,   0,\n",
       "          0,  46, 130, 183, 253, 253, 207,   2,   0,   0,   0,   0,   0,\n",
       "          0,   0],\n",
       "       [  0,   0,   0,   0,   0,   0,   0,   0,   0,   0,   0,   0,  39,\n",
       "        148, 229, 253, 253, 253, 250, 182,   0,   0,   0,   0,   0,   0,\n",
       "          0,   0],\n",
       "       [  0,   0,   0,   0,   0,   0,   0,   0,   0,   0,  24, 114, 221,\n",
       "        253, 253, 253, 253, 201,  78,   0,   0,   0,   0,   0,   0,   0,\n",
       "          0,   0],\n",
       "       [  0,   0,   0,   0,   0,   0,   0,   0,  23,  66, 213, 253, 253,\n",
       "        253, 253, 198,  81,   2,   0,   0,   0,   0,   0,   0,   0,   0,\n",
       "          0,   0],\n",
       "       [  0,   0,   0,   0,   0,   0,  18, 171, 219, 253, 253, 253, 253,\n",
       "        195,  80,   9,   0,   0,   0,   0,   0,   0,   0,   0,   0,   0,\n",
       "          0,   0],\n",
       "       [  0,   0,   0,   0,  55, 172, 226, 253, 253, 253, 253, 244, 133,\n",
       "         11,   0,   0,   0,   0,   0,   0,   0,   0,   0,   0,   0,   0,\n",
       "          0,   0],\n",
       "       [  0,   0,   0,   0, 136, 253, 253, 253, 212, 135, 132,  16,   0,\n",
       "          0,   0,   0,   0,   0,   0,   0,   0,   0,   0,   0,   0,   0,\n",
       "          0,   0],\n",
       "       [  0,   0,   0,   0,   0,   0,   0,   0,   0,   0,   0,   0,   0,\n",
       "          0,   0,   0,   0,   0,   0,   0,   0,   0,   0,   0,   0,   0,\n",
       "          0,   0],\n",
       "       [  0,   0,   0,   0,   0,   0,   0,   0,   0,   0,   0,   0,   0,\n",
       "          0,   0,   0,   0,   0,   0,   0,   0,   0,   0,   0,   0,   0,\n",
       "          0,   0],\n",
       "       [  0,   0,   0,   0,   0,   0,   0,   0,   0,   0,   0,   0,   0,\n",
       "          0,   0,   0,   0,   0,   0,   0,   0,   0,   0,   0,   0,   0,\n",
       "          0,   0]], dtype=uint8)"
      ]
     },
     "execution_count": 8,
     "metadata": {},
     "output_type": "execute_result"
    }
   ],
   "source": [
    "# 0 ~ 255까지의 숫자로 이루어져 있음\n",
    "# 0이 흰색\n",
    "# 255가 검은색\n",
    "X_train[0]"
   ]
  },
  {
   "cell_type": "code",
   "execution_count": 9,
   "id": "5b75fd19",
   "metadata": {},
   "outputs": [],
   "source": [
    "# 기계는 0과 1사이의 숫자를 좋아함\n",
    "# 0 ~ 255까지의 숫자를 0 ~ 1까지로 만들어줌 \n",
    "# 전체 데이터를 255로 나눠줌\n",
    "X_train = X_train.astype('float32')/255\n",
    "X_test = X_test.astype('float32')/255"
   ]
  },
  {
   "cell_type": "code",
   "execution_count": 10,
   "id": "61fa92f8",
   "metadata": {},
   "outputs": [],
   "source": [
    "# 28 X 28의 2차원 데이터를 784의 1차원 데이터로 만들어줄 필요가 있음\n",
    "# input_dim에 집어넣기 위해서 !\n",
    "X_train = X_train.reshape((60000,28*28))\n",
    "X_test = X_test.reshape((10000,784))"
   ]
  },
  {
   "cell_type": "code",
   "execution_count": 11,
   "id": "98803d3f",
   "metadata": {},
   "outputs": [
    {
     "data": {
      "text/plain": [
       "(784,)"
      ]
     },
     "execution_count": 11,
     "metadata": {},
     "output_type": "execute_result"
    }
   ],
   "source": [
    "X_train[0].shape"
   ]
  },
  {
   "cell_type": "code",
   "execution_count": 12,
   "id": "97f6277d",
   "metadata": {},
   "outputs": [
    {
     "data": {
      "text/plain": [
       "array([0, 1, 2, 3, 4, 5, 6, 7, 8, 9], dtype=uint8)"
      ]
     },
     "execution_count": 12,
     "metadata": {},
     "output_type": "execute_result"
    }
   ],
   "source": [
    "import numpy as np\n",
    "np.unique(y_train)"
   ]
  },
  {
   "cell_type": "code",
   "execution_count": 13,
   "id": "043aca38",
   "metadata": {},
   "outputs": [],
   "source": [
    "# 정답 데이터 원핫 인코딩\n",
    "import pandas as pd \n",
    "y_train = pd.get_dummies(y_train)\n",
    "y_test = pd.get_dummies(y_test)"
   ]
  },
  {
   "cell_type": "code",
   "execution_count": 14,
   "id": "1078c868",
   "metadata": {},
   "outputs": [],
   "source": [
    "# 입력층 개수: 784\n",
    "# 출력층 개수: 10"
   ]
  },
  {
   "cell_type": "code",
   "execution_count": 15,
   "id": "c28232f9",
   "metadata": {},
   "outputs": [],
   "source": [
    "import tensorflow as tf\n",
    "seed = 100\n",
    "np.random.seed(seed)\n",
    "tf.random.set_seed(seed)"
   ]
  },
  {
   "cell_type": "code",
   "execution_count": 16,
   "id": "7c6e47c3",
   "metadata": {},
   "outputs": [],
   "source": [
    "# 모델설계\n",
    "from tensorflow.keras import Sequential\n",
    "from tensorflow.keras.layers import Dense\n",
    "model = Sequential()\n",
    "# 입력층, 중간층의 활성화 함수: sigmoid\n",
    "#입력층\n",
    "model.add(Dense(units=1000, input_dim=784, activation='sigmoid' ))\n",
    "#중간층\n",
    "model.add(Dense(units= 500, activation='sigmoid'))\n",
    "model.add(Dense(units=250, activation = 'sigmoid'))\n",
    "model.add(Dense(units=125, activation = 'sigmoid'))\n",
    "model.add(Dense(units=60, activation = 'sigmoid'))\n",
    "model.add(Dense(units=30, activation = 'sigmoid'))\n",
    "model.add(Dense(units=15, activation ='sigmoid'))\n",
    "# 출력층의 활성화함수: softmax\n",
    "model.add(Dense(units=10,activation ='softmax'))"
   ]
  },
  {
   "cell_type": "code",
   "execution_count": 17,
   "id": "9fa88d65",
   "metadata": {},
   "outputs": [
    {
     "name": "stdout",
     "output_type": "stream",
     "text": [
      "Model: \"sequential\"\n",
      "_________________________________________________________________\n",
      "Layer (type)                 Output Shape              Param #   \n",
      "=================================================================\n",
      "dense (Dense)                (None, 1000)              785000    \n",
      "_________________________________________________________________\n",
      "dense_1 (Dense)              (None, 500)               500500    \n",
      "_________________________________________________________________\n",
      "dense_2 (Dense)              (None, 250)               125250    \n",
      "_________________________________________________________________\n",
      "dense_3 (Dense)              (None, 125)               31375     \n",
      "_________________________________________________________________\n",
      "dense_4 (Dense)              (None, 60)                7560      \n",
      "_________________________________________________________________\n",
      "dense_5 (Dense)              (None, 30)                1830      \n",
      "_________________________________________________________________\n",
      "dense_6 (Dense)              (None, 15)                465       \n",
      "_________________________________________________________________\n",
      "dense_7 (Dense)              (None, 10)                160       \n",
      "=================================================================\n",
      "Total params: 1,452,140\n",
      "Trainable params: 1,452,140\n",
      "Non-trainable params: 0\n",
      "_________________________________________________________________\n"
     ]
    }
   ],
   "source": [
    "model.summary()"
   ]
  },
  {
   "cell_type": "code",
   "execution_count": 18,
   "id": "0290e113",
   "metadata": {},
   "outputs": [],
   "source": [
    "# 모델 학습 방법 설정\n",
    "# loss = categorical_crossentropy\n",
    "# optimizer = 'adam'\n",
    "# metrics = accracy\n",
    "model.compile(loss='categorical_crossentropy',\n",
    "             optimizer='adam',\n",
    "             metrics = ['accuracy'])"
   ]
  },
  {
   "cell_type": "code",
   "execution_count": 19,
   "id": "46b37011",
   "metadata": {},
   "outputs": [
    {
     "data": {
      "text/plain": [
       "((60000, 784), (10000, 784), (60000, 10), (10000, 10))"
      ]
     },
     "execution_count": 19,
     "metadata": {},
     "output_type": "execute_result"
    }
   ],
   "source": [
    "X_train.shape, X_test.shape, y_train.shape, y_test.shape"
   ]
  },
  {
   "cell_type": "code",
   "execution_count": 20,
   "id": "98e4ebce",
   "metadata": {},
   "outputs": [
    {
     "name": "stdout",
     "output_type": "stream",
     "text": [
      "Train on 60000 samples, validate on 10000 samples\n",
      "Epoch 1/20\n",
      "60000/60000 [==============================] - 4s 68us/sample - loss: 1.7532 - accuracy: 0.2993 - val_loss: 1.2992 - val_accuracy: 0.4436\n",
      "Epoch 2/20\n",
      "60000/60000 [==============================] - 3s 54us/sample - loss: 1.1201 - accuracy: 0.5009 - val_loss: 0.8245 - val_accuracy: 0.6605\n",
      "Epoch 3/20\n",
      "60000/60000 [==============================] - 3s 54us/sample - loss: 0.5286 - accuracy: 0.8233 - val_loss: 0.3630 - val_accuracy: 0.9145\n",
      "Epoch 4/20\n",
      "60000/60000 [==============================] - 3s 54us/sample - loss: 0.2494 - accuracy: 0.9543 - val_loss: 0.1870 - val_accuracy: 0.9614\n",
      "Epoch 5/20\n",
      "60000/60000 [==============================] - 3s 54us/sample - loss: 0.1433 - accuracy: 0.9700 - val_loss: 0.1478 - val_accuracy: 0.9670\n",
      "Epoch 6/20\n",
      "60000/60000 [==============================] - 3s 54us/sample - loss: 0.1008 - accuracy: 0.9780 - val_loss: 0.1215 - val_accuracy: 0.9728\n",
      "Epoch 7/20\n",
      "60000/60000 [==============================] - 3s 54us/sample - loss: 0.0788 - accuracy: 0.9821 - val_loss: 0.1139 - val_accuracy: 0.9732\n",
      "Epoch 8/20\n",
      "60000/60000 [==============================] - 3s 54us/sample - loss: 0.0617 - accuracy: 0.9858 - val_loss: 0.1060 - val_accuracy: 0.9772\n",
      "Epoch 9/20\n",
      "60000/60000 [==============================] - 3s 54us/sample - loss: 0.0476 - accuracy: 0.9890 - val_loss: 0.1320 - val_accuracy: 0.9741\n",
      "Epoch 10/20\n",
      "60000/60000 [==============================] - 3s 54us/sample - loss: 0.0429 - accuracy: 0.9901 - val_loss: 0.1325 - val_accuracy: 0.9701\n",
      "Epoch 11/20\n",
      "60000/60000 [==============================] - 3s 54us/sample - loss: 0.0362 - accuracy: 0.9921 - val_loss: 0.1040 - val_accuracy: 0.9796\n",
      "Epoch 12/20\n",
      "60000/60000 [==============================] - 3s 54us/sample - loss: 0.0339 - accuracy: 0.9921 - val_loss: 0.1097 - val_accuracy: 0.9765\n",
      "Epoch 13/20\n",
      "60000/60000 [==============================] - 3s 54us/sample - loss: 0.0268 - accuracy: 0.9939 - val_loss: 0.1079 - val_accuracy: 0.9792\n",
      "Epoch 14/20\n",
      "60000/60000 [==============================] - 3s 54us/sample - loss: 0.0238 - accuracy: 0.9949 - val_loss: 0.1149 - val_accuracy: 0.9786\n",
      "Epoch 15/20\n",
      "60000/60000 [==============================] - 3s 54us/sample - loss: 0.0235 - accuracy: 0.9950 - val_loss: 0.1223 - val_accuracy: 0.9771\n",
      "Epoch 16/20\n",
      "60000/60000 [==============================] - 3s 54us/sample - loss: 0.0213 - accuracy: 0.9954 - val_loss: 0.1201 - val_accuracy: 0.9787\n",
      "Epoch 17/20\n",
      "60000/60000 [==============================] - 3s 54us/sample - loss: 0.0187 - accuracy: 0.9958 - val_loss: 0.1073 - val_accuracy: 0.9799\n",
      "Epoch 18/20\n",
      "60000/60000 [==============================] - 3s 54us/sample - loss: 0.0164 - accuracy: 0.9964 - val_loss: 0.1426 - val_accuracy: 0.9777\n",
      "Epoch 19/20\n",
      "60000/60000 [==============================] - 3s 54us/sample - loss: 0.0162 - accuracy: 0.9964 - val_loss: 0.1160 - val_accuracy: 0.9805\n",
      "Epoch 20/20\n",
      "60000/60000 [==============================] - 3s 54us/sample - loss: 0.0144 - accuracy: 0.9970 - val_loss: 0.1170 - val_accuracy: 0.9803\n"
     ]
    }
   ],
   "source": [
    "# 모델 학습\n",
    "# epochs = 20 \n",
    "history1 = model.fit(X_train,y_train,epochs=20, validation_data=[X_test,y_test])"
   ]
  },
  {
   "cell_type": "code",
   "execution_count": 21,
   "id": "281235c5",
   "metadata": {},
   "outputs": [
    {
     "name": "stdout",
     "output_type": "stream",
     "text": [
      "10000/10000 [==============================] - 0s 36us/sample - loss: 0.1170 - accuracy: 0.9803\n"
     ]
    },
    {
     "data": {
      "text/plain": [
       "[0.11702795489020645, 0.9803]"
      ]
     },
     "execution_count": 21,
     "metadata": {},
     "output_type": "execute_result"
    }
   ],
   "source": [
    "# 모델 평가\n",
    "model.evaluate(X_test,y_test)"
   ]
  },
  {
   "cell_type": "code",
   "execution_count": 22,
   "id": "2a931390",
   "metadata": {},
   "outputs": [
    {
     "name": "stdout",
     "output_type": "stream",
     "text": [
      "Train on 60000 samples, validate on 10000 samples\n",
      "Epoch 1/20\n",
      "60000/60000 [==============================] - 4s 62us/sample - loss: 0.2744 - accuracy: 0.9201 - val_loss: 0.1288 - val_accuracy: 0.9653\n",
      "Epoch 2/20\n",
      "60000/60000 [==============================] - 3s 54us/sample - loss: 0.1171 - accuracy: 0.9682 - val_loss: 0.1340 - val_accuracy: 0.9662\n",
      "Epoch 3/20\n",
      "60000/60000 [==============================] - 3s 54us/sample - loss: 0.0883 - accuracy: 0.9766 - val_loss: 0.0955 - val_accuracy: 0.9725\n",
      "Epoch 4/20\n",
      "60000/60000 [==============================] - 3s 54us/sample - loss: 0.0677 - accuracy: 0.9814 - val_loss: 0.1162 - val_accuracy: 0.9701\n",
      "Epoch 5/20\n",
      "60000/60000 [==============================] - 3s 54us/sample - loss: 0.0566 - accuracy: 0.9847 - val_loss: 0.0764 - val_accuracy: 0.9818\n",
      "Epoch 6/20\n",
      "60000/60000 [==============================] - 3s 54us/sample - loss: 0.0465 - accuracy: 0.9877 - val_loss: 0.0810 - val_accuracy: 0.9815\n",
      "Epoch 7/20\n",
      "60000/60000 [==============================] - 3s 54us/sample - loss: 0.0419 - accuracy: 0.9886 - val_loss: 0.1013 - val_accuracy: 0.9770\n",
      "Epoch 8/20\n",
      "60000/60000 [==============================] - 3s 54us/sample - loss: 0.0375 - accuracy: 0.9900 - val_loss: 0.0926 - val_accuracy: 0.9806\n",
      "Epoch 9/20\n",
      "60000/60000 [==============================] - 3s 54us/sample - loss: 0.0309 - accuracy: 0.9916 - val_loss: 0.0898 - val_accuracy: 0.9793\n",
      "Epoch 10/20\n",
      "60000/60000 [==============================] - 3s 54us/sample - loss: 0.0321 - accuracy: 0.9917 - val_loss: 0.1076 - val_accuracy: 0.9785\n",
      "Epoch 11/20\n",
      "60000/60000 [==============================] - 3s 54us/sample - loss: 0.0283 - accuracy: 0.9922 - val_loss: 0.0882 - val_accuracy: 0.9832\n",
      "Epoch 12/20\n",
      "60000/60000 [==============================] - 3s 54us/sample - loss: 0.0250 - accuracy: 0.9941 - val_loss: 0.1071 - val_accuracy: 0.9786\n",
      "Epoch 13/20\n",
      "60000/60000 [==============================] - 3s 54us/sample - loss: 0.0251 - accuracy: 0.9934 - val_loss: 0.1142 - val_accuracy: 0.9834\n",
      "Epoch 14/20\n",
      "60000/60000 [==============================] - 3s 54us/sample - loss: 0.0237 - accuracy: 0.9943 - val_loss: 0.1119 - val_accuracy: 0.9764\n",
      "Epoch 15/20\n",
      "60000/60000 [==============================] - 3s 54us/sample - loss: 0.0200 - accuracy: 0.9950 - val_loss: 0.1093 - val_accuracy: 0.9836\n",
      "Epoch 16/20\n",
      "60000/60000 [==============================] - 3s 54us/sample - loss: 0.0210 - accuracy: 0.9946 - val_loss: 0.1156 - val_accuracy: 0.9809\n",
      "Epoch 17/20\n",
      "60000/60000 [==============================] - 3s 54us/sample - loss: 0.0192 - accuracy: 0.9955 - val_loss: 0.1250 - val_accuracy: 0.9811\n",
      "Epoch 18/20\n",
      "60000/60000 [==============================] - 3s 56us/sample - loss: 0.0170 - accuracy: 0.9958 - val_loss: 0.1135 - val_accuracy: 0.9830\n",
      "Epoch 19/20\n",
      "60000/60000 [==============================] - 3s 54us/sample - loss: 0.0172 - accuracy: 0.9964 - val_loss: 0.1059 - val_accuracy: 0.9848\n",
      "Epoch 20/20\n",
      "60000/60000 [==============================] - 3s 54us/sample - loss: 0.0186 - accuracy: 0.9955 - val_loss: 0.1102 - val_accuracy: 0.9845\n"
     ]
    }
   ],
   "source": [
    "# 모든 조건은 동일 \n",
    "# model2라는 딥러닝 모델 설계\n",
    "# 입력층과 중간층의 활성화함수 sigmoid > relu\n",
    "# history2 = model2.fit()\n",
    "model2 = Sequential()\n",
    "# 입력층, 중간층의 활성화 함수: relu\n",
    "#입력층\n",
    "model2.add(Dense(units=1000, input_dim=784, activation='relu' ))\n",
    "#중간층\n",
    "model2.add(Dense(units= 500, activation='relu'))\n",
    "model2.add(Dense(units=250, activation = 'relu'))\n",
    "model2.add(Dense(units=125, activation = 'relu'))\n",
    "model2.add(Dense(units=60, activation = 'relu'))\n",
    "model2.add(Dense(units=30, activation = 'relu'))\n",
    "model2.add(Dense(units=15, activation ='relu'))\n",
    "# 출력층의 활성화함수: softmax\n",
    "model2.add(Dense(units=10,activation ='softmax'))\n",
    "\n",
    "model2.compile(loss='categorical_crossentropy',\n",
    "             optimizer='adam',\n",
    "             metrics = ['accuracy'])\n",
    "\n",
    "history2 = model2.fit(X_train,y_train,epochs=20, validation_data=[X_test,y_test])"
   ]
  },
  {
   "cell_type": "code",
   "execution_count": 23,
   "id": "d806f606",
   "metadata": {},
   "outputs": [],
   "source": [
    "#model1 > 입력층, 중간층 활성화함수: sigmoid >history1\n",
    "#model2 > 입력층, 중간층 활성화함수: relu>history2"
   ]
  },
  {
   "cell_type": "code",
   "execution_count": 24,
   "id": "1b8de841",
   "metadata": {},
   "outputs": [
    {
     "data": {
      "image/png": "[encoded data removed]",
      "text/plain": [
       "<Figure size 720x360 with 1 Axes>"
      ]
     },
     "metadata": {
      "needs_background": "light"
     },
     "output_type": "display_data"
    }
   ],
   "source": [
    "plt.figure(figsize=(10,5))\n",
    "\n",
    "plt.plot(range(20),history1.history['accuracy'],label='model1')\n",
    "plt.plot(range(20),history2.history['accuracy'],label='model2')\n",
    "\n",
    "plt.legend()\n",
    "plt.show()"
   ]
  },
  {
   "cell_type": "code",
   "execution_count": 25,
   "id": "9fa22540",
   "metadata": {},
   "outputs": [
    {
     "data": {
      "text/plain": [
       "[1.753200602722168,\n",
       " 1.120060179201762,\n",
       " 0.5286010523319244,\n",
       " 0.24939538956681886,\n",
       " 0.14330857411722342,\n",
       " 0.10081623352915049,\n",
       " 0.07879445401728154,\n",
       " 0.06173464107438922,\n",
       " 0.04761203887611628,\n",
       " 0.042932600070163605,\n",
       " 0.036155165442451835,\n",
       " 0.0339064423772196,\n",
       " 0.026777510681375863,\n",
       " 0.023767310974871118,\n",
       " 0.023474711199849844,\n",
       " 0.021256701333262025,\n",
       " 0.01871345538577686,\n",
       " 0.0163862412152191,\n",
       " 0.01621756602569173,\n",
       " 0.014359307182673364]"
      ]
     },
     "execution_count": 25,
     "metadata": {},
     "output_type": "execute_result"
    }
   ],
   "source": [
    "# model1에서 epochs를 돌린 결과가 들어있음\n",
    "# history라는 함수를 통해서 accuracy\n",
    "history1.history['loss']"
   ]
  },
  {
   "cell_type": "code",
   "execution_count": 26,
   "id": "d07f4b90",
   "metadata": {},
   "outputs": [],
   "source": [
    "# jpg > 컬러사진\n",
    "# gif > 흑백사진"
   ]
  },
  {
   "cell_type": "markdown",
   "id": "780a43d4",
   "metadata": {},
   "source": [
    "직접 그린 그림 불러오기"
   ]
  },
  {
   "cell_type": "code",
   "execution_count": 27,
   "id": "0218c535",
   "metadata": {},
   "outputs": [],
   "source": [
    "import PIL.Image as pimg"
   ]
  },
  {
   "cell_type": "code",
   "execution_count": 28,
   "id": "9259b80d",
   "metadata": {},
   "outputs": [
    {
     "data": {
      "text/plain": [
       "<matplotlib.image.AxesImage at 0x27806f1bd30>"
      ]
     },
     "execution_count": 28,
     "metadata": {},
     "output_type": "execute_result"
    },
    {
     "data": {
      "image/png": "[encoded data removed]",
      "text/plain": [
       "<Figure size 432x288 with 1 Axes>"
      ]
     },
     "metadata": {
      "needs_background": "light"
     },
     "output_type": "display_data"
    }
   ],
   "source": [
    "img_num = pimg.open('num3.gif')\n",
    "plt.imshow(img_num)"
   ]
  },
  {
   "cell_type": "code",
   "execution_count": 29,
   "id": "c2da584c",
   "metadata": {
    "scrolled": true
   },
   "outputs": [
    {
     "data": {
      "image/png": "[encoded data removed]",
      "text/plain": [
       "<PIL.GifImagePlugin.GifImageFile image mode=P size=28x28 at 0x2762CA64470>"
      ]
     },
     "execution_count": 29,
     "metadata": {},
     "output_type": "execute_result"
    }
   ],
   "source": [
    "# 28*28 2차원 데이터 > 784의 1차원 데이터로 변환\n",
    "# 0 ~ 255사이의 픽셀값 > 0 ~1사이의 픽셀값-\n",
    "img_num"
   ]
  },
  {
   "cell_type": "code",
   "execution_count": 30,
   "id": "bf5a3018",
   "metadata": {
    "scrolled": true
   },
   "outputs": [
    {
     "data": {
      "text/plain": [
       "array([[251, 251, 251, 251, 251, 251, 251, 251, 251, 251, 251, 251, 251,\n",
       "        251, 251, 251, 251, 251, 251, 251, 251, 251, 251, 251, 251, 251,\n",
       "        251, 251],\n",
       "       [251, 251, 251, 251, 251, 251, 251, 251, 251, 251, 251, 251, 251,\n",
       "        251, 251, 251, 251, 251, 251, 251, 251, 251, 251, 251, 251, 251,\n",
       "        251, 251],\n",
       "       [251, 251, 251, 251, 251, 251, 251, 251, 251, 251, 251, 251, 251,\n",
       "        251, 251, 251, 251, 251, 251, 251, 251, 251, 251, 251, 251, 251,\n",
       "        251, 251],\n",
       "       [251, 251, 251, 251, 251, 251, 251, 251, 251, 251, 251, 251, 251,\n",
       "        251, 251, 251, 251, 251, 251, 251, 251, 251, 251, 251, 251, 251,\n",
       "        251, 251],\n",
       "       [251, 251, 251, 251, 251, 153,  49,   0,   0,   0,   0,   0,   0,\n",
       "          0,   0,  43, 153, 251, 251, 251, 251, 251, 251, 251, 251, 251,\n",
       "        251, 251],\n",
       "       [251, 251, 251, 251, 196,   0,   0,   0,   0,   0,   0,   0,   0,\n",
       "          0,   0,   0,   0, 251, 251, 251, 251, 251, 251, 251, 251, 251,\n",
       "        251, 251],\n",
       "       [251, 251, 251, 251,   6,   0,   0,   0,   0,   0,   0,   0,   0,\n",
       "          0,   0,   0,   0, 251, 251, 251, 251, 251, 251, 251, 251, 251,\n",
       "        251, 251],\n",
       "       [251, 251, 251, 251, 147,   0,   0,  98, 251, 251, 251, 251, 251,\n",
       "        196,   0,   0,   0, 251, 251, 251, 251, 251, 251, 251, 251, 251,\n",
       "        251, 251],\n",
       "       [251, 251, 251, 251, 251, 251, 251, 251, 251, 251, 251, 251, 251,\n",
       "          6,   0,   0,   0, 251, 251, 251, 251, 251, 251, 251, 251, 251,\n",
       "        251, 251],\n",
       "       [251, 251, 251, 251, 251, 251, 251, 251, 251, 196,   6,   0,   0,\n",
       "          0,   0,   0,  98, 251, 251, 251, 251, 251, 251, 251, 251, 251,\n",
       "        251, 251],\n",
       "       [251, 251, 251, 251, 251, 251, 196,   6,   0,   0,   0,   0,   0,\n",
       "          0,   0,  98, 251, 251, 251, 251, 251, 251, 251, 251, 251, 251,\n",
       "        251, 251],\n",
       "       [251, 251, 251, 251, 251, 251,   6,   0,   0,   0,   0,   0,   0,\n",
       "          0,  49, 251, 251, 251, 251, 251, 251, 251, 251, 251, 251, 251,\n",
       "        251, 251],\n",
       "       [251, 251, 251, 251, 251, 251, 147,   0,   0,   0,   0,   0,   0,\n",
       "          0,   0, 153, 251, 251, 251, 251, 251, 251, 251, 251, 251, 251,\n",
       "        251, 251],\n",
       "       [251, 251, 251, 251, 251, 251, 251, 251, 251, 251, 147,   0,   0,\n",
       "          0,   0,   0, 251, 251, 251, 251, 251, 251, 251, 251, 251, 251,\n",
       "        251, 251],\n",
       "       [251, 251, 251, 251, 251, 251, 251, 251, 251, 251, 251, 251, 147,\n",
       "          0,   0,   0, 251, 251, 251, 251, 251, 251, 251, 251, 251, 251,\n",
       "        251, 251],\n",
       "       [251, 251, 251, 251, 251, 251, 251, 251, 251, 251, 251, 251, 251,\n",
       "          0,   0,   0, 251, 251, 251, 251, 251, 251, 251, 251, 251, 251,\n",
       "        251, 251],\n",
       "       [251, 251, 251, 251, 251, 251, 251, 251, 251, 251, 251, 251, 251,\n",
       "          0,   0,   0, 251, 251, 251, 251, 251, 251, 251, 251, 251, 251,\n",
       "        251, 251],\n",
       "       [251, 251, 251, 251, 251, 251, 251, 251, 251, 251, 251, 251, 251,\n",
       "          0,   0,   0, 251, 251, 251, 251, 251, 251, 251, 251, 251, 251,\n",
       "        251, 251],\n",
       "       [251, 251, 251, 251, 251, 196,  49, 153, 251, 251, 251, 202,   0,\n",
       "          0,   0,   0, 251, 251, 251, 251, 251, 251, 251, 251, 251, 251,\n",
       "        251, 251],\n",
       "       [251, 251, 251, 251, 251,   6,   0,   0,   0,   0,   0,   0,   0,\n",
       "          0,   0,   0, 251, 251, 251, 251, 251, 251, 251, 251, 251, 251,\n",
       "        251, 251],\n",
       "       [251, 251, 251, 251, 251,  98,   0,   0,   0,   0,   0,   0,   0,\n",
       "          0,   0,  98, 251, 251, 251, 251, 251, 251, 251, 251, 251, 251,\n",
       "        251, 251],\n",
       "       [251, 251, 251, 251, 251, 251,  98,   0,   0,   0,   0,   0,   0,\n",
       "         98, 251, 251, 251, 251, 251, 251, 251, 251, 251, 251, 251, 251,\n",
       "        251, 251],\n",
       "       [251, 251, 251, 251, 251, 251, 251, 251, 251, 251, 251, 251, 251,\n",
       "        251, 251, 251, 251, 251, 251, 251, 251, 251, 251, 251, 251, 251,\n",
       "        251, 251],\n",
       "       [251, 251, 251, 251, 251, 251, 251, 251, 251, 251, 251, 251, 251,\n",
       "        251, 251, 251, 251, 251, 251, 251, 251, 251, 251, 251, 251, 251,\n",
       "        251, 251],\n",
       "       [251, 251, 251, 251, 251, 251, 251, 251, 251, 251, 251, 251, 251,\n",
       "        251, 251, 251, 251, 251, 251, 251, 251, 251, 251, 251, 251, 251,\n",
       "        251, 251],\n",
       "       [251, 251, 251, 251, 251, 251, 251, 251, 251, 251, 251, 251, 251,\n",
       "        251, 251, 251, 251, 251, 251, 251, 251, 251, 251, 251, 251, 251,\n",
       "        251, 251],\n",
       "       [251, 251, 251, 251, 251, 251, 251, 251, 251, 251, 251, 251, 251,\n",
       "        251, 251, 251, 251, 251, 251, 251, 251, 251, 251, 251, 251, 251,\n",
       "        251, 251],\n",
       "       [251, 251, 251, 251, 251, 251, 251, 251, 251, 251, 251, 251, 251,\n",
       "        251, 251, 251, 251, 251, 251, 251, 251, 251, 251, 251, 251, 251,\n",
       "        251, 251]], dtype=uint8)"
      ]
     },
     "execution_count": 30,
     "metadata": {},
     "output_type": "execute_result"
    }
   ],
   "source": [
    "num=np.array(img_num)\n",
    "num"
   ]
  },
  {
   "cell_type": "code",
   "execution_count": 31,
   "id": "674ea43b",
   "metadata": {},
   "outputs": [],
   "source": [
    "# 기존에는 흰색 > 0 검은색>255\n",
    "# 지금은 흰색이 > 255 검은색 >0 \n",
    "num = 255 - num"
   ]
  },
  {
   "cell_type": "code",
   "execution_count": 32,
   "id": "db09deb9",
   "metadata": {},
   "outputs": [],
   "source": [
    "# 1차원 데이터로 변환\n",
    "num = num.reshape(1,784)\n",
    "num = num.astype('float32')/255"
   ]
  },
  {
   "cell_type": "code",
   "execution_count": 33,
   "id": "bccc44b9",
   "metadata": {},
   "outputs": [
    {
     "data": {
      "text/plain": [
       "array([[ 0,  0,  0, 99,  0,  0,  0,  0,  0,  0]])"
      ]
     },
     "execution_count": 33,
     "metadata": {},
     "output_type": "execute_result"
    }
   ],
   "source": [
    "(model2.predict(num)*100).astype('int')"
   ]
  },
  {
   "cell_type": "code",
   "execution_count": 34,
   "id": "444723ee",
   "metadata": {},
   "outputs": [
    {
     "data": {
      "text/plain": [
       "array([3], dtype=int64)"
      ]
     },
     "execution_count": 34,
     "metadata": {},
     "output_type": "execute_result"
    }
   ],
   "source": [
    "model2.predict_classes(num)"
   ]
  },
  {
   "cell_type": "markdown",
   "id": "ca963104",
   "metadata": {},
   "source": [
    "#### 모델 저장"
   ]
  },
  {
   "cell_type": "code",
   "execution_count": 35,
   "id": "e71d8c3a",
   "metadata": {},
   "outputs": [],
   "source": [
    "model2.save('./model/model_handnum1.h5') #model폴더/파일이름.파일형식"
   ]
  },
  {
   "cell_type": "code",
   "execution_count": 36,
   "id": "f1e21f3c",
   "metadata": {},
   "outputs": [],
   "source": [
    "#모델 불러오기\n",
    "from tensorflow.keras.models import load_model\n",
    "\n",
    "model3 = load_model('./model/model_handnum1.h5')"
   ]
  },
  {
   "cell_type": "code",
   "execution_count": 37,
   "id": "f8b52f59",
   "metadata": {},
   "outputs": [
    {
     "name": "stdout",
     "output_type": "stream",
     "text": [
      "60000/60000 [==============================] - 2s 31us/sample - loss: 0.0066 - accuracy: 0.9981\n"
     ]
    },
    {
     "data": {
      "text/plain": [
       "[0.00663785761614388, 0.99815]"
      ]
     },
     "execution_count": 37,
     "metadata": {},
     "output_type": "execute_result"
    }
   ],
   "source": [
    "model3.evaluate(X_train,y_train)"
   ]
  },
  {
   "cell_type": "code",
   "execution_count": 38,
   "id": "2c75a26a",
   "metadata": {},
   "outputs": [
    {
     "name": "stdout",
     "output_type": "stream",
     "text": [
      "ERROR! Session/line number was not unique in database. History logging moved to new session 473\n",
      "60000/60000 [==============================] - 2s 32us/sample - loss: 0.0010 - accuracy: 0.9997\n"
     ]
    },
    {
     "data": {
      "text/plain": [
       "[0.001041066051255196, 0.99965]"
      ]
     },
     "execution_count": 38,
     "metadata": {},
     "output_type": "execute_result"
    }
   ],
   "source": [
    "model_youngsun=load_model('./model/youngsun.h5')\n",
    "model_youngsun.evaluate(X_train,y_train)"
   ]
  },
  {
   "cell_type": "code",
   "execution_count": 39,
   "id": "050b8711",
   "metadata": {},
   "outputs": [],
   "source": [
    "#딥러닝에서 교차검증\n",
    "from sklearn.model_selection import KFold, cross_val_score"
   ]
  },
  {
   "cell_type": "code",
   "execution_count": 40,
   "id": "ec2987f0",
   "metadata": {},
   "outputs": [],
   "source": [
    "def deep_model():\n",
    "    model2 = Sequential()\n",
    "# 입력층, 중간층의 활성화 함수: relu\n",
    "#입력층\n",
    "    model2.add(Dense(units=1000, input_dim=784, activation='relu' ))\n",
    "#중간층\n",
    "    model2.add(Dense(units= 500, activation='relu'))\n",
    "    model2.add(Dense(units=250, activation = 'relu'))\n",
    "    model2.add(Dense(units=125, activation = 'relu'))\n",
    "    model2.add(Dense(units=60, activation = 'relu'))\n",
    "    model2.add(Dense(units=30, activation = 'relu'))\n",
    "    model2.add(Dense(units=15, activation ='relu'))\n",
    "# 출력층의 활성화함수: softmax\n",
    "    model2.add(Dense(units=10,activation ='softmax'))\n",
    "\n",
    "    model2.compile(loss='categorical_crossentropy',\n",
    "                 optimizer='adam',\n",
    "                 metrics = ['accuracy'])\n",
    "    return model2 #생성한 모델과 같은 모델을 적어줘야함"
   ]
  },
  {
   "cell_type": "code",
   "execution_count": 44,
   "id": "ebe9a2cc",
   "metadata": {},
   "outputs": [
    {
     "name": "stdout",
     "output_type": "stream",
     "text": [
      "ERROR! Session/line number was not unique in database. History logging moved to new session 474\n",
      "Train on 48000 samples\n",
      "Epoch 1/20\n",
      "48000/48000 [==============================] - 8s 164us/sample - loss: 0.3137 - accuracy: 0.9119\n",
      "Epoch 2/20\n",
      "48000/48000 [==============================] - 8s 157us/sample - loss: 0.1506 - accuracy: 0.9621\n",
      "Epoch 3/20\n",
      "48000/48000 [==============================] - 7s 154us/sample - loss: 0.1142 - accuracy: 0.9724\n",
      "Epoch 4/20\n",
      "48000/48000 [==============================] - 7s 154us/sample - loss: 0.0906 - accuracy: 0.9775\n",
      "Epoch 5/20\n",
      "48000/48000 [==============================] - 7s 153us/sample - loss: 0.0777 - accuracy: 0.9805\n",
      "Epoch 6/20\n",
      "48000/48000 [==============================] - 7s 154us/sample - loss: 0.0629 - accuracy: 0.9841\n",
      "Epoch 7/20\n",
      "48000/48000 [==============================] - 7s 153us/sample - loss: 0.0600 - accuracy: 0.9854\n",
      "Epoch 8/20\n",
      "48000/48000 [==============================] - 7s 154us/sample - loss: 0.0544 - accuracy: 0.9868\n",
      "Epoch 9/20\n",
      "48000/48000 [==============================] - 7s 154us/sample - loss: 0.0531 - accuracy: 0.9875\n",
      "Epoch 10/20\n",
      "48000/48000 [==============================] - 7s 156us/sample - loss: 0.0466 - accuracy: 0.9893\n",
      "Epoch 11/20\n",
      "48000/48000 [==============================] - 8s 157us/sample - loss: 0.0476 - accuracy: 0.9899\n",
      "Epoch 12/20\n",
      "48000/48000 [==============================] - 7s 156us/sample - loss: 0.0419 - accuracy: 0.9908\n",
      "Epoch 13/20\n",
      "48000/48000 [==============================] - 7s 155us/sample - loss: 0.0381 - accuracy: 0.9916\n",
      "Epoch 14/20\n",
      "48000/48000 [==============================] - 7s 156us/sample - loss: 0.0430 - accuracy: 0.9913\n",
      "Epoch 15/20\n",
      "48000/48000 [==============================] - 8s 156us/sample - loss: 0.0433 - accuracy: 0.9913\n",
      "Epoch 16/20\n",
      "48000/48000 [==============================] - 7s 154us/sample - loss: 0.0311 - accuracy: 0.9933\n",
      "Epoch 17/20\n",
      "48000/48000 [==============================] - 7s 154us/sample - loss: 0.0405 - accuracy: 0.9918\n",
      "Epoch 18/20\n",
      "48000/48000 [==============================] - 7s 154us/sample - loss: 0.0352 - accuracy: 0.9930\n",
      "Epoch 19/20\n",
      "48000/48000 [==============================] - 7s 154us/sample - loss: 0.0365 - accuracy: 0.9932\n",
      "Epoch 20/20\n",
      "48000/48000 [==============================] - 7s 154us/sample - loss: 0.0559 - accuracy: 0.9868\n",
      "12000/12000 [==============================] - 1s 102us/sample - loss: 0.1484 - accuracy: 0.9812\n",
      "Train on 48000 samples\n",
      "Epoch 1/20\n",
      "48000/48000 [==============================] - 8s 164us/sample - loss: 0.3354 - accuracy: 0.9089\n",
      "Epoch 2/20\n",
      "48000/48000 [==============================] - 8s 159us/sample - loss: 0.1501 - accuracy: 0.9614\n",
      "Epoch 3/20\n",
      "48000/48000 [==============================] - 8s 160us/sample - loss: 0.1101 - accuracy: 0.9728\n",
      "Epoch 4/20\n",
      "48000/48000 [==============================] - 8s 157us/sample - loss: 0.0936 - accuracy: 0.9768\n",
      "Epoch 5/20\n",
      "48000/48000 [==============================] - 8s 166us/sample - loss: 0.0769 - accuracy: 0.9812\n",
      "Epoch 6/20\n",
      "48000/48000 [==============================] - 8s 158us/sample - loss: 0.0731 - accuracy: 0.9829\n",
      "Epoch 7/20\n",
      "48000/48000 [==============================] - 8s 159us/sample - loss: 0.0649 - accuracy: 0.9858\n",
      "Epoch 8/20\n",
      "48000/48000 [==============================] - 8s 159us/sample - loss: 0.0591 - accuracy: 0.9868\n",
      "Epoch 9/20\n",
      "48000/48000 [==============================] - 8s 160us/sample - loss: 0.0486 - accuracy: 0.9882\n",
      "Epoch 10/20\n",
      "48000/48000 [==============================] - 8s 160us/sample - loss: 0.0479 - accuracy: 0.9888\n",
      "Epoch 11/20\n",
      "48000/48000 [==============================] - 8s 157us/sample - loss: 0.0473 - accuracy: 0.9898\n",
      "Epoch 12/20\n",
      "48000/48000 [==============================] - 8s 160us/sample - loss: 0.0466 - accuracy: 0.9900\n",
      "Epoch 13/20\n",
      "48000/48000 [==============================] - 7s 156us/sample - loss: 0.0400 - accuracy: 0.9918\n",
      "Epoch 14/20\n",
      "48000/48000 [==============================] - 8s 158us/sample - loss: 0.0414 - accuracy: 0.9907\n",
      "Epoch 15/20\n",
      "48000/48000 [==============================] - 8s 158us/sample - loss: 0.0399 - accuracy: 0.9918\n",
      "Epoch 16/20\n",
      "48000/48000 [==============================] - 7s 156us/sample - loss: 0.0498 - accuracy: 0.9913\n",
      "Epoch 17/20\n",
      "48000/48000 [==============================] - 8s 158us/sample - loss: 0.0336 - accuracy: 0.9933\n",
      "Epoch 18/20\n",
      "48000/48000 [==============================] - 8s 158us/sample - loss: 0.0451 - accuracy: 0.9910\n",
      "Epoch 19/20\n",
      "48000/48000 [==============================] - 8s 162us/sample - loss: 0.0292 - accuracy: 0.9939\n",
      "Epoch 20/20\n",
      "48000/48000 [==============================] - 8s 169us/sample - loss: 0.0514 - accuracy: 0.9912\n",
      "12000/12000 [==============================] - 1s 104us/sample - loss: 0.1766 - accuracy: 0.9746\n",
      "Train on 48000 samples\n",
      "Epoch 1/20\n",
      "48000/48000 [==============================] - 8s 168us/sample - loss: 0.3075 - accuracy: 0.9155\n",
      "Epoch 2/20\n",
      "48000/48000 [==============================] - 7s 156us/sample - loss: 0.1507 - accuracy: 0.9619\n",
      "Epoch 3/20\n",
      "48000/48000 [==============================] - 8s 157us/sample - loss: 0.1163 - accuracy: 0.9702\n",
      "Epoch 4/20\n",
      "48000/48000 [==============================] - 8s 160us/sample - loss: 0.0947 - accuracy: 0.9761\n",
      "Epoch 5/20\n",
      "48000/48000 [==============================] - 7s 155us/sample - loss: 0.0782 - accuracy: 0.9801\n",
      "Epoch 6/20\n",
      "48000/48000 [==============================] - 7s 154us/sample - loss: 0.0705 - accuracy: 0.9835\n",
      "Epoch 7/20\n",
      "48000/48000 [==============================] - 7s 155us/sample - loss: 0.0595 - accuracy: 0.9863\n",
      "Epoch 8/20\n",
      "48000/48000 [==============================] - 7s 154us/sample - loss: 0.0537 - accuracy: 0.9875\n",
      "Epoch 9/20\n",
      "48000/48000 [==============================] - 7s 156us/sample - loss: 0.0487 - accuracy: 0.9888\n",
      "Epoch 10/20\n",
      "48000/48000 [==============================] - 7s 155us/sample - loss: 0.0474 - accuracy: 0.9894\n",
      "Epoch 11/20\n",
      "48000/48000 [==============================] - 7s 155us/sample - loss: 0.0461 - accuracy: 0.9900\n",
      "Epoch 12/20\n",
      "48000/48000 [==============================] - 7s 155us/sample - loss: 0.0414 - accuracy: 0.9910\n",
      "Epoch 13/20\n",
      "48000/48000 [==============================] - 7s 154us/sample - loss: 0.0413 - accuracy: 0.9909\n",
      "Epoch 14/20\n",
      "48000/48000 [==============================] - 8s 164us/sample - loss: 0.0399 - accuracy: 0.9912\n",
      "Epoch 15/20\n",
      "48000/48000 [==============================] - 7s 155us/sample - loss: 0.0398 - accuracy: 0.9920\n",
      "Epoch 16/20\n",
      "48000/48000 [==============================] - 7s 154us/sample - loss: 0.0415 - accuracy: 0.9919\n",
      "Epoch 17/20\n",
      "48000/48000 [==============================] - 7s 154us/sample - loss: 0.0306 - accuracy: 0.9936\n",
      "Epoch 18/20\n",
      "48000/48000 [==============================] - 7s 155us/sample - loss: 0.0409 - accuracy: 0.9923\n",
      "Epoch 19/20\n",
      "48000/48000 [==============================] - 7s 155us/sample - loss: 0.0329 - accuracy: 0.9938\n",
      "Epoch 20/20\n",
      "48000/48000 [==============================] - 7s 155us/sample - loss: 0.0331 - accuracy: 0.9936\n",
      "12000/12000 [==============================] - 1s 101us/sample - loss: 0.1608 - accuracy: 0.9750\n",
      "Train on 48000 samples\n",
      "Epoch 1/20\n",
      "48000/48000 [==============================] - 8s 161us/sample - loss: 0.3289 - accuracy: 0.9117\n",
      "Epoch 2/20\n",
      "48000/48000 [==============================] - 7s 153us/sample - loss: 0.1547 - accuracy: 0.9620\n",
      "Epoch 3/20\n",
      "48000/48000 [==============================] - 7s 153us/sample - loss: 0.1168 - accuracy: 0.9711\n",
      "Epoch 4/20\n",
      "48000/48000 [==============================] - 7s 153us/sample - loss: 0.0954 - accuracy: 0.9765\n",
      "Epoch 5/20\n",
      "48000/48000 [==============================] - 7s 153us/sample - loss: 0.0780 - accuracy: 0.9809\n",
      "Epoch 6/20\n",
      "48000/48000 [==============================] - 7s 153us/sample - loss: 0.0713 - accuracy: 0.9832\n",
      "Epoch 7/20\n",
      "48000/48000 [==============================] - 7s 153us/sample - loss: 0.0603 - accuracy: 0.9858\n",
      "Epoch 8/20\n",
      "48000/48000 [==============================] - 7s 153us/sample - loss: 0.0569 - accuracy: 0.9868\n",
      "Epoch 9/20\n",
      "48000/48000 [==============================] - 7s 154us/sample - loss: 0.0539 - accuracy: 0.9874\n",
      "Epoch 10/20\n",
      "48000/48000 [==============================] - 7s 153us/sample - loss: 0.0511 - accuracy: 0.9889\n",
      "Epoch 11/20\n",
      "48000/48000 [==============================] - 7s 153us/sample - loss: 0.0475 - accuracy: 0.9901\n",
      "Epoch 12/20\n"
     ]
    },
    {
     "name": "stdout",
     "output_type": "stream",
     "text": [
      "48000/48000 [==============================] - 7s 150us/sample - loss: 0.0437 - accuracy: 0.9910\n",
      "Epoch 13/20\n",
      "48000/48000 [==============================] - 7s 150us/sample - loss: 0.0451 - accuracy: 0.9902\n",
      "Epoch 14/20\n",
      "48000/48000 [==============================] - 7s 150us/sample - loss: 0.0377 - accuracy: 0.9916\n",
      "Epoch 15/20\n",
      "48000/48000 [==============================] - 7s 150us/sample - loss: 0.0356 - accuracy: 0.9926\n",
      "Epoch 16/20\n",
      "48000/48000 [==============================] - 7s 150us/sample - loss: 0.0364 - accuracy: 0.9923\n",
      "Epoch 17/20\n",
      "48000/48000 [==============================] - 7s 150us/sample - loss: 0.0430 - accuracy: 0.9915\n",
      "Epoch 18/20\n",
      "48000/48000 [==============================] - 7s 149us/sample - loss: 0.0328 - accuracy: 0.9925\n",
      "Epoch 19/20\n",
      "48000/48000 [==============================] - 7s 150us/sample - loss: 0.0303 - accuracy: 0.9939\n",
      "Epoch 20/20\n",
      "48000/48000 [==============================] - 7s 150us/sample - loss: 0.0418 - accuracy: 0.9924\n",
      "12000/12000 [==============================] - 1s 100us/sample - loss: 0.3052 - accuracy: 0.9729\n",
      "Train on 48000 samples\n",
      "Epoch 1/20\n",
      "48000/48000 [==============================] - 8s 158us/sample - loss: 0.3319 - accuracy: 0.9097\n",
      "Epoch 2/20\n",
      "48000/48000 [==============================] - 7s 151us/sample - loss: 0.1557 - accuracy: 0.9602\n",
      "Epoch 3/20\n",
      "48000/48000 [==============================] - 7s 151us/sample - loss: 0.1179 - accuracy: 0.9709\n",
      "Epoch 4/20\n",
      "48000/48000 [==============================] - 7s 150us/sample - loss: 0.0931 - accuracy: 0.9769\n",
      "Epoch 5/20\n",
      "48000/48000 [==============================] - 7s 152us/sample - loss: 0.0808 - accuracy: 0.9798\n",
      "Epoch 6/20\n",
      "48000/48000 [==============================] - 7s 153us/sample - loss: 0.0736 - accuracy: 0.9825\n",
      "Epoch 7/20\n",
      "48000/48000 [==============================] - 7s 154us/sample - loss: 0.0670 - accuracy: 0.9848\n",
      "Epoch 8/20\n",
      "48000/48000 [==============================] - 7s 154us/sample - loss: 0.0587 - accuracy: 0.9866\n",
      "Epoch 9/20\n",
      "48000/48000 [==============================] - 7s 150us/sample - loss: 0.0519 - accuracy: 0.9886\n",
      "Epoch 10/20\n",
      "48000/48000 [==============================] - 7s 151us/sample - loss: 0.0466 - accuracy: 0.9889\n",
      "Epoch 11/20\n",
      "48000/48000 [==============================] - 7s 151us/sample - loss: 0.0486 - accuracy: 0.9898\n",
      "Epoch 12/20\n",
      "48000/48000 [==============================] - 7s 151us/sample - loss: 0.0434 - accuracy: 0.9901\n",
      "Epoch 13/20\n",
      "48000/48000 [==============================] - 7s 151us/sample - loss: 0.0459 - accuracy: 0.9902\n",
      "Epoch 14/20\n",
      "48000/48000 [==============================] - 7s 151us/sample - loss: 0.0412 - accuracy: 0.9913\n",
      "Epoch 15/20\n",
      "48000/48000 [==============================] - 7s 151us/sample - loss: 0.0368 - accuracy: 0.9925\n",
      "Epoch 16/20\n",
      "48000/48000 [==============================] - 7s 151us/sample - loss: 0.0387 - accuracy: 0.9917\n",
      "Epoch 17/20\n",
      "48000/48000 [==============================] - 7s 151us/sample - loss: 0.0384 - accuracy: 0.9923\n",
      "Epoch 18/20\n",
      "48000/48000 [==============================] - 7s 151us/sample - loss: 0.0377 - accuracy: 0.9920\n",
      "Epoch 19/20\n",
      "48000/48000 [==============================] - 7s 151us/sample - loss: 0.0312 - accuracy: 0.9937\n",
      "Epoch 20/20\n",
      "48000/48000 [==============================] - 7s 151us/sample - loss: 0.0389 - accuracy: 0.9926\n",
      "12000/12000 [==============================] - 1s 101us/sample - loss: 0.1758 - accuracy: 0.9768\n"
     ]
    }
   ],
   "source": [
    "from tensorflow.keras.wrappers.scikit_learn import KerasClassifier\n",
    "\n",
    "# KerasClassifier(딥러닝 모델 함수, epochs, batch_size)\n",
    "#딥러닝은 모델을 직접 설계한 것을 집어넣어야하기 때문에 함수를 만듬\n",
    "model3=KerasClassifier(build_fn = deep_model, epochs = 20, batch_size = 10)\n",
    "\n",
    "# cross_val_score(모델, 학습데이터, 정답데이터, cv = Kfold를 사용한 변수)\n",
    "#\n",
    "# 몇개로 어떻게 구분할건인지\n",
    "#KForld(n_split = 몇개로 나눌것인지, shuffle = 데이터를 섞을건지 rnadomstate)\n",
    "fold = KFold(n_splits = 5,shuffle= True,random_state=0)\n",
    "\n",
    "score =cross_val_score(model3,X_train,y_train,cv=fold)"
   ]
  },
  {
   "cell_type": "code",
   "execution_count": 45,
   "id": "4bf2fa53",
   "metadata": {},
   "outputs": [
    {
     "data": {
      "text/plain": [
       "array([0.98116666, 0.97458333, 0.97500002, 0.97291666, 0.97675002])"
      ]
     },
     "execution_count": 45,
     "metadata": {},
     "output_type": "execute_result"
    }
   ],
   "source": [
    "score"
   ]
  },
  {
   "cell_type": "markdown",
   "id": "a34f2bc0",
   "metadata": {},
   "source": [
    "### 베스트 모델 찾아서 저장하기"
   ]
  },
  {
   "cell_type": "code",
   "execution_count": 46,
   "id": "0f4b57ab",
   "metadata": {},
   "outputs": [],
   "source": [
    "import os \n",
    "from tensorflow.keras.callbacks import ModelCheckpoint,EarlyStopping\n",
    "\n",
    "# 모델을 저장할 폴더명\n",
    "MODEL_FOLDER = './model'\n",
    "\n",
    "# 해당 폴더가 없다면 해당 폴더를 생성\n",
    "if not os.path.exists(MODEL_FOLDER) :\n",
    "    os.mkdir(MODEL_FOLDER)"
   ]
  },
  {
   "cell_type": "code",
   "execution_count": 53,
   "id": "f20ab567",
   "metadata": {},
   "outputs": [],
   "source": [
    "# 저장할 파일 명 설정\n",
    " #{epoch:04d} : 반복수를 4자리로 표시\n",
    "# {val_accuracy:.4f}:검증 정확도를 소수점 4째자리까지 표시\n",
    "#hdf5 파일형식\n",
    "modelpath = MODEL_FOLDER + './handnum-{epoch:04d}-{val_accuracy:4f}.hdf5'"
   ]
  },
  {
   "cell_type": "code",
   "execution_count": 54,
   "id": "5cffef40",
   "metadata": {},
   "outputs": [],
   "source": [
    "# 베스트 모델을 찾아서 만들어둔 파일 명으로 저장\n",
    "# ModelCheckpoint(filepath = 파일 경로, monitor = 기준값,save_bast_only=True)\n",
    "#save_bast_only=True : 더 나은 결과값만 저장\n",
    "mc = ModelCheckpoint(filepath = modelpath,\n",
    "                    monitor = 'val_accuracy',\n",
    "                    save_best_only = True,\n",
    "                    verbose = 1) #verbose=1 진행결과를 보지 않겠다"
   ]
  },
  {
   "cell_type": "code",
   "execution_count": 55,
   "id": "c3c92da8",
   "metadata": {},
   "outputs": [],
   "source": [
    "# EarlyStopping(monitor,patience = 기다리는 횟수)\n",
    "# patience = 20 : monitor 에 적은 기준에 따라 학습 결과가 더 나아지지 않더라도 \n",
    "#20번은 돌려보겠다.\n",
    "# patience가 있어야지만 조금씩 나아진 결과를 확인할 수 있다.\n",
    "#EarlyStopping 한 번 안좋아지면 멈춤\n",
    "es = EarlyStopping(monitor='val_accuracy',\n",
    "                  patience = 20)"
   ]
  },
  {
   "cell_type": "code",
   "execution_count": 56,
   "id": "067b24b8",
   "metadata": {},
   "outputs": [
    {
     "name": "stdout",
     "output_type": "stream",
     "text": [
      "Train on 40199 samples, validate on 19801 samples\n",
      "Epoch 1/1000\n",
      "38900/40199 [============================>.] - ETA: 0s - loss: 0.0124 - accuracy: 0.9986\n",
      "Epoch 00001: val_accuracy improved from -inf to 0.98899, saving model to ./model./handnum-0001-0.988990.hdf5\n",
      "40199/40199 [==============================] - 2s 51us/sample - loss: 0.0128 - accuracy: 0.9985 - val_loss: 0.0530 - val_accuracy: 0.9890\n",
      "Epoch 2/1000\n",
      "39200/40199 [============================>.] - ETA: 0s - loss: 0.0089 - accuracy: 0.9985\n",
      "Epoch 00002: val_accuracy improved from 0.98899 to 0.99020, saving model to ./model./handnum-0002-0.990202.hdf5\n",
      "40199/40199 [==============================] - 2s 52us/sample - loss: 0.0092 - accuracy: 0.9984 - val_loss: 0.0704 - val_accuracy: 0.9902\n",
      "Epoch 3/1000\n",
      "39500/40199 [============================>.] - ETA: 0s - loss: 0.0087 - accuracy: 0.9985\n",
      "Epoch 00003: val_accuracy improved from 0.99020 to 0.99187, saving model to ./model./handnum-0003-0.991869.hdf5\n",
      "40199/40199 [==============================] - 2s 55us/sample - loss: 0.0085 - accuracy: 0.9985 - val_loss: 0.0521 - val_accuracy: 0.9919\n",
      "Epoch 4/1000\n",
      "40150/40199 [============================>.] - ETA: 0s - loss: 0.0075 - accuracy: 0.9990\n",
      "Epoch 00004: val_accuracy did not improve from 0.99187\n",
      "40199/40199 [==============================] - 2s 50us/sample - loss: 0.0075 - accuracy: 0.9990 - val_loss: 0.0642 - val_accuracy: 0.9907\n",
      "Epoch 5/1000\n",
      "39900/40199 [============================>.] - ETA: 0s - loss: 0.0100 - accuracy: 0.9986\n",
      "Epoch 00005: val_accuracy improved from 0.99187 to 0.99227, saving model to ./model./handnum-0005-0.992273.hdf5\n",
      "40199/40199 [==============================] - 2s 49us/sample - loss: 0.0099 - accuracy: 0.9986 - val_loss: 0.0583 - val_accuracy: 0.9923\n",
      "Epoch 6/1000\n",
      "38700/40199 [===========================>..] - ETA: 0s - loss: 0.0034 - accuracy: 0.9995\n",
      "Epoch 00006: val_accuracy did not improve from 0.99227\n",
      "40199/40199 [==============================] - 2s 47us/sample - loss: 0.0035 - accuracy: 0.9994 - val_loss: 0.0956 - val_accuracy: 0.9878\n",
      "Epoch 7/1000\n",
      "39950/40199 [============================>.] - ETA: 0s - loss: 0.0064 - accuracy: 0.9988\n",
      "Epoch 00007: val_accuracy did not improve from 0.99227\n",
      "40199/40199 [==============================] - 2s 47us/sample - loss: 0.0069 - accuracy: 0.9988 - val_loss: 0.0709 - val_accuracy: 0.9907\n",
      "Epoch 8/1000\n",
      "38800/40199 [===========================>..] - ETA: 0s - loss: 0.0025 - accuracy: 0.9996\n",
      "Epoch 00008: val_accuracy improved from 0.99227 to 0.99303, saving model to ./model./handnum-0008-0.993031.hdf5\n",
      "40199/40199 [==============================] - 2s 48us/sample - loss: 0.0024 - accuracy: 0.9997 - val_loss: 0.0556 - val_accuracy: 0.9930\n",
      "Epoch 9/1000\n",
      "38650/40199 [===========================>..] - ETA: 0s - loss: 0.0017 - accuracy: 0.9997\n",
      "Epoch 00009: val_accuracy did not improve from 0.99303\n",
      "40199/40199 [==============================] - 2s 47us/sample - loss: 0.0017 - accuracy: 0.9997 - val_loss: 0.0742 - val_accuracy: 0.9909\n",
      "Epoch 10/1000\n",
      "38900/40199 [============================>.] - ETA: 0s - loss: 0.0092 - accuracy: 0.9985\n",
      "Epoch 00010: val_accuracy did not improve from 0.99303\n",
      "40199/40199 [==============================] - 2s 46us/sample - loss: 0.0092 - accuracy: 0.9985 - val_loss: 0.1175 - val_accuracy: 0.9865\n",
      "Epoch 11/1000\n",
      "38750/40199 [===========================>..] - ETA: 0s - loss: 0.0137 - accuracy: 0.9975\n",
      "Epoch 00011: val_accuracy did not improve from 0.99303\n",
      "40199/40199 [==============================] - 2s 47us/sample - loss: 0.0133 - accuracy: 0.9976 - val_loss: 0.0661 - val_accuracy: 0.9896\n",
      "Epoch 12/1000\n",
      "38850/40199 [===========================>..] - ETA: 0s - loss: 0.0068 - accuracy: 0.9991\n",
      "Epoch 00012: val_accuracy did not improve from 0.99303\n",
      "40199/40199 [==============================] - 2s 46us/sample - loss: 0.0066 - accuracy: 0.9992 - val_loss: 0.0608 - val_accuracy: 0.9906\n",
      "Epoch 13/1000\n",
      "38850/40199 [===========================>..] - ETA: 0s - loss: 0.0068 - accuracy: 0.9992\n",
      "Epoch 00013: val_accuracy did not improve from 0.99303\n",
      "40199/40199 [==============================] - 2s 47us/sample - loss: 0.0066 - accuracy: 0.9992 - val_loss: 0.0793 - val_accuracy: 0.9909\n",
      "Epoch 14/1000\n",
      "38700/40199 [===========================>..] - ETA: 0s - loss: 0.0025 - accuracy: 0.9996\n",
      "Epoch 00014: val_accuracy did not improve from 0.99303\n",
      "40199/40199 [==============================] - 2s 47us/sample - loss: 0.0024 - accuracy: 0.9996 - val_loss: 0.0817 - val_accuracy: 0.9919\n",
      "Epoch 15/1000\n",
      "38800/40199 [===========================>..] - ETA: 0s - loss: 0.0013 - accuracy: 0.9997\n",
      "Epoch 00015: val_accuracy did not improve from 0.99303\n",
      "40199/40199 [==============================] - 2s 47us/sample - loss: 0.0013 - accuracy: 0.9998 - val_loss: 0.0689 - val_accuracy: 0.9919\n",
      "Epoch 16/1000\n",
      "38900/40199 [============================>.] - ETA: 0s - loss: 0.0117 - accuracy: 0.9990\n",
      "Epoch 00016: val_accuracy did not improve from 0.99303\n",
      "40199/40199 [==============================] - 2s 47us/sample - loss: 0.0117 - accuracy: 0.9990 - val_loss: 0.1172 - val_accuracy: 0.9881\n",
      "Epoch 17/1000\n",
      "38800/40199 [===========================>..] - ETA: 0s - loss: 0.0087 - accuracy: 0.9988\n",
      "Epoch 00017: val_accuracy did not improve from 0.99303\n",
      "40199/40199 [==============================] - 2s 47us/sample - loss: 0.0089 - accuracy: 0.9987 - val_loss: 0.0759 - val_accuracy: 0.9891\n",
      "Epoch 18/1000\n",
      "39150/40199 [============================>.] - ETA: 0s - loss: 0.0049 - accuracy: 0.9992\n",
      "Epoch 00018: val_accuracy did not improve from 0.99303\n",
      "40199/40199 [==============================] - 2s 47us/sample - loss: 0.0049 - accuracy: 0.9991 - val_loss: 0.1161 - val_accuracy: 0.9892\n",
      "Epoch 19/1000\n",
      "39450/40199 [============================>.] - ETA: 0s - loss: 0.0066 - accuracy: 0.9992\n",
      "Epoch 00019: val_accuracy did not improve from 0.99303\n",
      "40199/40199 [==============================] - 2s 47us/sample - loss: 0.0065 - accuracy: 0.9992 - val_loss: 0.0886 - val_accuracy: 0.9912\n",
      "Epoch 20/1000\n",
      "39500/40199 [============================>.] - ETA: 0s - loss: 0.0252 - accuracy: 0.9980\n",
      "Epoch 00020: val_accuracy did not improve from 0.99303\n",
      "40199/40199 [==============================] - 2s 46us/sample - loss: 0.0248 - accuracy: 0.9981 - val_loss: 0.1021 - val_accuracy: 0.9892\n",
      "Epoch 21/1000\n",
      "39400/40199 [============================>.] - ETA: 0s - loss: 0.0073 - accuracy: 0.9986\n",
      "Epoch 00021: val_accuracy did not improve from 0.99303\n",
      "40199/40199 [==============================] - 2s 46us/sample - loss: 0.0074 - accuracy: 0.9986 - val_loss: 0.0900 - val_accuracy: 0.9895\n",
      "Epoch 22/1000\n",
      "39300/40199 [============================>.] - ETA: 0s - loss: 0.0084 - accuracy: 0.9987\n",
      "Epoch 00022: val_accuracy did not improve from 0.99303\n",
      "40199/40199 [==============================] - 2s 50us/sample - loss: 0.0086 - accuracy: 0.9987 - val_loss: 0.0938 - val_accuracy: 0.9906\n",
      "Epoch 23/1000\n",
      "39400/40199 [============================>.] - ETA: 0s - loss: 0.0157 - accuracy: 0.9992\n",
      "Epoch 00023: val_accuracy did not improve from 0.99303\n",
      "40199/40199 [==============================] - 2s 51us/sample - loss: 0.0154 - accuracy: 0.9993 - val_loss: 0.1021 - val_accuracy: 0.9896\n",
      "Epoch 24/1000\n",
      "39900/40199 [============================>.] - ETA: 0s - loss: 0.0024 - accuracy: 0.9996\n",
      "Epoch 00024: val_accuracy did not improve from 0.99303\n",
      "40199/40199 [==============================] - 2s 51us/sample - loss: 0.0024 - accuracy: 0.9997 - val_loss: 0.0743 - val_accuracy: 0.9914\n",
      "Epoch 25/1000\n",
      "39450/40199 [============================>.] - ETA: 0s - loss: 0.0052 - accuracy: 0.9994\n",
      "Epoch 00025: val_accuracy did not improve from 0.99303\n",
      "40199/40199 [==============================] - 2s 57us/sample - loss: 0.0053 - accuracy: 0.9994 - val_loss: 0.1018 - val_accuracy: 0.9895\n",
      "Epoch 26/1000\n",
      "38850/40199 [===========================>..] - ETA: 0s - loss: 0.0148 - accuracy: 0.9980\n",
      "Epoch 00026: val_accuracy did not improve from 0.99303\n",
      "40199/40199 [==============================] - 2s 51us/sample - loss: 0.0144 - accuracy: 0.9980 - val_loss: 0.0927 - val_accuracy: 0.9887\n",
      "Epoch 27/1000\n",
      "39700/40199 [============================>.] - ETA: 0s - loss: 0.0074 - accuracy: 0.9990\n",
      "Epoch 00027: val_accuracy did not improve from 0.99303\n",
      "40199/40199 [==============================] - 2s 54us/sample - loss: 0.0075 - accuracy: 0.9990 - val_loss: 0.1196 - val_accuracy: 0.9893\n"
     ]
    },
    {
     "name": "stdout",
     "output_type": "stream",
     "text": [
      "Epoch 28/1000\n",
      "40050/40199 [============================>.] - ETA: 0s - loss: 0.0070 - accuracy: 0.9990\n",
      "Epoch 00028: val_accuracy did not improve from 0.99303\n",
      "40199/40199 [==============================] - 2s 50us/sample - loss: 0.0070 - accuracy: 0.9990 - val_loss: 0.0750 - val_accuracy: 0.9911\n"
     ]
    }
   ],
   "source": [
    "#학습\n",
    "#validation_split=0.33: 전체 데이터중에서 33%를 검증데이터로 활용 평가\n",
    "history = model2.fit(X_train,y_train,epochs = 1000,batch_size = 50,\n",
    "                     validation_split=0.33,\n",
    "                    callbacks=[mc,es])"
   ]
  },
  {
   "cell_type": "code",
   "execution_count": null,
   "id": "b8c48010",
   "metadata": {},
   "outputs": [],
   "source": [
    "#저장할려면 모델 생성부터 다시 돌려야함"
   ]
  }
 ],
 "metadata": {
  "kernelspec": {
   "display_name": "Python 3",
   "language": "python",
   "name": "python3"
  },
  "language_info": {
   "codemirror_mode": {
    "name": "ipython",
    "version": 3
   },
   "file_extension": ".py",
   "mimetype": "text/x-python",
   "name": "python",
   "nbconvert_exporter": "python",
   "pygments_lexer": "ipython3",
   "version": "3.6.13"
  }
 },
 "nbformat": 4,
 "nbformat_minor": 5
}
